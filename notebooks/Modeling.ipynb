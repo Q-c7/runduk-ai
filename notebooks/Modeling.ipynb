{
 "cells": [
  {
   "cell_type": "code",
   "execution_count": 1,
   "id": "9d2da6c1",
   "metadata": {
    "pycharm": {
     "name": "#%%\n"
    }
   },
   "outputs": [],
   "source": [
    "%load_ext autoreload \n",
    "%autoreload 2"
   ]
  },
  {
   "cell_type": "code",
   "execution_count": 2,
   "id": "b739803a",
   "metadata": {
    "pycharm": {
     "name": "#%%\n"
    }
   },
   "outputs": [],
   "source": [
    "import requests\n",
    "import orjson \n",
    "import pandas as pd \n",
    "import polars as pl\n",
    "from time import sleep\n",
    "\n",
    "# x = requests.get('https://api.opendota.com/api/publicMatches', params={'less_than_match_id':7075980402})"
   ]
  },
  {
   "cell_type": "code",
   "execution_count": 3,
   "id": "a91401a6",
   "metadata": {
    "pycharm": {
     "name": "#%%\n"
    }
   },
   "outputs": [],
   "source": [
    "# from tqdm import tqdm\n",
    "\n",
    "# df = pl.read_parquet('../DATA/tmp_03.20.2023.10.08.35.parquet').to_pandas()\n",
    "# SET = set()\n",
    "# for idx, row in tqdm(df.iterrows()):\n",
    "#     SET.update(row['winner_team'])\n",
    "    \n",
    "# TRANSFORM = {hero_id : idx + 1 for idx, hero_id in enumerate(list(SET))}\n",
    "# TRANSFORM"
   ]
  },
  {
   "cell_type": "code",
   "execution_count": 4,
   "id": "a734373b",
   "metadata": {
    "pycharm": {
     "name": "#%%\n"
    }
   },
   "outputs": [],
   "source": [
    "df = pl.read_parquet('../DATA/tmp_04.23.2023.23.14.51.parquet')  # tmp_03.11.2023.03.58.04.parquet  \n",
    "df = df.to_pandas()\n",
    "df['avg_rank_tier'] = df['avg_rank_tier'].apply(lambda x: min(5, x // 10 - 1))\n",
    "df['avg_rank_tier']\n",
    "df = pl.from_pandas(df)\n",
    "DICTS = df.to_dicts()"
   ]
  },
  {
   "cell_type": "code",
   "execution_count": 5,
   "id": "a49931ab",
   "metadata": {
    "pycharm": {
     "name": "#%%\n"
    }
   },
   "outputs": [
    {
     "data": {
      "text/html": [
       "<div><style>\n",
       ".dataframe > thead > tr > th,\n",
       ".dataframe > tbody > tr > td {\n",
       "  text-align: right;\n",
       "}\n",
       "</style>\n",
       "<small>shape: (1_760_216, 11)</small><table border=\"1\" class=\"dataframe\"><thead><tr><th>match_id</th><th>match_seq_num</th><th>game_mode</th><th>start_time</th><th>duration</th><th>avg_rank_tier</th><th>avg_mmr</th><th>bans</th><th>winner_team</th><th>loser_team</th><th>radiant_won</th></tr><tr><td>i64</td><td>i64</td><td>i64</td><td>i64</td><td>i64</td><td>i64</td><td>f64</td><td>str</td><td>list[i64]</td><td>list[i64]</td><td>bool</td></tr></thead><tbody><tr><td>7122495812</td><td>5983460406</td><td>22</td><td>1682291924</td><td>1394</td><td>2</td><td>3130.0</td><td>null</td><td>[67, 79, … 2]</td><td>[1, 63, … 80]</td><td>false</td></tr><tr><td>7122494413</td><td>5983459057</td><td>22</td><td>1682291779</td><td>1408</td><td>3</td><td>2234.0</td><td>null</td><td>[40, 43, … 12]</td><td>[88, 135, … 34]</td><td>true</td></tr><tr><td>7122497312</td><td>5983460085</td><td>22</td><td>1682292069</td><td>1197</td><td>2</td><td>null</td><td>null</td><td>[42, 45, … 94]</td><td>[27, 104, … 47]</td><td>false</td></tr><tr><td>7122494606</td><td>5983459115</td><td>22</td><td>1682291808</td><td>1378</td><td>5</td><td>3502.0</td><td>null</td><td>[57, 40, … 66]</td><td>[30, 13, … 105]</td><td>false</td></tr><tr><td>7122496209</td><td>5983460222</td><td>22</td><td>1682291965</td><td>1350</td><td>2</td><td>3417.0</td><td>null</td><td>[36, 111, … 18]</td><td>[70, 40, … 23]</td><td>false</td></tr><tr><td>7122493704</td><td>5983460241</td><td>22</td><td>1682291724</td><td>1576</td><td>3</td><td>2571.0</td><td>null</td><td>[64, 108, … 32]</td><td>[105, 96, … 111]</td><td>true</td></tr><tr><td>7122496201</td><td>5983460641</td><td>4</td><td>1682291965</td><td>1406</td><td>4</td><td>1948.0</td><td>null</td><td>[84, 36, … 126]</td><td>[96, 39, … 1]</td><td>false</td></tr><tr><td>7122494902</td><td>5983459013</td><td>22</td><td>1682291828</td><td>1340</td><td>3</td><td>null</td><td>null</td><td>[77, 138, … 66]</td><td>[63, 39, … 104]</td><td>true</td></tr><tr><td>7122494112</td><td>5983459669</td><td>4</td><td>1682291764</td><td>1506</td><td>2</td><td>1306.0</td><td>null</td><td>[85, 47, … 58]</td><td>[17, 54, … 76]</td><td>false</td></tr><tr><td>7122494000</td><td>5983462823</td><td>22</td><td>1682291753</td><td>1814</td><td>2</td><td>3158.0</td><td>null</td><td>[14, 102, … 100]</td><td>[104, 21, … 64]</td><td>false</td></tr><tr><td>7122494310</td><td>5983464285</td><td>22</td><td>1682291784</td><td>1926</td><td>3</td><td>2631.0</td><td>null</td><td>[12, 99, … 35]</td><td>[14, 46, … 104]</td><td>false</td></tr><tr><td>7122496917</td><td>5983463252</td><td>22</td><td>1682292035</td><td>1548</td><td>5</td><td>2548.0</td><td>null</td><td>[13, 105, … 32]</td><td>[36, 121, … 137]</td><td>false</td></tr><tr><td>&hellip;</td><td>&hellip;</td><td>&hellip;</td><td>&hellip;</td><td>&hellip;</td><td>&hellip;</td><td>&hellip;</td><td>&hellip;</td><td>&hellip;</td><td>&hellip;</td><td>&hellip;</td></tr><tr><td>7151787513</td><td>6009421606</td><td>22</td><td>1683936716</td><td>3211</td><td>3</td><td>3351.0</td><td>null</td><td>[100, 22, … 84]</td><td>[40, 85, … 14]</td><td>false</td></tr><tr><td>7151788807</td><td>6009424319</td><td>22</td><td>1683936856</td><td>3390</td><td>3</td><td>null</td><td>null</td><td>[17, 138, … 1]</td><td>[50, 6, … 9]</td><td>true</td></tr><tr><td>7151784615</td><td>6009425566</td><td>22</td><td>1683936406</td><td>3937</td><td>3</td><td>3980.0</td><td>null</td><td>[76, 68, … 5]</td><td>[137, 14, … 93]</td><td>false</td></tr><tr><td>7151787203</td><td>6009425687</td><td>22</td><td>1683936666</td><td>3668</td><td>2</td><td>null</td><td>null</td><td>[42, 22, … 27]</td><td>[35, 5, … 12]</td><td>false</td></tr><tr><td>7151788916</td><td>6009426340</td><td>22</td><td>1683936872</td><td>3574</td><td>3</td><td>3322.0</td><td>null</td><td>[50, 120, … 37]</td><td>[67, 2, … 62]</td><td>false</td></tr><tr><td>7151785318</td><td>6009427460</td><td>22</td><td>1683936486</td><td>4064</td><td>2</td><td>1462.0</td><td>null</td><td>[111, 27, … 93]</td><td>[1, 35, … 55]</td><td>true</td></tr><tr><td>7151781201</td><td>6009429072</td><td>22</td><td>1683936025</td><td>4746</td><td>3</td><td>null</td><td>null</td><td>[101, 1, … 137]</td><td>[14, 57, … 30]</td><td>false</td></tr><tr><td>7151785300</td><td>6009427050</td><td>22</td><td>1683936481</td><td>4101</td><td>3</td><td>2398.0</td><td>null</td><td>[30, 35, … 2]</td><td>[85, 99, … 17]</td><td>false</td></tr><tr><td>7151789008</td><td>6009428269</td><td>22</td><td>1683936882</td><td>3644</td><td>5</td><td>4090.0</td><td>null</td><td>[14, 81, … 41]</td><td>[8, 63, … 123]</td><td>false</td></tr><tr><td>7151788214</td><td>6009430573</td><td>22</td><td>1683936791</td><td>4128</td><td>2</td><td>1986.0</td><td>null</td><td>[113, 101, … 70]</td><td>[47, 63, … 121]</td><td>false</td></tr><tr><td>7151788810</td><td>6009431133</td><td>22</td><td>1683936856</td><td>4088</td><td>4</td><td>null</td><td>null</td><td>[102, 35, … 97]</td><td>[76, 123, … 105]</td><td>true</td></tr><tr><td>7151780916</td><td>6009647471</td><td>22</td><td>1683935996</td><td>2045</td><td>5</td><td>3985.0</td><td>null</td><td>[113, 31, … 40]</td><td>[126, 67, … 88]</td><td>false</td></tr></tbody></table></div>"
      ],
      "text/plain": [
       "shape: (1_760_216, 11)\n",
       "┌─────────────┬────────────┬───────────┬──────────┬───┬──────┬───────────┬─────────────┬───────────┐\n",
       "│ match_id    ┆ match_seq_ ┆ game_mode ┆ start_ti ┆ … ┆ bans ┆ winner_te ┆ loser_team  ┆ radiant_w │\n",
       "│ ---         ┆ num        ┆ ---       ┆ me       ┆   ┆ ---  ┆ am        ┆ ---         ┆ on        │\n",
       "│ i64         ┆ ---        ┆ i64       ┆ ---      ┆   ┆ str  ┆ ---       ┆ list[i64]   ┆ ---       │\n",
       "│             ┆ i64        ┆           ┆ i64      ┆   ┆      ┆ list[i64] ┆             ┆ bool      │\n",
       "╞═════════════╪════════════╪═══════════╪══════════╪═══╪══════╪═══════════╪═════════════╪═══════════╡\n",
       "│ 7122495812  ┆ 5983460406 ┆ 22        ┆ 16822919 ┆ … ┆ null ┆ [67, 79,  ┆ [1, 63, …   ┆ false     │\n",
       "│             ┆            ┆           ┆ 24       ┆   ┆      ┆ … 2]      ┆ 80]         ┆           │\n",
       "│ 7122494413  ┆ 5983459057 ┆ 22        ┆ 16822917 ┆ … ┆ null ┆ [40, 43,  ┆ [88, 135, … ┆ true      │\n",
       "│             ┆            ┆           ┆ 79       ┆   ┆      ┆ … 12]     ┆ 34]         ┆           │\n",
       "│ 7122497312  ┆ 5983460085 ┆ 22        ┆ 16822920 ┆ … ┆ null ┆ [42, 45,  ┆ [27, 104, … ┆ false     │\n",
       "│             ┆            ┆           ┆ 69       ┆   ┆      ┆ … 94]     ┆ 47]         ┆           │\n",
       "│ 7122494606  ┆ 5983459115 ┆ 22        ┆ 16822918 ┆ … ┆ null ┆ [57, 40,  ┆ [30, 13, …  ┆ false     │\n",
       "│             ┆            ┆           ┆ 08       ┆   ┆      ┆ … 66]     ┆ 105]        ┆           │\n",
       "│ …           ┆ …          ┆ …         ┆ …        ┆ … ┆ …    ┆ …         ┆ …           ┆ …         │\n",
       "│ 7151789008  ┆ 6009428269 ┆ 22        ┆ 16839368 ┆ … ┆ null ┆ [14, 81,  ┆ [8, 63, …   ┆ false     │\n",
       "│             ┆            ┆           ┆ 82       ┆   ┆      ┆ … 41]     ┆ 123]        ┆           │\n",
       "│ 7151788214  ┆ 6009430573 ┆ 22        ┆ 16839367 ┆ … ┆ null ┆ [113,     ┆ [47, 63, …  ┆ false     │\n",
       "│             ┆            ┆           ┆ 91       ┆   ┆      ┆ 101, …    ┆ 121]        ┆           │\n",
       "│             ┆            ┆           ┆          ┆   ┆      ┆ 70]       ┆             ┆           │\n",
       "│ 7151788810  ┆ 6009431133 ┆ 22        ┆ 16839368 ┆ … ┆ null ┆ [102, 35, ┆ [76, 123, … ┆ true      │\n",
       "│             ┆            ┆           ┆ 56       ┆   ┆      ┆ … 97]     ┆ 105]        ┆           │\n",
       "│ 7151780916  ┆ 6009647471 ┆ 22        ┆ 16839359 ┆ … ┆ null ┆ [113, 31, ┆ [126, 67, … ┆ false     │\n",
       "│             ┆            ┆           ┆ 96       ┆   ┆      ┆ … 40]     ┆ 88]         ┆           │\n",
       "└─────────────┴────────────┴───────────┴──────────┴───┴──────┴───────────┴─────────────┴───────────┘"
      ]
     },
     "execution_count": 5,
     "metadata": {},
     "output_type": "execute_result"
    }
   ],
   "source": [
    "df  #  (2433383, 11)"
   ]
  },
  {
   "cell_type": "code",
   "execution_count": 6,
   "id": "6f18645a",
   "metadata": {
    "pycharm": {
     "name": "#%%\n"
    }
   },
   "outputs": [
    {
     "data": {
      "text/html": [
       "<div><style>\n",
       ".dataframe > thead > tr > th,\n",
       ".dataframe > tbody > tr > td {\n",
       "  text-align: right;\n",
       "}\n",
       "</style>\n",
       "<small>shape: (6, 2)</small><table border=\"1\" class=\"dataframe\"><thead><tr><th>game_mode</th><th>counts</th></tr><tr><td>i64</td><td>u32</td></tr></thead><tbody><tr><td>1</td><td>5</td></tr><tr><td>2</td><td>1939</td></tr><tr><td>3</td><td>56215</td></tr><tr><td>4</td><td>69464</td></tr><tr><td>16</td><td>26</td></tr><tr><td>22</td><td>1632567</td></tr></tbody></table></div>"
      ],
      "text/plain": [
       "shape: (6, 2)\n",
       "┌───────────┬─────────┐\n",
       "│ game_mode ┆ counts  │\n",
       "│ ---       ┆ ---     │\n",
       "│ i64       ┆ u32     │\n",
       "╞═══════════╪═════════╡\n",
       "│ 1         ┆ 5       │\n",
       "│ 2         ┆ 1939    │\n",
       "│ 3         ┆ 56215   │\n",
       "│ 4         ┆ 69464   │\n",
       "│ 16        ┆ 26      │\n",
       "│ 22        ┆ 1632567 │\n",
       "└───────────┴─────────┘"
      ]
     },
     "execution_count": 6,
     "metadata": {},
     "output_type": "execute_result"
    }
   ],
   "source": [
    "df['game_mode'].value_counts()"
   ]
  },
  {
   "cell_type": "code",
   "execution_count": 7,
   "id": "c85ed82c",
   "metadata": {
    "pycharm": {
     "name": "#%%\n"
    }
   },
   "outputs": [
    {
     "data": {
      "text/plain": [
       "(1584194, 176022)"
      ]
     },
     "execution_count": 7,
     "metadata": {},
     "output_type": "execute_result"
    }
   ],
   "source": [
    "TEST_DICTS = DICTS[-len(DICTS) // 10:]\n",
    "TRAIN_DICTS = DICTS[:-len(DICTS) // 10]\n",
    "len(TRAIN_DICTS), len(TEST_DICTS)"
   ]
  },
  {
   "cell_type": "code",
   "execution_count": 8,
   "id": "d8e4df54",
   "metadata": {
    "pycharm": {
     "name": "#%%\n"
    }
   },
   "outputs": [],
   "source": [
    "from picker.model.dataset import TeamDataset"
   ]
  },
  {
   "cell_type": "code",
   "execution_count": 9,
   "id": "93446d2d",
   "metadata": {
    "pycharm": {
     "name": "#%%\n"
    }
   },
   "outputs": [],
   "source": [
    "# from tqdm import tqdm\n",
    "\n",
    "# df = pl.read_parquet('../DATA/tmp_03.20.2023.10.08.35.parquet').to_pandas()\n",
    "# SET = set()\n",
    "# for idx, row in tqdm(df.iterrows()):\n",
    "#     SET.update(row['winner_team'])\n",
    "    \n",
    "# TRANSFORM = {hero_id : idx + 1 for idx, hero_id in enumerate(list(SET))}\n",
    "# TRANSFORM"
   ]
  },
  {
   "cell_type": "code",
   "execution_count": 10,
   "id": "57c64188",
   "metadata": {
    "pycharm": {
     "name": "#%%\n"
    }
   },
   "outputs": [],
   "source": [
    "train_data = TeamDataset('', dicts_override=TRAIN_DICTS, p=0.2)\n",
    "test_data1 = TeamDataset('', dicts_override=TEST_DICTS, p=0.0)\n",
    "test_data2 = TeamDataset('', dicts_override=TEST_DICTS, p=0.2)"
   ]
  },
  {
   "cell_type": "code",
   "execution_count": 11,
   "id": "966ac411",
   "metadata": {
    "pycharm": {
     "name": "#%%\n"
    }
   },
   "outputs": [],
   "source": [
    "from picker.model.training_model import run_training\n",
    "from picker.model.transformer import TransformerModel\n",
    "from picker.model.constants import HERO_TRANSFORM"
   ]
  },
  {
   "cell_type": "code",
   "execution_count": 12,
   "id": "b0a72f7c",
   "metadata": {
    "pycharm": {
     "name": "#%%\n"
    }
   },
   "outputs": [],
   "source": [
    "# embedding_dict = {'team': [len(HERO_TRANSFORM) + 1, 15], 'enemy': [len(HERO_TRANSFORM) + 1, 32]} \n",
    "embedding_dict = {'team': [len(HERO_TRANSFORM) + 1, 32 - 3 - 1], 'rank': [6, 3]} \n",
    "model = TransformerModel(embedding_dict=embedding_dict, num_heads=8, num_layers=6,)"
   ]
  },
  {
   "cell_type": "code",
   "execution_count": 13,
   "id": "1dd3082b",
   "metadata": {
    "run_control": {
     "marked": true
    },
    "pycharm": {
     "name": "#%%\n"
    }
   },
   "outputs": [
    {
     "data": {
      "image/png": "[encoded data removed]",
      "text/plain": [
       "<Figure size 1600x600 with 2 Axes>"
      ]
     },
     "metadata": {},
     "output_type": "display_data"
    },
    {
     "name": "stdout",
     "output_type": "stream",
     "text": [
      "saved model to `trans-32-0.2-v2.pth`\n"
     ]
    }
   ],
   "source": [
    "from torch.nn import BCELoss, CrossEntropyLoss\n",
    "import torch\n",
    "\n",
    "run_training(model=model, name='trans-32-0.2-v2', train_data=train_data, test_datas=[test_data1, test_data2],\n",
    "             optimizer=torch.optim.Adam(model.parameters(), lr=3e-4),\n",
    "             criterion=CrossEntropyLoss(),\n",
    "             epochs=100, batch_size=1024 * 8, device='cuda:1')"
   ]
  },
  {
   "cell_type": "code",
   "execution_count": null,
   "id": "e3e001ef",
   "metadata": {
    "pycharm": {
     "name": "#%%\n"
    }
   },
   "outputs": [],
   "source": []
  },
  {
   "cell_type": "code",
   "execution_count": null,
   "id": "0278f35c",
   "metadata": {
    "pycharm": {
     "name": "#%%\n"
    }
   },
   "outputs": [],
   "source": []
  },
  {
   "cell_type": "code",
   "execution_count": 14,
   "id": "aa9e64eb",
   "metadata": {
    "pycharm": {
     "name": "#%%\n"
    }
   },
   "outputs": [],
   "source": [
    "import torch \n",
    "from picker.model.transformer import TransformerModel\n",
    "from picker.model.constants import HERO_TRANSFORM\n",
    "\n",
    "embedding_dict = {'team': [len(HERO_TRANSFORM) + 1, 32 - 3 - 1], 'rank': [6, 3]} \n",
    "model = TransformerModel(embedding_dict=embedding_dict, num_heads=8, num_layers=6,)\n",
    "model.load_state_dict(torch.load('trans-32-0.2-v2.pth'))\n",
    "\n",
    "model.to('cpu')\n",
    "model.eval()\n",
    "pass"
   ]
  },
  {
   "cell_type": "code",
   "execution_count": 15,
   "id": "7e5d2188",
   "metadata": {
    "pycharm": {
     "name": "#%%\n"
    }
   },
   "outputs": [],
   "source": [
    "# script = torch.jit.script(model)\n",
    "torch.save(model, 'trans-32-0.2-v2.raw_model') "
   ]
  },
  {
   "cell_type": "code",
   "execution_count": 16,
   "id": "b5a7f672",
   "metadata": {
    "pycharm": {
     "name": "#%%\n"
    }
   },
   "outputs": [
    {
     "name": "stdout",
     "output_type": "stream",
     "text": [
      "tensor([[0.4733, 0.5267]], grad_fn=<SoftmaxBackward0>) \n",
      " tensor([[0.4733, 0.5267]], grad_fn=<SoftmaxBackward0>) \n",
      " tensor([[0.5218, 0.4782]], grad_fn=<SoftmaxBackward0>)\n",
      "------------------------------------------------------------\n",
      "tensor([[0.4971, 0.5029]], grad_fn=<SoftmaxBackward0>) \n",
      " tensor([[0.4971, 0.5029]], grad_fn=<SoftmaxBackward0>) \n",
      " tensor([[0.5124, 0.4876]], grad_fn=<SoftmaxBackward0>)\n",
      "------------------------------------------------------------\n",
      "tensor([[0.5052, 0.4948]], grad_fn=<SoftmaxBackward0>) \n",
      " tensor([[0.5052, 0.4948]], grad_fn=<SoftmaxBackward0>) \n",
      " tensor([[0.4939, 0.5061]], grad_fn=<SoftmaxBackward0>)\n",
      "------------------------------------------------------------\n",
      "tensor([[0.4906, 0.5094]], grad_fn=<SoftmaxBackward0>) \n",
      " tensor([[0.4906, 0.5094]], grad_fn=<SoftmaxBackward0>) \n",
      " tensor([[0.5128, 0.4872]], grad_fn=<SoftmaxBackward0>)\n",
      "------------------------------------------------------------\n",
      "tensor([[0.5199, 0.4801]], grad_fn=<SoftmaxBackward0>) \n",
      " tensor([[0.5199, 0.4801]], grad_fn=<SoftmaxBackward0>) \n",
      " tensor([[0.4847, 0.5153]], grad_fn=<SoftmaxBackward0>)\n",
      "------------------------------------------------------------\n",
      "tensor([[0.5057, 0.4943]], grad_fn=<SoftmaxBackward0>) \n",
      " tensor([[0.5057, 0.4943]], grad_fn=<SoftmaxBackward0>) \n",
      " tensor([[0.4910, 0.5090]], grad_fn=<SoftmaxBackward0>)\n",
      "------------------------------------------------------------\n",
      "tensor([[0.4884, 0.5116]], grad_fn=<SoftmaxBackward0>) \n",
      " tensor([[0.4884, 0.5116]], grad_fn=<SoftmaxBackward0>) \n",
      " tensor([[0.5187, 0.4813]], grad_fn=<SoftmaxBackward0>)\n",
      "------------------------------------------------------------\n",
      "tensor([[0.5035, 0.4965]], grad_fn=<SoftmaxBackward0>) \n",
      " tensor([[0.5035, 0.4965]], grad_fn=<SoftmaxBackward0>) \n",
      " tensor([[0.5012, 0.4988]], grad_fn=<SoftmaxBackward0>)\n",
      "------------------------------------------------------------\n",
      "tensor([[0.4641, 0.5359]], grad_fn=<SoftmaxBackward0>) \n",
      " tensor([[0.4641, 0.5359]], grad_fn=<SoftmaxBackward0>) \n",
      " tensor([[0.5426, 0.4574]], grad_fn=<SoftmaxBackward0>)\n",
      "------------------------------------------------------------\n",
      "tensor([[0.5541, 0.4459]], grad_fn=<SoftmaxBackward0>) \n",
      " tensor([[0.5541, 0.4459]], grad_fn=<SoftmaxBackward0>) \n",
      " tensor([[0.4425, 0.5575]], grad_fn=<SoftmaxBackward0>)\n",
      "------------------------------------------------------------\n",
      "tensor([[0.5200, 0.4800]], grad_fn=<SoftmaxBackward0>) \n",
      " tensor([[0.5200, 0.4800]], grad_fn=<SoftmaxBackward0>) \n",
      " tensor([[0.4846, 0.5154]], grad_fn=<SoftmaxBackward0>)\n",
      "------------------------------------------------------------\n",
      "tensor([[0.5196, 0.4804]], grad_fn=<SoftmaxBackward0>) \n",
      " tensor([[0.5196, 0.4804]], grad_fn=<SoftmaxBackward0>) \n",
      " tensor([[0.4860, 0.5140]], grad_fn=<SoftmaxBackward0>)\n",
      "------------------------------------------------------------\n",
      "tensor([[0.5115, 0.4885]], grad_fn=<SoftmaxBackward0>) \n",
      " tensor([[0.5115, 0.4885]], grad_fn=<SoftmaxBackward0>) \n",
      " tensor([[0.4883, 0.5117]], grad_fn=<SoftmaxBackward0>)\n",
      "------------------------------------------------------------\n",
      "tensor([[0.4984, 0.5016]], grad_fn=<SoftmaxBackward0>) \n",
      " tensor([[0.4984, 0.5016]], grad_fn=<SoftmaxBackward0>) \n",
      " tensor([[0.5031, 0.4969]], grad_fn=<SoftmaxBackward0>)\n",
      "------------------------------------------------------------\n",
      "tensor([[0.5017, 0.4983]], grad_fn=<SoftmaxBackward0>) \n",
      " tensor([[0.5017, 0.4983]], grad_fn=<SoftmaxBackward0>) \n",
      " tensor([[0.5008, 0.4992]], grad_fn=<SoftmaxBackward0>)\n",
      "------------------------------------------------------------\n",
      "tensor([[0.5082, 0.4918]], grad_fn=<SoftmaxBackward0>) \n",
      " tensor([[0.5082, 0.4918]], grad_fn=<SoftmaxBackward0>) \n",
      " tensor([[0.5004, 0.4996]], grad_fn=<SoftmaxBackward0>)\n",
      "------------------------------------------------------------\n",
      "tensor([[0.5218, 0.4782]], grad_fn=<SoftmaxBackward0>) \n",
      " tensor([[0.5218, 0.4782]], grad_fn=<SoftmaxBackward0>) \n",
      " tensor([[0.4813, 0.5187]], grad_fn=<SoftmaxBackward0>)\n",
      "------------------------------------------------------------\n",
      "tensor([[0.5117, 0.4883]], grad_fn=<SoftmaxBackward0>) \n",
      " tensor([[0.5117, 0.4883]], grad_fn=<SoftmaxBackward0>) \n",
      " tensor([[0.4957, 0.5043]], grad_fn=<SoftmaxBackward0>)\n",
      "------------------------------------------------------------\n",
      "tensor([[0.5207, 0.4793]], grad_fn=<SoftmaxBackward0>) \n",
      " tensor([[0.5207, 0.4793]], grad_fn=<SoftmaxBackward0>) \n",
      " tensor([[0.4779, 0.5221]], grad_fn=<SoftmaxBackward0>)\n",
      "------------------------------------------------------------\n",
      "tensor([[0.5139, 0.4861]], grad_fn=<SoftmaxBackward0>) \n",
      " tensor([[0.5139, 0.4861]], grad_fn=<SoftmaxBackward0>) \n",
      " tensor([[0.4906, 0.5094]], grad_fn=<SoftmaxBackward0>)\n",
      "------------------------------------------------------------\n",
      "tensor([[0.5026, 0.4974]], grad_fn=<SoftmaxBackward0>) \n",
      " tensor([[0.5026, 0.4974]], grad_fn=<SoftmaxBackward0>) \n",
      " tensor([[0.4976, 0.5024]], grad_fn=<SoftmaxBackward0>)\n",
      "------------------------------------------------------------\n",
      "tensor([[0.5098, 0.4902]], grad_fn=<SoftmaxBackward0>) \n",
      " tensor([[0.5098, 0.4902]], grad_fn=<SoftmaxBackward0>) \n",
      " tensor([[0.4928, 0.5072]], grad_fn=<SoftmaxBackward0>)\n",
      "------------------------------------------------------------\n",
      "tensor([[0.5199, 0.4801]], grad_fn=<SoftmaxBackward0>) \n",
      " tensor([[0.5199, 0.4801]], grad_fn=<SoftmaxBackward0>) \n",
      " tensor([[0.4849, 0.5151]], grad_fn=<SoftmaxBackward0>)\n",
      "------------------------------------------------------------\n",
      "tensor([[0.6139, 0.3861]], grad_fn=<SoftmaxBackward0>) \n",
      " tensor([[0.6139, 0.3861]], grad_fn=<SoftmaxBackward0>) \n",
      " tensor([[0.4021, 0.5979]], grad_fn=<SoftmaxBackward0>)\n",
      "------------------------------------------------------------\n",
      "tensor([[0.5460, 0.4540]], grad_fn=<SoftmaxBackward0>) \n",
      " tensor([[0.5460, 0.4540]], grad_fn=<SoftmaxBackward0>) \n",
      " tensor([[0.4566, 0.5434]], grad_fn=<SoftmaxBackward0>)\n",
      "------------------------------------------------------------\n",
      "tensor([[0.4935, 0.5065]], grad_fn=<SoftmaxBackward0>) \n",
      " tensor([[0.4935, 0.5065]], grad_fn=<SoftmaxBackward0>) \n",
      " tensor([[0.5035, 0.4965]], grad_fn=<SoftmaxBackward0>)\n",
      "------------------------------------------------------------\n",
      "tensor([[0.4913, 0.5087]], grad_fn=<SoftmaxBackward0>) \n",
      " tensor([[0.4913, 0.5087]], grad_fn=<SoftmaxBackward0>) \n",
      " tensor([[0.5127, 0.4873]], grad_fn=<SoftmaxBackward0>)\n",
      "------------------------------------------------------------\n",
      "tensor([[0.5044, 0.4956]], grad_fn=<SoftmaxBackward0>) \n",
      " tensor([[0.5044, 0.4956]], grad_fn=<SoftmaxBackward0>) \n",
      " tensor([[0.5019, 0.4981]], grad_fn=<SoftmaxBackward0>)\n",
      "------------------------------------------------------------\n",
      "tensor([[0.5152, 0.4848]], grad_fn=<SoftmaxBackward0>) \n",
      " tensor([[0.5152, 0.4848]], grad_fn=<SoftmaxBackward0>) \n",
      " tensor([[0.4852, 0.5148]], grad_fn=<SoftmaxBackward0>)\n",
      "------------------------------------------------------------\n",
      "tensor([[0.4793, 0.5207]], grad_fn=<SoftmaxBackward0>) \n",
      " tensor([[0.4793, 0.5207]], grad_fn=<SoftmaxBackward0>) \n",
      " tensor([[0.5312, 0.4688]], grad_fn=<SoftmaxBackward0>)\n",
      "------------------------------------------------------------\n",
      "tensor([[0.4583, 0.5417]], grad_fn=<SoftmaxBackward0>) \n",
      " tensor([[0.4583, 0.5417]], grad_fn=<SoftmaxBackward0>) \n",
      " tensor([[0.5441, 0.4559]], grad_fn=<SoftmaxBackward0>)\n",
      "------------------------------------------------------------\n",
      "tensor([[0.4942, 0.5058]], grad_fn=<SoftmaxBackward0>) \n",
      " tensor([[0.4942, 0.5058]], grad_fn=<SoftmaxBackward0>) \n",
      " tensor([[0.5095, 0.4905]], grad_fn=<SoftmaxBackward0>)\n",
      "------------------------------------------------------------\n",
      "tensor([[0.4466, 0.5534]], grad_fn=<SoftmaxBackward0>) \n",
      " tensor([[0.4466, 0.5534]], grad_fn=<SoftmaxBackward0>) \n",
      " tensor([[0.5595, 0.4405]], grad_fn=<SoftmaxBackward0>)\n",
      "------------------------------------------------------------\n",
      "tensor([[0.5694, 0.4306]], grad_fn=<SoftmaxBackward0>) \n",
      " tensor([[0.5694, 0.4306]], grad_fn=<SoftmaxBackward0>) \n",
      " tensor([[0.4349, 0.5651]], grad_fn=<SoftmaxBackward0>)\n",
      "------------------------------------------------------------\n",
      "tensor([[0.4957, 0.5043]], grad_fn=<SoftmaxBackward0>) \n",
      " tensor([[0.4957, 0.5043]], grad_fn=<SoftmaxBackward0>) \n",
      " tensor([[0.5165, 0.4835]], grad_fn=<SoftmaxBackward0>)\n",
      "------------------------------------------------------------\n",
      "tensor([[0.4944, 0.5056]], grad_fn=<SoftmaxBackward0>) \n",
      " tensor([[0.4944, 0.5056]], grad_fn=<SoftmaxBackward0>) \n",
      " tensor([[0.5099, 0.4901]], grad_fn=<SoftmaxBackward0>)\n",
      "------------------------------------------------------------\n"
     ]
    },
    {
     "name": "stdout",
     "output_type": "stream",
     "text": [
      "tensor([[0.5011, 0.4989]], grad_fn=<SoftmaxBackward0>) \n",
      " tensor([[0.5011, 0.4989]], grad_fn=<SoftmaxBackward0>) \n",
      " tensor([[0.5015, 0.4985]], grad_fn=<SoftmaxBackward0>)\n",
      "------------------------------------------------------------\n",
      "tensor([[0.5148, 0.4852]], grad_fn=<SoftmaxBackward0>) \n",
      " tensor([[0.5148, 0.4852]], grad_fn=<SoftmaxBackward0>) \n",
      " tensor([[0.4902, 0.5098]], grad_fn=<SoftmaxBackward0>)\n",
      "------------------------------------------------------------\n",
      "tensor([[0.4968, 0.5032]], grad_fn=<SoftmaxBackward0>) \n",
      " tensor([[0.4968, 0.5032]], grad_fn=<SoftmaxBackward0>) \n",
      " tensor([[0.5176, 0.4824]], grad_fn=<SoftmaxBackward0>)\n",
      "------------------------------------------------------------\n",
      "tensor([[0.5412, 0.4588]], grad_fn=<SoftmaxBackward0>) \n",
      " tensor([[0.5412, 0.4588]], grad_fn=<SoftmaxBackward0>) \n",
      " tensor([[0.4636, 0.5364]], grad_fn=<SoftmaxBackward0>)\n",
      "------------------------------------------------------------\n",
      "tensor([[0.5042, 0.4958]], grad_fn=<SoftmaxBackward0>) \n",
      " tensor([[0.5042, 0.4958]], grad_fn=<SoftmaxBackward0>) \n",
      " tensor([[0.5033, 0.4967]], grad_fn=<SoftmaxBackward0>)\n",
      "------------------------------------------------------------\n",
      "tensor([[0.4812, 0.5188]], grad_fn=<SoftmaxBackward0>) \n",
      " tensor([[0.4812, 0.5188]], grad_fn=<SoftmaxBackward0>) \n",
      " tensor([[0.5208, 0.4792]], grad_fn=<SoftmaxBackward0>)\n",
      "------------------------------------------------------------\n",
      "tensor([[0.5203, 0.4797]], grad_fn=<SoftmaxBackward0>) \n",
      " tensor([[0.5203, 0.4797]], grad_fn=<SoftmaxBackward0>) \n",
      " tensor([[0.4777, 0.5223]], grad_fn=<SoftmaxBackward0>)\n",
      "------------------------------------------------------------\n",
      "tensor([[0.5244, 0.4756]], grad_fn=<SoftmaxBackward0>) \n",
      " tensor([[0.5244, 0.4756]], grad_fn=<SoftmaxBackward0>) \n",
      " tensor([[0.4821, 0.5179]], grad_fn=<SoftmaxBackward0>)\n",
      "------------------------------------------------------------\n",
      "tensor([[0.4892, 0.5108]], grad_fn=<SoftmaxBackward0>) \n",
      " tensor([[0.4892, 0.5108]], grad_fn=<SoftmaxBackward0>) \n",
      " tensor([[0.5066, 0.4934]], grad_fn=<SoftmaxBackward0>)\n",
      "------------------------------------------------------------\n",
      "tensor([[0.5182, 0.4818]], grad_fn=<SoftmaxBackward0>) \n",
      " tensor([[0.5182, 0.4818]], grad_fn=<SoftmaxBackward0>) \n",
      " tensor([[0.4925, 0.5075]], grad_fn=<SoftmaxBackward0>)\n",
      "------------------------------------------------------------\n",
      "tensor([[0.4994, 0.5006]], grad_fn=<SoftmaxBackward0>) \n",
      " tensor([[0.4994, 0.5006]], grad_fn=<SoftmaxBackward0>) \n",
      " tensor([[0.5039, 0.4961]], grad_fn=<SoftmaxBackward0>)\n",
      "------------------------------------------------------------\n",
      "tensor([[0.5468, 0.4532]], grad_fn=<SoftmaxBackward0>) \n",
      " tensor([[0.5468, 0.4532]], grad_fn=<SoftmaxBackward0>) \n",
      " tensor([[0.4546, 0.5454]], grad_fn=<SoftmaxBackward0>)\n",
      "------------------------------------------------------------\n",
      "tensor([[0.4755, 0.5245]], grad_fn=<SoftmaxBackward0>) \n",
      " tensor([[0.4755, 0.5245]], grad_fn=<SoftmaxBackward0>) \n",
      " tensor([[0.5316, 0.4684]], grad_fn=<SoftmaxBackward0>)\n",
      "------------------------------------------------------------\n",
      "tensor([[0.5076, 0.4924]], grad_fn=<SoftmaxBackward0>) \n",
      " tensor([[0.5076, 0.4924]], grad_fn=<SoftmaxBackward0>) \n",
      " tensor([[0.4985, 0.5015]], grad_fn=<SoftmaxBackward0>)\n",
      "------------------------------------------------------------\n",
      "tensor([[0.5225, 0.4775]], grad_fn=<SoftmaxBackward0>) \n",
      " tensor([[0.5225, 0.4775]], grad_fn=<SoftmaxBackward0>) \n",
      " tensor([[0.4840, 0.5160]], grad_fn=<SoftmaxBackward0>)\n",
      "------------------------------------------------------------\n",
      "tensor([[0.5585, 0.4415]], grad_fn=<SoftmaxBackward0>) \n",
      " tensor([[0.5585, 0.4415]], grad_fn=<SoftmaxBackward0>) \n",
      " tensor([[0.4517, 0.5483]], grad_fn=<SoftmaxBackward0>)\n",
      "------------------------------------------------------------\n",
      "tensor([[0.5123, 0.4877]], grad_fn=<SoftmaxBackward0>) \n",
      " tensor([[0.5123, 0.4877]], grad_fn=<SoftmaxBackward0>) \n",
      " tensor([[0.4909, 0.5091]], grad_fn=<SoftmaxBackward0>)\n",
      "------------------------------------------------------------\n",
      "tensor([[0.4900, 0.5100]], grad_fn=<SoftmaxBackward0>) \n",
      " tensor([[0.4900, 0.5100]], grad_fn=<SoftmaxBackward0>) \n",
      " tensor([[0.5205, 0.4795]], grad_fn=<SoftmaxBackward0>)\n",
      "------------------------------------------------------------\n",
      "tensor([[0.4557, 0.5443]], grad_fn=<SoftmaxBackward0>) \n",
      " tensor([[0.4557, 0.5443]], grad_fn=<SoftmaxBackward0>) \n",
      " tensor([[0.5472, 0.4528]], grad_fn=<SoftmaxBackward0>)\n",
      "------------------------------------------------------------\n",
      "tensor([[0.4403, 0.5597]], grad_fn=<SoftmaxBackward0>) \n",
      " tensor([[0.4403, 0.5597]], grad_fn=<SoftmaxBackward0>) \n",
      " tensor([[0.5636, 0.4364]], grad_fn=<SoftmaxBackward0>)\n",
      "------------------------------------------------------------\n",
      "tensor([[0.5467, 0.4533]], grad_fn=<SoftmaxBackward0>) \n",
      " tensor([[0.5467, 0.4533]], grad_fn=<SoftmaxBackward0>) \n",
      " tensor([[0.4604, 0.5396]], grad_fn=<SoftmaxBackward0>)\n",
      "------------------------------------------------------------\n",
      "tensor([[0.4775, 0.5225]], grad_fn=<SoftmaxBackward0>) \n",
      " tensor([[0.4775, 0.5225]], grad_fn=<SoftmaxBackward0>) \n",
      " tensor([[0.5352, 0.4648]], grad_fn=<SoftmaxBackward0>)\n",
      "------------------------------------------------------------\n",
      "tensor([[0.4907, 0.5093]], grad_fn=<SoftmaxBackward0>) \n",
      " tensor([[0.4907, 0.5093]], grad_fn=<SoftmaxBackward0>) \n",
      " tensor([[0.5111, 0.4889]], grad_fn=<SoftmaxBackward0>)\n",
      "------------------------------------------------------------\n",
      "tensor([[0.4752, 0.5248]], grad_fn=<SoftmaxBackward0>) \n",
      " tensor([[0.4752, 0.5248]], grad_fn=<SoftmaxBackward0>) \n",
      " tensor([[0.5246, 0.4754]], grad_fn=<SoftmaxBackward0>)\n",
      "------------------------------------------------------------\n",
      "tensor([[0.4673, 0.5327]], grad_fn=<SoftmaxBackward0>) \n",
      " tensor([[0.4673, 0.5327]], grad_fn=<SoftmaxBackward0>) \n",
      " tensor([[0.5306, 0.4694]], grad_fn=<SoftmaxBackward0>)\n",
      "------------------------------------------------------------\n",
      "tensor([[0.4991, 0.5009]], grad_fn=<SoftmaxBackward0>) \n",
      " tensor([[0.4991, 0.5009]], grad_fn=<SoftmaxBackward0>) \n",
      " tensor([[0.5042, 0.4958]], grad_fn=<SoftmaxBackward0>)\n",
      "------------------------------------------------------------\n",
      "tensor([[0.4836, 0.5164]], grad_fn=<SoftmaxBackward0>) \n",
      " tensor([[0.4836, 0.5164]], grad_fn=<SoftmaxBackward0>) \n",
      " tensor([[0.5257, 0.4743]], grad_fn=<SoftmaxBackward0>)\n",
      "------------------------------------------------------------\n",
      "tensor([[0.5252, 0.4748]], grad_fn=<SoftmaxBackward0>) \n",
      " tensor([[0.5252, 0.4748]], grad_fn=<SoftmaxBackward0>) \n",
      " tensor([[0.4835, 0.5165]], grad_fn=<SoftmaxBackward0>)\n",
      "------------------------------------------------------------\n",
      "tensor([[0.4834, 0.5166]], grad_fn=<SoftmaxBackward0>) \n",
      " tensor([[0.4834, 0.5166]], grad_fn=<SoftmaxBackward0>) \n",
      " tensor([[0.5238, 0.4762]], grad_fn=<SoftmaxBackward0>)\n",
      "------------------------------------------------------------\n",
      "tensor([[0.4851, 0.5149]], grad_fn=<SoftmaxBackward0>) \n",
      " tensor([[0.4851, 0.5149]], grad_fn=<SoftmaxBackward0>) \n",
      " tensor([[0.5156, 0.4844]], grad_fn=<SoftmaxBackward0>)\n",
      "------------------------------------------------------------\n",
      "tensor([[0.4949, 0.5051]], grad_fn=<SoftmaxBackward0>) \n",
      " tensor([[0.4949, 0.5051]], grad_fn=<SoftmaxBackward0>) \n",
      " tensor([[0.4954, 0.5046]], grad_fn=<SoftmaxBackward0>)\n",
      "------------------------------------------------------------\n",
      "tensor([[0.5009, 0.4991]], grad_fn=<SoftmaxBackward0>) \n",
      " tensor([[0.5009, 0.4991]], grad_fn=<SoftmaxBackward0>) \n",
      " tensor([[0.5011, 0.4989]], grad_fn=<SoftmaxBackward0>)\n",
      "------------------------------------------------------------\n",
      "tensor([[0.4815, 0.5185]], grad_fn=<SoftmaxBackward0>) \n",
      " tensor([[0.4815, 0.5185]], grad_fn=<SoftmaxBackward0>) \n",
      " tensor([[0.5283, 0.4717]], grad_fn=<SoftmaxBackward0>)\n",
      "------------------------------------------------------------\n",
      "tensor([[0.5208, 0.4792]], grad_fn=<SoftmaxBackward0>) \n",
      " tensor([[0.5208, 0.4792]], grad_fn=<SoftmaxBackward0>) \n",
      " tensor([[0.4834, 0.5166]], grad_fn=<SoftmaxBackward0>)\n",
      "------------------------------------------------------------\n",
      "tensor([[0.4934, 0.5066]], grad_fn=<SoftmaxBackward0>) \n",
      " tensor([[0.4934, 0.5066]], grad_fn=<SoftmaxBackward0>) \n",
      " tensor([[0.5061, 0.4939]], grad_fn=<SoftmaxBackward0>)\n",
      "------------------------------------------------------------\n",
      "tensor([[0.5071, 0.4929]], grad_fn=<SoftmaxBackward0>) \n",
      " tensor([[0.5071, 0.4929]], grad_fn=<SoftmaxBackward0>) \n",
      " tensor([[0.5045, 0.4955]], grad_fn=<SoftmaxBackward0>)\n",
      "------------------------------------------------------------\n"
     ]
    },
    {
     "name": "stdout",
     "output_type": "stream",
     "text": [
      "tensor([[0.5261, 0.4739]], grad_fn=<SoftmaxBackward0>) \n",
      " tensor([[0.5261, 0.4739]], grad_fn=<SoftmaxBackward0>) \n",
      " tensor([[0.4767, 0.5233]], grad_fn=<SoftmaxBackward0>)\n",
      "------------------------------------------------------------\n",
      "tensor([[0.4673, 0.5327]], grad_fn=<SoftmaxBackward0>) \n",
      " tensor([[0.4673, 0.5327]], grad_fn=<SoftmaxBackward0>) \n",
      " tensor([[0.5338, 0.4662]], grad_fn=<SoftmaxBackward0>)\n",
      "------------------------------------------------------------\n",
      "tensor([[0.4906, 0.5094]], grad_fn=<SoftmaxBackward0>) \n",
      " tensor([[0.4906, 0.5094]], grad_fn=<SoftmaxBackward0>) \n",
      " tensor([[0.5153, 0.4847]], grad_fn=<SoftmaxBackward0>)\n",
      "------------------------------------------------------------\n",
      "tensor([[0.4326, 0.5674]], grad_fn=<SoftmaxBackward0>) \n",
      " tensor([[0.4326, 0.5674]], grad_fn=<SoftmaxBackward0>) \n",
      " tensor([[0.5734, 0.4266]], grad_fn=<SoftmaxBackward0>)\n",
      "------------------------------------------------------------\n",
      "tensor([[0.4774, 0.5226]], grad_fn=<SoftmaxBackward0>) \n",
      " tensor([[0.4774, 0.5226]], grad_fn=<SoftmaxBackward0>) \n",
      " tensor([[0.5258, 0.4742]], grad_fn=<SoftmaxBackward0>)\n",
      "------------------------------------------------------------\n",
      "tensor([[0.5230, 0.4770]], grad_fn=<SoftmaxBackward0>) \n",
      " tensor([[0.5230, 0.4770]], grad_fn=<SoftmaxBackward0>) \n",
      " tensor([[0.4765, 0.5235]], grad_fn=<SoftmaxBackward0>)\n",
      "------------------------------------------------------------\n",
      "tensor([[0.4455, 0.5545]], grad_fn=<SoftmaxBackward0>) \n",
      " tensor([[0.4455, 0.5545]], grad_fn=<SoftmaxBackward0>) \n",
      " tensor([[0.5640, 0.4360]], grad_fn=<SoftmaxBackward0>)\n",
      "------------------------------------------------------------\n",
      "tensor([[0.5064, 0.4936]], grad_fn=<SoftmaxBackward0>) \n",
      " tensor([[0.5064, 0.4936]], grad_fn=<SoftmaxBackward0>) \n",
      " tensor([[0.4899, 0.5101]], grad_fn=<SoftmaxBackward0>)\n",
      "------------------------------------------------------------\n",
      "tensor([[0.4445, 0.5555]], grad_fn=<SoftmaxBackward0>) \n",
      " tensor([[0.4445, 0.5555]], grad_fn=<SoftmaxBackward0>) \n",
      " tensor([[0.5659, 0.4341]], grad_fn=<SoftmaxBackward0>)\n",
      "------------------------------------------------------------\n",
      "tensor([[0.4925, 0.5075]], grad_fn=<SoftmaxBackward0>) \n",
      " tensor([[0.4925, 0.5075]], grad_fn=<SoftmaxBackward0>) \n",
      " tensor([[0.5183, 0.4817]], grad_fn=<SoftmaxBackward0>)\n",
      "------------------------------------------------------------\n",
      "tensor([[0.5112, 0.4888]], grad_fn=<SoftmaxBackward0>) \n",
      " tensor([[0.5112, 0.4888]], grad_fn=<SoftmaxBackward0>) \n",
      " tensor([[0.4905, 0.5095]], grad_fn=<SoftmaxBackward0>)\n",
      "------------------------------------------------------------\n",
      "tensor([[0.4813, 0.5187]], grad_fn=<SoftmaxBackward0>) \n",
      " tensor([[0.4813, 0.5187]], grad_fn=<SoftmaxBackward0>) \n",
      " tensor([[0.5255, 0.4745]], grad_fn=<SoftmaxBackward0>)\n",
      "------------------------------------------------------------\n",
      "tensor([[0.5253, 0.4747]], grad_fn=<SoftmaxBackward0>) \n",
      " tensor([[0.5253, 0.4747]], grad_fn=<SoftmaxBackward0>) \n",
      " tensor([[0.4772, 0.5228]], grad_fn=<SoftmaxBackward0>)\n",
      "------------------------------------------------------------\n",
      "tensor([[0.5046, 0.4954]], grad_fn=<SoftmaxBackward0>) \n",
      " tensor([[0.5046, 0.4954]], grad_fn=<SoftmaxBackward0>) \n",
      " tensor([[0.4973, 0.5027]], grad_fn=<SoftmaxBackward0>)\n",
      "------------------------------------------------------------\n",
      "tensor([[0.5050, 0.4950]], grad_fn=<SoftmaxBackward0>) \n",
      " tensor([[0.5050, 0.4950]], grad_fn=<SoftmaxBackward0>) \n",
      " tensor([[0.5042, 0.4958]], grad_fn=<SoftmaxBackward0>)\n",
      "------------------------------------------------------------\n",
      "tensor([[0.4844, 0.5156]], grad_fn=<SoftmaxBackward0>) \n",
      " tensor([[0.4844, 0.5156]], grad_fn=<SoftmaxBackward0>) \n",
      " tensor([[0.5212, 0.4788]], grad_fn=<SoftmaxBackward0>)\n",
      "------------------------------------------------------------\n",
      "tensor([[0.5188, 0.4812]], grad_fn=<SoftmaxBackward0>) \n",
      " tensor([[0.5188, 0.4812]], grad_fn=<SoftmaxBackward0>) \n",
      " tensor([[0.4871, 0.5129]], grad_fn=<SoftmaxBackward0>)\n",
      "------------------------------------------------------------\n",
      "tensor([[0.4845, 0.5155]], grad_fn=<SoftmaxBackward0>) \n",
      " tensor([[0.4845, 0.5155]], grad_fn=<SoftmaxBackward0>) \n",
      " tensor([[0.5268, 0.4732]], grad_fn=<SoftmaxBackward0>)\n",
      "------------------------------------------------------------\n",
      "tensor([[0.4283, 0.5717]], grad_fn=<SoftmaxBackward0>) \n",
      " tensor([[0.4283, 0.5717]], grad_fn=<SoftmaxBackward0>) \n",
      " tensor([[0.5747, 0.4253]], grad_fn=<SoftmaxBackward0>)\n",
      "------------------------------------------------------------\n",
      "tensor([[0.5008, 0.4992]], grad_fn=<SoftmaxBackward0>) \n",
      " tensor([[0.5008, 0.4992]], grad_fn=<SoftmaxBackward0>) \n",
      " tensor([[0.5024, 0.4976]], grad_fn=<SoftmaxBackward0>)\n",
      "------------------------------------------------------------\n",
      "tensor([[0.5251, 0.4749]], grad_fn=<SoftmaxBackward0>) \n",
      " tensor([[0.5251, 0.4749]], grad_fn=<SoftmaxBackward0>) \n",
      " tensor([[0.4800, 0.5200]], grad_fn=<SoftmaxBackward0>)\n",
      "------------------------------------------------------------\n",
      "tensor([[0.5232, 0.4768]], grad_fn=<SoftmaxBackward0>) \n",
      " tensor([[0.5232, 0.4768]], grad_fn=<SoftmaxBackward0>) \n",
      " tensor([[0.4925, 0.5075]], grad_fn=<SoftmaxBackward0>)\n",
      "------------------------------------------------------------\n",
      "tensor([[0.4900, 0.5100]], grad_fn=<SoftmaxBackward0>) \n",
      " tensor([[0.4900, 0.5100]], grad_fn=<SoftmaxBackward0>) \n",
      " tensor([[0.5187, 0.4813]], grad_fn=<SoftmaxBackward0>)\n",
      "------------------------------------------------------------\n",
      "tensor([[0.4962, 0.5038]], grad_fn=<SoftmaxBackward0>) \n",
      " tensor([[0.4962, 0.5038]], grad_fn=<SoftmaxBackward0>) \n",
      " tensor([[0.5090, 0.4910]], grad_fn=<SoftmaxBackward0>)\n",
      "------------------------------------------------------------\n",
      "tensor([[0.5431, 0.4569]], grad_fn=<SoftmaxBackward0>) \n",
      " tensor([[0.5431, 0.4569]], grad_fn=<SoftmaxBackward0>) \n",
      " tensor([[0.4626, 0.5374]], grad_fn=<SoftmaxBackward0>)\n",
      "------------------------------------------------------------\n",
      "tensor([[0.5528, 0.4472]], grad_fn=<SoftmaxBackward0>) \n",
      " tensor([[0.5528, 0.4472]], grad_fn=<SoftmaxBackward0>) \n",
      " tensor([[0.4534, 0.5466]], grad_fn=<SoftmaxBackward0>)\n",
      "------------------------------------------------------------\n",
      "tensor([[0.5171, 0.4829]], grad_fn=<SoftmaxBackward0>) \n",
      " tensor([[0.5171, 0.4829]], grad_fn=<SoftmaxBackward0>) \n",
      " tensor([[0.4877, 0.5123]], grad_fn=<SoftmaxBackward0>)\n",
      "------------------------------------------------------------\n",
      "tensor([[0.4966, 0.5034]], grad_fn=<SoftmaxBackward0>) \n",
      " tensor([[0.4966, 0.5034]], grad_fn=<SoftmaxBackward0>) \n",
      " tensor([[0.5013, 0.4987]], grad_fn=<SoftmaxBackward0>)\n",
      "------------------------------------------------------------\n",
      "tensor([[0.4964, 0.5036]], grad_fn=<SoftmaxBackward0>) \n",
      " tensor([[0.4964, 0.5036]], grad_fn=<SoftmaxBackward0>) \n",
      " tensor([[0.5103, 0.4897]], grad_fn=<SoftmaxBackward0>)\n",
      "------------------------------------------------------------\n",
      "tensor([[0.5006, 0.4994]], grad_fn=<SoftmaxBackward0>) \n",
      " tensor([[0.5006, 0.4994]], grad_fn=<SoftmaxBackward0>) \n",
      " tensor([[0.5008, 0.4992]], grad_fn=<SoftmaxBackward0>)\n",
      "------------------------------------------------------------\n",
      "tensor([[0.4713, 0.5287]], grad_fn=<SoftmaxBackward0>) \n",
      " tensor([[0.4713, 0.5287]], grad_fn=<SoftmaxBackward0>) \n",
      " tensor([[0.5272, 0.4728]], grad_fn=<SoftmaxBackward0>)\n",
      "------------------------------------------------------------\n",
      "tensor([[0.5052, 0.4948]], grad_fn=<SoftmaxBackward0>) \n",
      " tensor([[0.5052, 0.4948]], grad_fn=<SoftmaxBackward0>) \n",
      " tensor([[0.4970, 0.5030]], grad_fn=<SoftmaxBackward0>)\n",
      "------------------------------------------------------------\n",
      "tensor([[0.5106, 0.4894]], grad_fn=<SoftmaxBackward0>) \n",
      " tensor([[0.5106, 0.4894]], grad_fn=<SoftmaxBackward0>) \n",
      " tensor([[0.4958, 0.5042]], grad_fn=<SoftmaxBackward0>)\n",
      "------------------------------------------------------------\n",
      "tensor([[0.5104, 0.4896]], grad_fn=<SoftmaxBackward0>) \n",
      " tensor([[0.5104, 0.4896]], grad_fn=<SoftmaxBackward0>) \n",
      " tensor([[0.4913, 0.5087]], grad_fn=<SoftmaxBackward0>)\n",
      "------------------------------------------------------------\n",
      "tensor([[0.5053, 0.4947]], grad_fn=<SoftmaxBackward0>) \n",
      " tensor([[0.5053, 0.4947]], grad_fn=<SoftmaxBackward0>) \n",
      " tensor([[0.5101, 0.4899]], grad_fn=<SoftmaxBackward0>)\n",
      "------------------------------------------------------------\n",
      "tensor([[0.5151, 0.4849]], grad_fn=<SoftmaxBackward0>) \n",
      " tensor([[0.5151, 0.4849]], grad_fn=<SoftmaxBackward0>) \n",
      " tensor([[0.4881, 0.5119]], grad_fn=<SoftmaxBackward0>)\n",
      "------------------------------------------------------------\n"
     ]
    },
    {
     "name": "stdout",
     "output_type": "stream",
     "text": [
      "tensor([[0.5048, 0.4952]], grad_fn=<SoftmaxBackward0>) \n",
      " tensor([[0.5048, 0.4952]], grad_fn=<SoftmaxBackward0>) \n",
      " tensor([[0.5007, 0.4993]], grad_fn=<SoftmaxBackward0>)\n",
      "------------------------------------------------------------\n",
      "tensor([[0.4828, 0.5172]], grad_fn=<SoftmaxBackward0>) \n",
      " tensor([[0.4828, 0.5172]], grad_fn=<SoftmaxBackward0>) \n",
      " tensor([[0.5183, 0.4817]], grad_fn=<SoftmaxBackward0>)\n",
      "------------------------------------------------------------\n",
      "tensor([[0.5081, 0.4919]], grad_fn=<SoftmaxBackward0>) \n",
      " tensor([[0.5081, 0.4919]], grad_fn=<SoftmaxBackward0>) \n",
      " tensor([[0.4977, 0.5023]], grad_fn=<SoftmaxBackward0>)\n",
      "------------------------------------------------------------\n",
      "tensor([[0.4681, 0.5319]], grad_fn=<SoftmaxBackward0>) \n",
      " tensor([[0.4681, 0.5319]], grad_fn=<SoftmaxBackward0>) \n",
      " tensor([[0.5322, 0.4678]], grad_fn=<SoftmaxBackward0>)\n",
      "------------------------------------------------------------\n",
      "tensor([[0.5110, 0.4890]], grad_fn=<SoftmaxBackward0>) \n",
      " tensor([[0.5110, 0.4890]], grad_fn=<SoftmaxBackward0>) \n",
      " tensor([[0.4909, 0.5091]], grad_fn=<SoftmaxBackward0>)\n",
      "------------------------------------------------------------\n",
      "tensor([[0.4966, 0.5034]], grad_fn=<SoftmaxBackward0>) \n",
      " tensor([[0.4966, 0.5034]], grad_fn=<SoftmaxBackward0>) \n",
      " tensor([[0.5114, 0.4886]], grad_fn=<SoftmaxBackward0>)\n",
      "------------------------------------------------------------\n",
      "tensor([[0.5106, 0.4894]], grad_fn=<SoftmaxBackward0>) \n",
      " tensor([[0.5106, 0.4894]], grad_fn=<SoftmaxBackward0>) \n",
      " tensor([[0.4954, 0.5046]], grad_fn=<SoftmaxBackward0>)\n",
      "------------------------------------------------------------\n",
      "tensor([[0.5438, 0.4562]], grad_fn=<SoftmaxBackward0>) \n",
      " tensor([[0.5438, 0.4562]], grad_fn=<SoftmaxBackward0>) \n",
      " tensor([[0.4598, 0.5402]], grad_fn=<SoftmaxBackward0>)\n",
      "------------------------------------------------------------\n",
      "tensor([[0.5235, 0.4765]], grad_fn=<SoftmaxBackward0>) \n",
      " tensor([[0.5235, 0.4765]], grad_fn=<SoftmaxBackward0>) \n",
      " tensor([[0.4792, 0.5208]], grad_fn=<SoftmaxBackward0>)\n",
      "------------------------------------------------------------\n",
      "tensor([[0.4948, 0.5052]], grad_fn=<SoftmaxBackward0>) \n",
      " tensor([[0.4948, 0.5052]], grad_fn=<SoftmaxBackward0>) \n",
      " tensor([[0.5028, 0.4972]], grad_fn=<SoftmaxBackward0>)\n",
      "------------------------------------------------------------\n",
      "tensor([[0.5239, 0.4761]], grad_fn=<SoftmaxBackward0>) \n",
      " tensor([[0.5239, 0.4761]], grad_fn=<SoftmaxBackward0>) \n",
      " tensor([[0.4765, 0.5235]], grad_fn=<SoftmaxBackward0>)\n",
      "------------------------------------------------------------\n",
      "tensor([[0.5344, 0.4656]], grad_fn=<SoftmaxBackward0>) \n",
      " tensor([[0.5344, 0.4656]], grad_fn=<SoftmaxBackward0>) \n",
      " tensor([[0.4658, 0.5342]], grad_fn=<SoftmaxBackward0>)\n",
      "------------------------------------------------------------\n",
      "tensor([[0.4906, 0.5094]], grad_fn=<SoftmaxBackward0>) \n",
      " tensor([[0.4906, 0.5094]], grad_fn=<SoftmaxBackward0>) \n",
      " tensor([[0.5145, 0.4855]], grad_fn=<SoftmaxBackward0>)\n",
      "------------------------------------------------------------\n",
      "tensor([[0.5077, 0.4923]], grad_fn=<SoftmaxBackward0>) \n",
      " tensor([[0.5077, 0.4923]], grad_fn=<SoftmaxBackward0>) \n",
      " tensor([[0.4929, 0.5071]], grad_fn=<SoftmaxBackward0>)\n",
      "------------------------------------------------------------\n",
      "tensor([[0.4990, 0.5010]], grad_fn=<SoftmaxBackward0>) \n",
      " tensor([[0.4990, 0.5010]], grad_fn=<SoftmaxBackward0>) \n",
      " tensor([[0.5058, 0.4942]], grad_fn=<SoftmaxBackward0>)\n",
      "------------------------------------------------------------\n",
      "tensor([[0.5024, 0.4976]], grad_fn=<SoftmaxBackward0>) \n",
      " tensor([[0.5024, 0.4976]], grad_fn=<SoftmaxBackward0>) \n",
      " tensor([[0.5011, 0.4989]], grad_fn=<SoftmaxBackward0>)\n",
      "------------------------------------------------------------\n",
      "CPU times: user 1min 30s, sys: 1.97 ms, total: 1min 30s\n",
      "Wall time: 1.42 s\n"
     ]
    }
   ],
   "source": [
    "%%time\n",
    "\n",
    "for HERO in HERO_TRANSFORM.values():\n",
    "    print(\n",
    "        torch.softmax(model(\n",
    "        (torch.as_tensor([[0, 0, 0, 0, HERO] + [0, 0, 0, 0, 0]]),\n",
    "         torch.as_tensor(5))  # ancient + rapier + immortal rank\n",
    "    ), dim=-1), '\\n',\n",
    "        torch.softmax(model(\n",
    "        (torch.as_tensor([[HERO, 0, 0, 0, 0] + [0, 0, 0, 0, 0]]),\n",
    "         torch.as_tensor(5))  # ancient + rapier + immortal rank\n",
    "    ), dim=-1), '\\n',\n",
    "        torch.softmax(model(\n",
    "        (torch.as_tensor([[0, 0, 0, 0, 0] + [HERO, 0, 0, 0, 0]]),\n",
    "         torch.as_tensor(5))  # ancient + rapier + immortal rank\n",
    "    ), dim=-1),\n",
    "    )\n",
    "    print('-' * 60)"
   ]
  },
  {
   "cell_type": "code",
   "execution_count": null,
   "id": "47ca415b",
   "metadata": {
    "pycharm": {
     "name": "#%%\n"
    }
   },
   "outputs": [],
   "source": []
  },
  {
   "cell_type": "code",
   "execution_count": null,
   "id": "c86d67c6",
   "metadata": {
    "pycharm": {
     "name": "#%%\n"
    }
   },
   "outputs": [
    {
     "name": "stdout",
     "output_type": "stream",
     "text": [
      "> \u001B[0;32m/home/yarik/shad/picker/picker/model/training_model.py\u001B[0m(57)\u001B[0;36mplot_stuff\u001B[0;34m()\u001B[0m\n",
      "\u001B[0;32m     55 \u001B[0;31m    \u001B[0;32mif\u001B[0m \u001B[0mlen\u001B[0m\u001B[0;34m(\u001B[0m\u001B[0maccs\u001B[0m\u001B[0;34m)\u001B[0m\u001B[0;34m:\u001B[0m\u001B[0;34m\u001B[0m\u001B[0;34m\u001B[0m\u001B[0m\n",
      "\u001B[0m\u001B[0;32m     56 \u001B[0;31m        \u001B[0;32mfor\u001B[0m \u001B[0midx\u001B[0m \u001B[0;32min\u001B[0m \u001B[0mrange\u001B[0m\u001B[0;34m(\u001B[0m\u001B[0maccs_np\u001B[0m\u001B[0;34m.\u001B[0m\u001B[0mshape\u001B[0m\u001B[0;34m[\u001B[0m\u001B[0;36m1\u001B[0m\u001B[0;34m]\u001B[0m\u001B[0;34m)\u001B[0m\u001B[0;34m:\u001B[0m\u001B[0;34m\u001B[0m\u001B[0;34m\u001B[0m\u001B[0m\n",
      "\u001B[0m\u001B[0;32m---> 57 \u001B[0;31m            \u001B[0max2\u001B[0m\u001B[0;34m.\u001B[0m\u001B[0mplot\u001B[0m\u001B[0;34m(\u001B[0m\u001B[0maccs\u001B[0m\u001B[0;34m[\u001B[0m\u001B[0;34m:\u001B[0m\u001B[0;34m,\u001B[0m \u001B[0midx\u001B[0m\u001B[0;34m]\u001B[0m\u001B[0;34m,\u001B[0m \u001B[0mlabel\u001B[0m \u001B[0;34m=\u001B[0m \u001B[0;34mf'Test dataset number {idx}'\u001B[0m\u001B[0;34m)\u001B[0m\u001B[0;34m\u001B[0m\u001B[0;34m\u001B[0m\u001B[0m\n",
      "\u001B[0m\u001B[0;32m     58 \u001B[0;31m\u001B[0;34m\u001B[0m\u001B[0m\n",
      "\u001B[0m\u001B[0;32m     59 \u001B[0;31m    \u001B[0max2\u001B[0m\u001B[0;34m.\u001B[0m\u001B[0mset_title\u001B[0m\u001B[0;34m(\u001B[0m\u001B[0;34m\"Accs on test\"\u001B[0m\u001B[0;34m)\u001B[0m\u001B[0;34m\u001B[0m\u001B[0;34m\u001B[0m\u001B[0m\n",
      "\u001B[0m\n",
      "ipdb> idx\n",
      "0\n",
      "ipdb> accs[:, idx]\n",
      "*** TypeError: list indices must be integers or slices, not tuple\n"
     ]
    }
   ],
   "source": [
    "%debug"
   ]
  },
  {
   "cell_type": "code",
   "execution_count": 32,
   "id": "21382dc0",
   "metadata": {
    "pycharm": {
     "name": "#%%\n"
    }
   },
   "outputs": [],
   "source": [
    "import torch\n",
    "A = torch.cat((torch.ones(512, 5, 1), torch.zeros(512, 5, 1)), dim=-2)"
   ]
  },
  {
   "cell_type": "code",
   "execution_count": 35,
   "id": "e96b3a05",
   "metadata": {
    "pycharm": {
     "name": "#%%\n"
    }
   },
   "outputs": [
    {
     "data": {
      "text/plain": [
       "torch.Size([512, 10, 64])"
      ]
     },
     "execution_count": 35,
     "metadata": {},
     "output_type": "execute_result"
    }
   ],
   "source": [
    "torch.cat((torch.rand(512, 10, 63), A), dim=-1).shape"
   ]
  },
  {
   "cell_type": "code",
   "execution_count": 60,
   "id": "9e2ec1e8",
   "metadata": {
    "pycharm": {
     "name": "#%%\n"
    }
   },
   "outputs": [],
   "source": [
    "emb = torch.cat(embs).reshape(1, 10, -1)\n",
    "res = model(emb, None)"
   ]
  },
  {
   "cell_type": "code",
   "execution_count": 61,
   "id": "8f5db74b",
   "metadata": {
    "pycharm": {
     "name": "#%%\n"
    }
   },
   "outputs": [
    {
     "data": {
      "text/plain": [
       "tensor([[0.4648]], grad_fn=<AddmmBackward0>)"
      ]
     },
     "execution_count": 61,
     "metadata": {},
     "output_type": "execute_result"
    }
   ],
   "source": [
    "res"
   ]
  },
  {
   "cell_type": "code",
   "execution_count": 56,
   "id": "cc9862da",
   "metadata": {
    "pycharm": {
     "name": "#%%\n"
    }
   },
   "outputs": [],
   "source": [
    "a = torch.rand(1, 10, 64)\n",
    "b = torch.rand(1, 1, 64)"
   ]
  },
  {
   "cell_type": "code",
   "execution_count": 57,
   "id": "2ee0a0e9",
   "metadata": {
    "pycharm": {
     "name": "#%%\n"
    }
   },
   "outputs": [
    {
     "data": {
      "text/plain": [
       "tensor([[[0.0823, 0.2277, 0.4079, 0.9386, 0.0742, 0.7202, 0.3607, 0.9005,\n",
       "          0.1608, 0.2063, 0.7980, 0.9442, 0.0333, 0.5649, 0.2936, 0.4545,\n",
       "          0.4625, 0.3905, 0.5795, 0.6908, 0.0839, 0.7522, 0.9392, 0.1067,\n",
       "          0.3177, 0.5344, 0.1385, 0.7366, 0.2210, 0.7947, 0.2109, 0.0716,\n",
       "          0.8087, 0.5818, 0.2675, 0.9628, 0.7965, 0.6796, 0.1220, 0.6453,\n",
       "          0.2468, 0.2309, 0.3061, 0.2880, 0.1987, 0.7911, 0.5555, 0.4565,\n",
       "          0.8999, 0.4815, 0.6246, 0.6285, 0.7902, 0.0816, 0.5806, 0.1977,\n",
       "          0.6592, 0.5274, 0.3737, 0.8188, 0.5043, 0.8749, 0.7966, 0.2408],\n",
       "         [0.9915, 0.3214, 0.3582, 0.4512, 0.1294, 0.6715, 0.8483, 0.3055,\n",
       "          0.6333, 0.0336, 0.1905, 0.7927, 0.0481, 0.4222, 0.6530, 0.4618,\n",
       "          0.4607, 0.9218, 0.1592, 0.9127, 0.1080, 0.6349, 0.9745, 0.8846,\n",
       "          0.1505, 0.5538, 0.9617, 0.9514, 0.5724, 0.8122, 0.7971, 0.8665,\n",
       "          0.4984, 0.1422, 0.6348, 0.0502, 0.9907, 0.4200, 0.7669, 0.3436,\n",
       "          0.3604, 0.8022, 0.5990, 0.7234, 0.7494, 0.0636, 0.9351, 0.0980,\n",
       "          0.0789, 0.2025, 0.9868, 0.8937, 0.0378, 0.8142, 0.0284, 0.4992,\n",
       "          0.1438, 0.5016, 0.7600, 0.4765, 0.3734, 0.1405, 0.7795, 0.0251],\n",
       "         [0.5293, 0.2018, 0.0844, 0.1540, 0.4002, 0.0924, 0.3899, 0.0934,\n",
       "          0.9307, 0.3287, 0.7514, 0.4496, 0.7419, 0.9695, 0.0035, 0.2762,\n",
       "          0.4364, 0.1528, 0.5141, 0.1903, 0.7141, 0.2052, 0.9015, 0.6373,\n",
       "          0.7493, 0.2597, 0.1370, 0.8378, 0.6878, 0.5573, 0.7830, 0.4222,\n",
       "          0.5416, 0.4588, 0.3011, 0.6952, 0.1071, 0.0123, 0.3640, 0.8499,\n",
       "          0.2097, 0.8281, 0.0107, 0.8978, 0.5376, 0.9874, 0.0979, 0.5948,\n",
       "          0.2382, 0.4197, 0.8722, 0.6351, 0.3813, 0.6243, 0.4186, 0.9045,\n",
       "          0.9252, 0.7115, 0.0873, 0.0066, 0.2528, 0.5448, 0.1491, 0.0279],\n",
       "         [0.6541, 0.7755, 0.9124, 0.2386, 0.9303, 0.6394, 0.6280, 0.2859,\n",
       "          0.3803, 0.4762, 0.2397, 0.4504, 0.5789, 0.6026, 0.5671, 0.6471,\n",
       "          0.6757, 0.9011, 0.4261, 0.6587, 0.5551, 0.4626, 0.3373, 0.5324,\n",
       "          0.4290, 0.6122, 0.8378, 0.4355, 0.3013, 0.8567, 0.5951, 0.6261,\n",
       "          0.3150, 0.6316, 0.7142, 0.6939, 0.1311, 0.6096, 0.4852, 0.6194,\n",
       "          0.3905, 0.9814, 0.8093, 0.0617, 0.5442, 0.3501, 0.7690, 0.0505,\n",
       "          0.7404, 0.6769, 0.5061, 0.9917, 0.2908, 0.6524, 0.3490, 0.6030,\n",
       "          0.0825, 0.6668, 0.6774, 0.7115, 0.0675, 0.0876, 0.2570, 0.6371],\n",
       "         [0.5840, 0.5832, 0.0052, 0.6166, 0.7060, 0.7878, 0.4759, 0.0299,\n",
       "          0.1702, 0.0015, 0.0524, 0.3143, 0.5947, 0.7588, 0.5520, 0.7063,\n",
       "          0.8212, 0.5072, 0.0109, 0.8222, 0.7773, 0.5531, 0.7468, 0.5336,\n",
       "          0.8232, 0.1228, 0.4631, 0.3645, 0.1787, 0.0723, 0.5087, 0.6076,\n",
       "          0.3451, 0.1867, 0.5293, 0.0898, 0.4184, 0.0594, 0.2631, 0.3308,\n",
       "          0.3140, 0.5641, 0.2176, 0.3231, 0.4512, 0.3237, 0.6240, 0.6286,\n",
       "          0.5233, 0.8640, 0.4884, 0.6676, 0.7101, 0.8141, 0.4087, 0.1198,\n",
       "          0.7689, 0.4025, 0.4457, 0.7073, 0.8809, 0.1204, 0.2977, 0.6291],\n",
       "         [0.7602, 0.1941, 0.1814, 0.8357, 0.2552, 0.1835, 0.1808, 0.7550,\n",
       "          0.8094, 0.4333, 0.2803, 0.9677, 0.8110, 0.2620, 0.1285, 0.8938,\n",
       "          0.0743, 0.1784, 0.2492, 0.6834, 0.4075, 0.4397, 0.4646, 0.8063,\n",
       "          0.2839, 0.3847, 0.2669, 0.3905, 0.5618, 0.5127, 0.4858, 0.3710,\n",
       "          0.7547, 0.1292, 0.6356, 0.9540, 0.7763, 0.6079, 0.0441, 0.5579,\n",
       "          0.8873, 0.4301, 0.5735, 0.3538, 0.4627, 0.7614, 0.0287, 0.9333,\n",
       "          0.9668, 0.2661, 0.9772, 0.7166, 0.2218, 0.8815, 0.9719, 0.4611,\n",
       "          0.4940, 0.3266, 0.7658, 0.0948, 0.3093, 0.3734, 0.6214, 0.0051],\n",
       "         [0.9832, 0.9382, 0.5820, 0.7930, 0.5799, 0.2555, 0.0709, 0.6375,\n",
       "          0.6401, 0.2857, 0.5358, 0.9106, 0.0392, 0.3800, 0.1549, 0.4879,\n",
       "          0.3350, 0.4970, 0.5349, 0.9027, 0.2923, 0.0475, 0.7000, 0.3203,\n",
       "          0.9962, 0.6034, 0.9463, 0.6152, 0.8277, 0.8009, 0.2342, 0.6138,\n",
       "          0.7191, 0.3468, 0.8755, 0.5255, 0.2566, 0.4009, 0.6918, 0.1554,\n",
       "          0.0107, 0.6356, 0.5246, 0.0458, 0.4779, 0.5567, 0.3952, 0.4024,\n",
       "          0.4245, 0.0828, 0.5241, 0.8014, 0.6057, 0.3194, 0.4891, 0.5413,\n",
       "          0.8584, 0.6335, 0.7113, 0.0176, 0.8114, 0.7749, 0.5689, 0.9057],\n",
       "         [0.7721, 0.7235, 0.2954, 0.0845, 0.5317, 0.1750, 0.1739, 0.9535,\n",
       "          0.6139, 0.5855, 0.7121, 0.7196, 0.8468, 0.1695, 0.2179, 0.2407,\n",
       "          0.4400, 0.9256, 0.3844, 0.5744, 0.3890, 0.6835, 0.6770, 0.3374,\n",
       "          0.4410, 0.3060, 0.3574, 0.7333, 0.4196, 0.4949, 0.5866, 0.4988,\n",
       "          0.1147, 0.1655, 0.0610, 0.0343, 0.0890, 0.3882, 0.0370, 0.2255,\n",
       "          0.9709, 0.2417, 0.9176, 0.1296, 0.1308, 0.5599, 0.8546, 0.0740,\n",
       "          0.3754, 0.1464, 0.4440, 0.5568, 0.1369, 0.2860, 0.0443, 0.6356,\n",
       "          0.9716, 0.3537, 0.3594, 0.1452, 0.3204, 0.0831, 0.4884, 0.9456],\n",
       "         [0.1998, 0.9068, 0.1662, 0.4164, 0.6412, 0.6337, 0.5139, 0.3187,\n",
       "          0.5103, 0.1513, 0.9069, 0.2180, 0.8722, 0.8175, 0.7816, 0.2586,\n",
       "          0.4479, 0.9598, 0.8401, 0.7611, 0.7954, 0.3649, 0.2509, 0.9704,\n",
       "          0.3266, 0.8086, 0.0696, 0.7843, 0.9367, 0.7041, 0.2391, 0.7051,\n",
       "          0.5108, 0.9436, 0.8010, 0.4399, 0.3961, 0.1482, 0.5670, 0.4278,\n",
       "          0.0119, 0.7118, 0.4939, 0.9925, 0.3332, 0.6947, 0.7053, 0.4467,\n",
       "          0.0016, 0.9353, 0.3694, 0.8494, 0.5796, 0.2367, 0.5490, 0.8449,\n",
       "          0.3541, 0.0894, 0.3926, 0.7148, 0.9888, 0.9692, 0.3940, 0.6058],\n",
       "         [0.9100, 0.2578, 0.5826, 0.3895, 0.4134, 0.4130, 0.7349, 0.0481,\n",
       "          0.7046, 0.7964, 0.4912, 0.0829, 0.5716, 0.5697, 0.8222, 0.8767,\n",
       "          0.7744, 0.0132, 0.2521, 0.6484, 0.3196, 0.9287, 0.9899, 0.6279,\n",
       "          0.3818, 0.0191, 0.4003, 0.6112, 0.9591, 0.9400, 0.3162, 0.9679,\n",
       "          0.0052, 0.6624, 0.1612, 0.8896, 0.4765, 0.5536, 0.7186, 0.6055,\n",
       "          0.9824, 0.3476, 0.1739, 0.3153, 0.2274, 0.1223, 0.0286, 0.9991,\n",
       "          0.3790, 0.5383, 0.3131, 0.9669, 0.7223, 0.2552, 0.2516, 0.8079,\n",
       "          0.9995, 0.2567, 0.2572, 0.3158, 0.2374, 0.9754, 0.5225, 0.9547],\n",
       "         [0.7513, 0.6373, 0.6079, 0.5457, 0.0253, 0.5822, 0.0145, 0.2817,\n",
       "          0.6781, 0.1516, 0.5298, 0.4035, 0.4687, 0.8971, 0.7024, 0.3031,\n",
       "          0.8951, 0.9295, 0.5192, 0.0371, 0.6743, 0.9490, 0.5785, 0.3177,\n",
       "          0.3501, 0.7659, 0.8354, 0.9838, 0.2668, 0.9544, 0.1281, 0.8120,\n",
       "          0.7903, 0.9839, 0.7097, 0.6038, 0.6920, 0.4135, 0.3742, 0.5870,\n",
       "          0.5387, 0.8026, 0.0936, 0.7274, 0.8193, 0.4428, 0.5523, 0.1838,\n",
       "          0.1538, 0.6625, 0.0537, 0.2950, 0.7551, 0.1240, 0.7675, 0.0023,\n",
       "          0.9708, 0.7863, 0.9456, 0.4821, 0.0328, 0.0438, 0.7103, 0.9658]]])"
      ]
     },
     "execution_count": 57,
     "metadata": {},
     "output_type": "execute_result"
    }
   ],
   "source": [
    "torch.cat((a, b), dim=1)"
   ]
  },
  {
   "cell_type": "code",
   "execution_count": null,
   "id": "04300dd2",
   "metadata": {
    "pycharm": {
     "name": "#%%\n"
    }
   },
   "outputs": [],
   "source": []
  },
  {
   "cell_type": "code",
   "execution_count": null,
   "id": "841cc37d",
   "metadata": {
    "pycharm": {
     "name": "#%%\n"
    }
   },
   "outputs": [],
   "source": []
  }
 ],
 "metadata": {
  "kernelspec": {
   "display_name": "Python 3 (ipykernel)",
   "language": "python",
   "name": "python3"
  },
  "language_info": {
   "codemirror_mode": {
    "name": "ipython",
    "version": 3
   },
   "file_extension": ".py",
   "mimetype": "text/x-python",
   "name": "python",
   "nbconvert_exporter": "python",
   "pygments_lexer": "ipython3",
   "version": "3.10.8"
  },
  "toc": {
   "base_numbering": 1,
   "nav_menu": {},
   "number_sections": true,
   "sideBar": true,
   "skip_h1_title": false,
   "title_cell": "Table of Contents",
   "title_sidebar": "Contents",
   "toc_cell": false,
   "toc_position": {},
   "toc_section_display": true,
   "toc_window_display": false
  },
  "varInspector": {
   "cols": {
    "lenName": 16,
    "lenType": 16,
    "lenVar": 40
   },
   "kernels_config": {
    "python": {
     "delete_cmd_postfix": "",
     "delete_cmd_prefix": "del ",
     "library": "var_list.py",
     "varRefreshCmd": "print(var_dic_list())"
    },
    "r": {
     "delete_cmd_postfix": ") ",
     "delete_cmd_prefix": "rm(",
     "library": "var_list.r",
     "varRefreshCmd": "cat(var_dic_list()) "
    }
   },
   "types_to_exclude": [
    "module",
    "function",
    "builtin_function_or_method",
    "instance",
    "_Feature"
   ],
   "window_display": false
  }
 },
 "nbformat": 4,
 "nbformat_minor": 5
}