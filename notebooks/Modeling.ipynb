{
 "cells": [
  {
   "cell_type": "code",
   "execution_count": 1,
   "id": "9d2da6c1",
   "metadata": {
    "pycharm": {
     "name": "#%%\n"
    }
   },
   "outputs": [],
   "source": [
    "%load_ext autoreload \n",
    "%autoreload 2"
   ]
  },
  {
   "cell_type": "code",
   "execution_count": 2,
   "id": "b739803a",
   "metadata": {
    "pycharm": {
     "name": "#%%\n"
    }
   },
   "outputs": [],
   "source": [
    "import requests\n",
    "import orjson \n",
    "import pandas as pd \n",
    "import polars as pl\n",
    "from time import sleep\n",
    "\n",
    "# x = requests.get('https://api.opendota.com/api/publicMatches', params={'less_than_match_id':7075980402})"
   ]
  },
  {
   "cell_type": "code",
   "execution_count": 3,
   "id": "a91401a6",
   "metadata": {
    "pycharm": {
     "name": "#%%\n"
    }
   },
   "outputs": [],
   "source": [
    "# from tqdm import tqdm\n",
    "\n",
    "# df = pl.read_parquet('../DATA/tmp_03.20.2023.10.08.35.parquet').to_pandas()\n",
    "# SET = set()\n",
    "# for idx, row in tqdm(df.iterrows()):\n",
    "#     SET.update(row['winner_team'])\n",
    "    \n",
    "# TRANSFORM = {hero_id : idx + 1 for idx, hero_id in enumerate(list(SET))}\n",
    "# TRANSFORM"
   ]
  },
  {
   "cell_type": "code",
   "execution_count": 20,
   "id": "a734373b",
   "metadata": {
    "pycharm": {
     "name": "#%%\n"
    }
   },
   "outputs": [],
   "source": [
    "df = pl.read_parquet('DATA/tmp_01.09.2025.15.23.46.parquet')  # tmp_03.11.2023.03.58.04.parquet\n",
    "df = df.to_pandas()\n",
    "df['avg_rank_tier'] = df['avg_rank_tier'].apply(lambda x: min(5, x // 10 - 1))\n",
    "df = pl.from_pandas(df).with_columns(\n",
    "    pl.when(\"radiant_win\").then(\"radiant_team\").otherwise(\"dire_team\").alias(\"winner_team\"),\n",
    "    pl.when(\"radiant_win\").then(\"dire_team\").otherwise(\"radiant_team\").alias(\"loser_team\")\n",
    ").drop(['dire_team', 'radiant_team', 'radiant_win'])\n",
    "DICTS = df.to_dicts()"
   ]
  },
  {
   "cell_type": "code",
   "execution_count": 21,
   "id": "a49931ab",
   "metadata": {
    "pycharm": {
     "name": "#%%\n"
    }
   },
   "outputs": [
    {
     "data": {
      "text/html": [
       "<div><style>\n",
       ".dataframe > thead > tr,\n",
       ".dataframe > tbody > tr {\n",
       "  text-align: right;\n",
       "  white-space: pre-wrap;\n",
       "}\n",
       "</style>\n",
       "<small>shape: (2_611_223, 8)</small><table border=\"1\" class=\"dataframe\"><thead><tr><th>match_id</th><th>match_seq_num</th><th>duration</th><th>start_time</th><th>game_mode</th><th>avg_rank_tier</th><th>winner_team</th><th>loser_team</th></tr><tr><td>i64</td><td>i64</td><td>i64</td><td>i64</td><td>i64</td><td>i64</td><td>list[i64]</td><td>list[i64]</td></tr></thead><tbody><tr><td>8121174818</td><td>6828143444</td><td>2493</td><td>1736436226</td><td>22</td><td>5</td><td>[41, 25, … 2]</td><td>[138, 96, … 84]</td></tr><tr><td>8121174816</td><td>6828139657</td><td>2195</td><td>1736436226</td><td>22</td><td>5</td><td>[84, 54, … 29]</td><td>[8, 36, … 96]</td></tr><tr><td>8121174713</td><td>6828125565</td><td>1496</td><td>1736436226</td><td>22</td><td>1</td><td>[49, 31, … 4]</td><td>[46, 16, … 5]</td></tr><tr><td>8121174711</td><td>6828125144</td><td>1656</td><td>1736436226</td><td>4</td><td>1</td><td>[136, 86, … 68]</td><td>[82, 44, … 123]</td></tr><tr><td>8121174901</td><td>6828124639</td><td>1586</td><td>1736436226</td><td>22</td><td>3</td><td>[62, 96, … 54]</td><td>[67, 99, … 119]</td></tr><tr><td>&hellip;</td><td>&hellip;</td><td>&hellip;</td><td>&hellip;</td><td>&hellip;</td><td>&hellip;</td><td>&hellip;</td><td>&hellip;</td></tr><tr><td>8165073615</td><td>6863453759</td><td>1305</td><td>1739027192</td><td>22</td><td>3</td><td>[74, 8, … 3]</td><td>[35, 69, … 73]</td></tr><tr><td>8165073801</td><td>6863451148</td><td>1205</td><td>1739027198</td><td>22</td><td>5</td><td>[138, 44, … 62]</td><td>[70, 85, … 17]</td></tr><tr><td>8165074101</td><td>6863455030</td><td>1325</td><td>1739027207</td><td>22</td><td>4</td><td>[8, 88, … 112]</td><td>[4, 2, … 20]</td></tr><tr><td>8165074209</td><td>6863448400</td><td>1052</td><td>1739027212</td><td>22</td><td>4</td><td>[91, 145, … 29]</td><td>[26, 13, … 1]</td></tr><tr><td>8165085305</td><td>6863454163</td><td>948</td><td>1739027573</td><td>22</td><td>2</td><td>[60, 48, … 68]</td><td>[76, 36, … 21]</td></tr></tbody></table></div>"
      ],
      "text/plain": [
       "shape: (2_611_223, 8)\n",
       "┌────────────┬────────────┬──────────┬────────────┬───────────┬────────────┬───────────┬───────────┐\n",
       "│ match_id   ┆ match_seq_ ┆ duration ┆ start_time ┆ game_mode ┆ avg_rank_t ┆ winner_te ┆ loser_tea │\n",
       "│ ---        ┆ num        ┆ ---      ┆ ---        ┆ ---       ┆ ier        ┆ am        ┆ m         │\n",
       "│ i64        ┆ ---        ┆ i64      ┆ i64        ┆ i64       ┆ ---        ┆ ---       ┆ ---       │\n",
       "│            ┆ i64        ┆          ┆            ┆           ┆ i64        ┆ list[i64] ┆ list[i64] │\n",
       "╞════════════╪════════════╪══════════╪════════════╪═══════════╪════════════╪═══════════╪═══════════╡\n",
       "│ 8121174818 ┆ 6828143444 ┆ 2493     ┆ 1736436226 ┆ 22        ┆ 5          ┆ [41, 25,  ┆ [138, 96, │\n",
       "│            ┆            ┆          ┆            ┆           ┆            ┆ … 2]      ┆ … 84]     │\n",
       "│ 8121174816 ┆ 6828139657 ┆ 2195     ┆ 1736436226 ┆ 22        ┆ 5          ┆ [84, 54,  ┆ [8, 36, … │\n",
       "│            ┆            ┆          ┆            ┆           ┆            ┆ … 29]     ┆ 96]       │\n",
       "│ 8121174713 ┆ 6828125565 ┆ 1496     ┆ 1736436226 ┆ 22        ┆ 1          ┆ [49, 31,  ┆ [46, 16,  │\n",
       "│            ┆            ┆          ┆            ┆           ┆            ┆ … 4]      ┆ … 5]      │\n",
       "│ 8121174711 ┆ 6828125144 ┆ 1656     ┆ 1736436226 ┆ 4         ┆ 1          ┆ [136, 86, ┆ [82, 44,  │\n",
       "│            ┆            ┆          ┆            ┆           ┆            ┆ … 68]     ┆ … 123]    │\n",
       "│ 8121174901 ┆ 6828124639 ┆ 1586     ┆ 1736436226 ┆ 22        ┆ 3          ┆ [62, 96,  ┆ [67, 99,  │\n",
       "│            ┆            ┆          ┆            ┆           ┆            ┆ … 54]     ┆ … 119]    │\n",
       "│ …          ┆ …          ┆ …        ┆ …          ┆ …         ┆ …          ┆ …         ┆ …         │\n",
       "│ 8165073615 ┆ 6863453759 ┆ 1305     ┆ 1739027192 ┆ 22        ┆ 3          ┆ [74, 8, … ┆ [35, 69,  │\n",
       "│            ┆            ┆          ┆            ┆           ┆            ┆ 3]        ┆ … 73]     │\n",
       "│ 8165073801 ┆ 6863451148 ┆ 1205     ┆ 1739027198 ┆ 22        ┆ 5          ┆ [138, 44, ┆ [70, 85,  │\n",
       "│            ┆            ┆          ┆            ┆           ┆            ┆ … 62]     ┆ … 17]     │\n",
       "│ 8165074101 ┆ 6863455030 ┆ 1325     ┆ 1739027207 ┆ 22        ┆ 4          ┆ [8, 88, … ┆ [4, 2, …  │\n",
       "│            ┆            ┆          ┆            ┆           ┆            ┆ 112]      ┆ 20]       │\n",
       "│ 8165074209 ┆ 6863448400 ┆ 1052     ┆ 1739027212 ┆ 22        ┆ 4          ┆ [91, 145, ┆ [26, 13,  │\n",
       "│            ┆            ┆          ┆            ┆           ┆            ┆ … 29]     ┆ … 1]      │\n",
       "│ 8165085305 ┆ 6863454163 ┆ 948      ┆ 1739027573 ┆ 22        ┆ 2          ┆ [60, 48,  ┆ [76, 36,  │\n",
       "│            ┆            ┆          ┆            ┆           ┆            ┆ … 68]     ┆ … 21]     │\n",
       "└────────────┴────────────┴──────────┴────────────┴───────────┴────────────┴───────────┴───────────┘"
      ]
     },
     "execution_count": 21,
     "metadata": {},
     "output_type": "execute_result"
    }
   ],
   "source": [
    "df  #  (2433383, 11)"
   ]
  },
  {
   "cell_type": "code",
   "execution_count": 22,
   "id": "6f18645a",
   "metadata": {
    "pycharm": {
     "name": "#%%\n"
    }
   },
   "outputs": [
    {
     "data": {
      "text/html": [
       "<div><style>\n",
       ".dataframe > thead > tr,\n",
       ".dataframe > tbody > tr {\n",
       "  text-align: right;\n",
       "  white-space: pre-wrap;\n",
       "}\n",
       "</style>\n",
       "<small>shape: (7, 2)</small><table border=\"1\" class=\"dataframe\"><thead><tr><th>game_mode</th><th>count</th></tr><tr><td>i64</td><td>u32</td></tr></thead><tbody><tr><td>1</td><td>18</td></tr><tr><td>2</td><td>5231</td></tr><tr><td>4</td><td>63035</td></tr><tr><td>22</td><td>2516163</td></tr><tr><td>16</td><td>40</td></tr><tr><td>5</td><td>1</td></tr><tr><td>3</td><td>26735</td></tr></tbody></table></div>"
      ],
      "text/plain": [
       "shape: (7, 2)\n",
       "┌───────────┬─────────┐\n",
       "│ game_mode ┆ count   │\n",
       "│ ---       ┆ ---     │\n",
       "│ i64       ┆ u32     │\n",
       "╞═══════════╪═════════╡\n",
       "│ 1         ┆ 18      │\n",
       "│ 2         ┆ 5231    │\n",
       "│ 4         ┆ 63035   │\n",
       "│ 22        ┆ 2516163 │\n",
       "│ 16        ┆ 40      │\n",
       "│ 5         ┆ 1       │\n",
       "│ 3         ┆ 26735   │\n",
       "└───────────┴─────────┘"
      ]
     },
     "execution_count": 22,
     "metadata": {},
     "output_type": "execute_result"
    }
   ],
   "source": [
    "df['game_mode'].value_counts()"
   ]
  },
  {
   "cell_type": "code",
   "execution_count": 23,
   "id": "c85ed82c",
   "metadata": {
    "pycharm": {
     "name": "#%%\n"
    }
   },
   "outputs": [
    {
     "data": {
      "text/plain": [
       "(2350100, 261123)"
      ]
     },
     "execution_count": 23,
     "metadata": {},
     "output_type": "execute_result"
    }
   ],
   "source": [
    "TEST_DICTS = DICTS[-len(DICTS) // 10:]\n",
    "TRAIN_DICTS = DICTS[:-len(DICTS) // 10]\n",
    "len(TRAIN_DICTS), len(TEST_DICTS)"
   ]
  },
  {
   "cell_type": "code",
   "execution_count": 24,
   "id": "d8e4df54",
   "metadata": {
    "pycharm": {
     "name": "#%%\n"
    }
   },
   "outputs": [],
   "source": [
    "from picker.model.dataset import TeamDataset"
   ]
  },
  {
   "cell_type": "code",
   "execution_count": 25,
   "id": "93446d2d",
   "metadata": {
    "pycharm": {
     "name": "#%%\n"
    }
   },
   "outputs": [],
   "source": [
    "# from tqdm import tqdm\n",
    "\n",
    "# df = pl.read_parquet('../DATA/tmp_03.20.2023.10.08.35.parquet').to_pandas()\n",
    "# SET = set()\n",
    "# for idx, row in tqdm(df.iterrows()):\n",
    "#     SET.update(row['winner_team'])\n",
    "    \n",
    "# TRANSFORM = {hero_id : idx + 1 for idx, hero_id in enumerate(list(SET))}\n",
    "# TRANSFORM"
   ]
  },
  {
   "cell_type": "code",
   "execution_count": 26,
   "id": "57c64188",
   "metadata": {
    "pycharm": {
     "name": "#%%\n"
    }
   },
   "outputs": [],
   "source": [
    "train_data = TeamDataset('', dicts_override=TRAIN_DICTS, p=0.2)\n",
    "test_data1 = TeamDataset('', dicts_override=TEST_DICTS, p=0.0)\n",
    "test_data2 = TeamDataset('', dicts_override=TEST_DICTS, p=0.2)"
   ]
  },
  {
   "cell_type": "code",
   "execution_count": 27,
   "id": "966ac411",
   "metadata": {
    "pycharm": {
     "name": "#%%\n"
    }
   },
   "outputs": [],
   "source": [
    "from picker.model.training_model import run_training\n",
    "from picker.model.transformer import TransformerModel\n",
    "from picker.model.constants import HERO_TRANSFORM"
   ]
  },
  {
   "cell_type": "code",
   "execution_count": 28,
   "id": "b0a72f7c",
   "metadata": {
    "pycharm": {
     "name": "#%%\n"
    }
   },
   "outputs": [],
   "source": [
    "# embedding_dict = {'team': [len(HERO_TRANSFORM) + 1, 15], 'enemy': [len(HERO_TRANSFORM) + 1, 32]} \n",
    "embedding_dict = {'team': [len(HERO_TRANSFORM) + 1, 32 - 3 - 1], 'rank': [6, 3]} \n",
    "model = TransformerModel(embedding_dict=embedding_dict, num_heads=8, num_layers=6,)"
   ]
  },
  {
   "cell_type": "code",
   "execution_count": 30,
   "id": "1dd3082b",
   "metadata": {
    "pycharm": {
     "name": "#%%\n"
    },
    "run_control": {
     "marked": true
    }
   },
   "outputs": [
    {
     "data": {
      "image/png": "[encoded data removed]",
      "text/plain": [
       "<Figure size 1600x600 with 2 Axes>"
      ]
     },
     "metadata": {},
     "output_type": "display_data"
    },
    {
     "name": "stderr",
     "output_type": "stream",
     "text": [
      "Train...:   2%|█▌                                                                                                | 9/574 [00:02<02:51,  3.29it/s]\n"
     ]
    },
    {
     "ename": "KeyboardInterrupt",
     "evalue": "",
     "output_type": "error",
     "traceback": [
      "\u001b[0;31m---------------------------------------------------------------------------\u001b[0m",
      "\u001b[0;31mKeyboardInterrupt\u001b[0m                         Traceback (most recent call last)",
      "Cell \u001b[0;32mIn[30], line 4\u001b[0m\n\u001b[1;32m      1\u001b[0m \u001b[38;5;28;01mfrom\u001b[39;00m\u001b[38;5;250m \u001b[39m\u001b[38;5;21;01mtorch\u001b[39;00m\u001b[38;5;21;01m.\u001b[39;00m\u001b[38;5;21;01mnn\u001b[39;00m\u001b[38;5;250m \u001b[39m\u001b[38;5;28;01mimport\u001b[39;00m BCELoss, CrossEntropyLoss\n\u001b[1;32m      2\u001b[0m \u001b[38;5;28;01mimport\u001b[39;00m\u001b[38;5;250m \u001b[39m\u001b[38;5;21;01mtorch\u001b[39;00m\n\u001b[0;32m----> 4\u001b[0m \u001b[43mrun_training\u001b[49m\u001b[43m(\u001b[49m\u001b[43mmodel\u001b[49m\u001b[38;5;241;43m=\u001b[39;49m\u001b[43mmodel\u001b[49m\u001b[43m,\u001b[49m\u001b[43m \u001b[49m\u001b[43mname\u001b[49m\u001b[38;5;241;43m=\u001b[39;49m\u001b[38;5;124;43m'\u001b[39;49m\u001b[38;5;124;43mtrans-32-0.2-v2\u001b[39;49m\u001b[38;5;124;43m'\u001b[39;49m\u001b[43m,\u001b[49m\u001b[43m \u001b[49m\u001b[43mtrain_data\u001b[49m\u001b[38;5;241;43m=\u001b[39;49m\u001b[43mtrain_data\u001b[49m\u001b[43m,\u001b[49m\u001b[43m \u001b[49m\u001b[43mtest_datas\u001b[49m\u001b[38;5;241;43m=\u001b[39;49m\u001b[43m[\u001b[49m\u001b[43mtest_data1\u001b[49m\u001b[43m,\u001b[49m\u001b[43m \u001b[49m\u001b[43mtest_data2\u001b[49m\u001b[43m]\u001b[49m\u001b[43m,\u001b[49m\n\u001b[1;32m      5\u001b[0m \u001b[43m             \u001b[49m\u001b[43moptimizer\u001b[49m\u001b[38;5;241;43m=\u001b[39;49m\u001b[43mtorch\u001b[49m\u001b[38;5;241;43m.\u001b[39;49m\u001b[43moptim\u001b[49m\u001b[38;5;241;43m.\u001b[39;49m\u001b[43mAdam\u001b[49m\u001b[43m(\u001b[49m\u001b[43mmodel\u001b[49m\u001b[38;5;241;43m.\u001b[39;49m\u001b[43mparameters\u001b[49m\u001b[43m(\u001b[49m\u001b[43m)\u001b[49m\u001b[43m,\u001b[49m\u001b[43m \u001b[49m\u001b[43mlr\u001b[49m\u001b[38;5;241;43m=\u001b[39;49m\u001b[38;5;241;43m3e-4\u001b[39;49m\u001b[43m)\u001b[49m\u001b[43m,\u001b[49m\n\u001b[1;32m      6\u001b[0m \u001b[43m             \u001b[49m\u001b[43mcriterion\u001b[49m\u001b[38;5;241;43m=\u001b[39;49m\u001b[43mCrossEntropyLoss\u001b[49m\u001b[43m(\u001b[49m\u001b[43m)\u001b[49m\u001b[43m,\u001b[49m\n\u001b[1;32m      7\u001b[0m \u001b[43m             \u001b[49m\u001b[43mepochs\u001b[49m\u001b[38;5;241;43m=\u001b[39;49m\u001b[38;5;241;43m100\u001b[39;49m\u001b[43m,\u001b[49m\u001b[43m \u001b[49m\u001b[43mbatch_size\u001b[49m\u001b[38;5;241;43m=\u001b[39;49m\u001b[38;5;241;43m1024\u001b[39;49m\u001b[43m \u001b[49m\u001b[38;5;241;43m*\u001b[39;49m\u001b[43m \u001b[49m\u001b[38;5;241;43m8\u001b[39;49m\u001b[43m,\u001b[49m\u001b[43m \u001b[49m\u001b[43mdevice\u001b[49m\u001b[38;5;241;43m=\u001b[39;49m\u001b[38;5;124;43m'\u001b[39;49m\u001b[38;5;124;43mcuda\u001b[39;49m\u001b[38;5;124;43m'\u001b[39;49m\u001b[43m)\u001b[49m\n",
      "File \u001b[0;32m/mnt/d/Git_shit_2/shad_courses/picker/picker/model/training_model.py:100\u001b[0m, in \u001b[0;36mrun_training\u001b[0;34m(model, name, train_data, test_datas, criterion, optimizer, epochs, batch_size, device)\u001b[0m\n\u001b[1;32m     97\u001b[0m model \u001b[38;5;241m=\u001b[39m model\u001b[38;5;241m.\u001b[39mto(device)\n\u001b[1;32m     99\u001b[0m \u001b[38;5;28;01mtry\u001b[39;00m:\n\u001b[0;32m--> 100\u001b[0m     \u001b[38;5;28;01mfor\u001b[39;00m epoch \u001b[38;5;129;01min\u001b[39;00m \u001b[38;5;28mrange\u001b[39m(epochs):\n\u001b[1;32m    101\u001b[0m         loss_log \u001b[38;5;241m=\u001b[39m train(\n\u001b[1;32m    102\u001b[0m             model\u001b[38;5;241m=\u001b[39mmodel,\n\u001b[1;32m    103\u001b[0m             train_dl\u001b[38;5;241m=\u001b[39mtrain_dl,\n\u001b[0;32m   (...)\u001b[0m\n\u001b[1;32m    106\u001b[0m             device\u001b[38;5;241m=\u001b[39mdevice,\n\u001b[1;32m    107\u001b[0m         )\n\u001b[1;32m    108\u001b[0m         epoch_losses\u001b[38;5;241m.\u001b[39mappend(np\u001b[38;5;241m.\u001b[39mmean(loss_log))\n",
      "File \u001b[0;32m/mnt/d/Git_shit_2/shad_courses/picker/picker/model/training_model.py:29\u001b[0m, in \u001b[0;36mtrain\u001b[0;34m(model, train_dl, criterion, optimizer, device)\u001b[0m\n\u001b[1;32m     26\u001b[0m     loss_log\u001b[38;5;241m.\u001b[39mappend(loss\u001b[38;5;241m.\u001b[39mdetach()\u001b[38;5;241m.\u001b[39mcpu()\u001b[38;5;241m.\u001b[39mnumpy()\u001b[38;5;241m.\u001b[39mitem())\n\u001b[1;32m     28\u001b[0m     loss\u001b[38;5;241m.\u001b[39mbackward()\n\u001b[0;32m---> 29\u001b[0m     \u001b[43moptimizer\u001b[49m\u001b[38;5;241;43m.\u001b[39;49m\u001b[43mstep\u001b[49m\u001b[43m(\u001b[49m\u001b[43m)\u001b[49m\n\u001b[1;32m     30\u001b[0m     optimizer\u001b[38;5;241m.\u001b[39mzero_grad()\n\u001b[1;32m     32\u001b[0m \u001b[38;5;28;01mreturn\u001b[39;00m loss_log\n",
      "File \u001b[0;32m~/.cache/pypoetry/virtualenvs/picker-aqmUO_25-py3.10/lib/python3.10/site-packages/torch/optim/optimizer.py:140\u001b[0m, in \u001b[0;36mOptimizer._hook_for_profile.<locals>.profile_hook_step.<locals>.wrapper\u001b[0;34m(*args, **kwargs)\u001b[0m\n\u001b[1;32m    138\u001b[0m profile_name \u001b[38;5;241m=\u001b[39m \u001b[38;5;124m\"\u001b[39m\u001b[38;5;124mOptimizer.step#\u001b[39m\u001b[38;5;132;01m{}\u001b[39;00m\u001b[38;5;124m.step\u001b[39m\u001b[38;5;124m\"\u001b[39m\u001b[38;5;241m.\u001b[39mformat(obj\u001b[38;5;241m.\u001b[39m\u001b[38;5;18m__class__\u001b[39m\u001b[38;5;241m.\u001b[39m\u001b[38;5;18m__name__\u001b[39m)\n\u001b[1;32m    139\u001b[0m \u001b[38;5;28;01mwith\u001b[39;00m torch\u001b[38;5;241m.\u001b[39mautograd\u001b[38;5;241m.\u001b[39mprofiler\u001b[38;5;241m.\u001b[39mrecord_function(profile_name):\n\u001b[0;32m--> 140\u001b[0m     out \u001b[38;5;241m=\u001b[39m \u001b[43mfunc\u001b[49m\u001b[43m(\u001b[49m\u001b[38;5;241;43m*\u001b[39;49m\u001b[43margs\u001b[49m\u001b[43m,\u001b[49m\u001b[43m \u001b[49m\u001b[38;5;241;43m*\u001b[39;49m\u001b[38;5;241;43m*\u001b[39;49m\u001b[43mkwargs\u001b[49m\u001b[43m)\u001b[49m\n\u001b[1;32m    141\u001b[0m     obj\u001b[38;5;241m.\u001b[39m_optimizer_step_code()\n\u001b[1;32m    142\u001b[0m     \u001b[38;5;28;01mreturn\u001b[39;00m out\n",
      "File \u001b[0;32m~/.cache/pypoetry/virtualenvs/picker-aqmUO_25-py3.10/lib/python3.10/site-packages/torch/optim/optimizer.py:23\u001b[0m, in \u001b[0;36m_use_grad_for_differentiable.<locals>._use_grad\u001b[0;34m(self, *args, **kwargs)\u001b[0m\n\u001b[1;32m     21\u001b[0m \u001b[38;5;28;01mtry\u001b[39;00m:\n\u001b[1;32m     22\u001b[0m     torch\u001b[38;5;241m.\u001b[39mset_grad_enabled(\u001b[38;5;28mself\u001b[39m\u001b[38;5;241m.\u001b[39mdefaults[\u001b[38;5;124m'\u001b[39m\u001b[38;5;124mdifferentiable\u001b[39m\u001b[38;5;124m'\u001b[39m])\n\u001b[0;32m---> 23\u001b[0m     ret \u001b[38;5;241m=\u001b[39m \u001b[43mfunc\u001b[49m\u001b[43m(\u001b[49m\u001b[38;5;28;43mself\u001b[39;49m\u001b[43m,\u001b[49m\u001b[43m \u001b[49m\u001b[38;5;241;43m*\u001b[39;49m\u001b[43margs\u001b[49m\u001b[43m,\u001b[49m\u001b[43m \u001b[49m\u001b[38;5;241;43m*\u001b[39;49m\u001b[38;5;241;43m*\u001b[39;49m\u001b[43mkwargs\u001b[49m\u001b[43m)\u001b[49m\n\u001b[1;32m     24\u001b[0m \u001b[38;5;28;01mfinally\u001b[39;00m:\n\u001b[1;32m     25\u001b[0m     torch\u001b[38;5;241m.\u001b[39mset_grad_enabled(prev_grad)\n",
      "File \u001b[0;32m~/.cache/pypoetry/virtualenvs/picker-aqmUO_25-py3.10/lib/python3.10/site-packages/torch/optim/adam.py:234\u001b[0m, in \u001b[0;36mAdam.step\u001b[0;34m(self, closure, grad_scaler)\u001b[0m\n\u001b[1;32m    231\u001b[0m                 \u001b[38;5;28;01mraise\u001b[39;00m \u001b[38;5;167;01mRuntimeError\u001b[39;00m(\u001b[38;5;124m'\u001b[39m\u001b[38;5;124m`requires_grad` is not supported for `step` in differentiable mode\u001b[39m\u001b[38;5;124m'\u001b[39m)\n\u001b[1;32m    232\u001b[0m             state_steps\u001b[38;5;241m.\u001b[39mappend(state[\u001b[38;5;124m'\u001b[39m\u001b[38;5;124mstep\u001b[39m\u001b[38;5;124m'\u001b[39m])\n\u001b[0;32m--> 234\u001b[0m     \u001b[43madam\u001b[49m\u001b[43m(\u001b[49m\u001b[43mparams_with_grad\u001b[49m\u001b[43m,\u001b[49m\n\u001b[1;32m    235\u001b[0m \u001b[43m         \u001b[49m\u001b[43mgrads\u001b[49m\u001b[43m,\u001b[49m\n\u001b[1;32m    236\u001b[0m \u001b[43m         \u001b[49m\u001b[43mexp_avgs\u001b[49m\u001b[43m,\u001b[49m\n\u001b[1;32m    237\u001b[0m \u001b[43m         \u001b[49m\u001b[43mexp_avg_sqs\u001b[49m\u001b[43m,\u001b[49m\n\u001b[1;32m    238\u001b[0m \u001b[43m         \u001b[49m\u001b[43mmax_exp_avg_sqs\u001b[49m\u001b[43m,\u001b[49m\n\u001b[1;32m    239\u001b[0m \u001b[43m         \u001b[49m\u001b[43mstate_steps\u001b[49m\u001b[43m,\u001b[49m\n\u001b[1;32m    240\u001b[0m \u001b[43m         \u001b[49m\u001b[43mamsgrad\u001b[49m\u001b[38;5;241;43m=\u001b[39;49m\u001b[43mgroup\u001b[49m\u001b[43m[\u001b[49m\u001b[38;5;124;43m'\u001b[39;49m\u001b[38;5;124;43mamsgrad\u001b[39;49m\u001b[38;5;124;43m'\u001b[39;49m\u001b[43m]\u001b[49m\u001b[43m,\u001b[49m\n\u001b[1;32m    241\u001b[0m \u001b[43m         \u001b[49m\u001b[43mbeta1\u001b[49m\u001b[38;5;241;43m=\u001b[39;49m\u001b[43mbeta1\u001b[49m\u001b[43m,\u001b[49m\n\u001b[1;32m    242\u001b[0m \u001b[43m         \u001b[49m\u001b[43mbeta2\u001b[49m\u001b[38;5;241;43m=\u001b[39;49m\u001b[43mbeta2\u001b[49m\u001b[43m,\u001b[49m\n\u001b[1;32m    243\u001b[0m \u001b[43m         \u001b[49m\u001b[43mlr\u001b[49m\u001b[38;5;241;43m=\u001b[39;49m\u001b[43mgroup\u001b[49m\u001b[43m[\u001b[49m\u001b[38;5;124;43m'\u001b[39;49m\u001b[38;5;124;43mlr\u001b[39;49m\u001b[38;5;124;43m'\u001b[39;49m\u001b[43m]\u001b[49m\u001b[43m,\u001b[49m\n\u001b[1;32m    244\u001b[0m \u001b[43m         \u001b[49m\u001b[43mweight_decay\u001b[49m\u001b[38;5;241;43m=\u001b[39;49m\u001b[43mgroup\u001b[49m\u001b[43m[\u001b[49m\u001b[38;5;124;43m'\u001b[39;49m\u001b[38;5;124;43mweight_decay\u001b[39;49m\u001b[38;5;124;43m'\u001b[39;49m\u001b[43m]\u001b[49m\u001b[43m,\u001b[49m\n\u001b[1;32m    245\u001b[0m \u001b[43m         \u001b[49m\u001b[43meps\u001b[49m\u001b[38;5;241;43m=\u001b[39;49m\u001b[43mgroup\u001b[49m\u001b[43m[\u001b[49m\u001b[38;5;124;43m'\u001b[39;49m\u001b[38;5;124;43meps\u001b[39;49m\u001b[38;5;124;43m'\u001b[39;49m\u001b[43m]\u001b[49m\u001b[43m,\u001b[49m\n\u001b[1;32m    246\u001b[0m \u001b[43m         \u001b[49m\u001b[43mmaximize\u001b[49m\u001b[38;5;241;43m=\u001b[39;49m\u001b[43mgroup\u001b[49m\u001b[43m[\u001b[49m\u001b[38;5;124;43m'\u001b[39;49m\u001b[38;5;124;43mmaximize\u001b[39;49m\u001b[38;5;124;43m'\u001b[39;49m\u001b[43m]\u001b[49m\u001b[43m,\u001b[49m\n\u001b[1;32m    247\u001b[0m \u001b[43m         \u001b[49m\u001b[43mforeach\u001b[49m\u001b[38;5;241;43m=\u001b[39;49m\u001b[43mgroup\u001b[49m\u001b[43m[\u001b[49m\u001b[38;5;124;43m'\u001b[39;49m\u001b[38;5;124;43mforeach\u001b[39;49m\u001b[38;5;124;43m'\u001b[39;49m\u001b[43m]\u001b[49m\u001b[43m,\u001b[49m\n\u001b[1;32m    248\u001b[0m \u001b[43m         \u001b[49m\u001b[43mcapturable\u001b[49m\u001b[38;5;241;43m=\u001b[39;49m\u001b[43mgroup\u001b[49m\u001b[43m[\u001b[49m\u001b[38;5;124;43m'\u001b[39;49m\u001b[38;5;124;43mcapturable\u001b[39;49m\u001b[38;5;124;43m'\u001b[39;49m\u001b[43m]\u001b[49m\u001b[43m,\u001b[49m\n\u001b[1;32m    249\u001b[0m \u001b[43m         \u001b[49m\u001b[43mdifferentiable\u001b[49m\u001b[38;5;241;43m=\u001b[39;49m\u001b[43mgroup\u001b[49m\u001b[43m[\u001b[49m\u001b[38;5;124;43m'\u001b[39;49m\u001b[38;5;124;43mdifferentiable\u001b[39;49m\u001b[38;5;124;43m'\u001b[39;49m\u001b[43m]\u001b[49m\u001b[43m,\u001b[49m\n\u001b[1;32m    250\u001b[0m \u001b[43m         \u001b[49m\u001b[43mfused\u001b[49m\u001b[38;5;241;43m=\u001b[39;49m\u001b[43mgroup\u001b[49m\u001b[43m[\u001b[49m\u001b[38;5;124;43m'\u001b[39;49m\u001b[38;5;124;43mfused\u001b[39;49m\u001b[38;5;124;43m'\u001b[39;49m\u001b[43m]\u001b[49m\u001b[43m,\u001b[49m\n\u001b[1;32m    251\u001b[0m \u001b[43m         \u001b[49m\u001b[43mgrad_scale\u001b[49m\u001b[38;5;241;43m=\u001b[39;49m\u001b[43mgrad_scale\u001b[49m\u001b[43m,\u001b[49m\n\u001b[1;32m    252\u001b[0m \u001b[43m         \u001b[49m\u001b[43mfound_inf\u001b[49m\u001b[38;5;241;43m=\u001b[39;49m\u001b[43mfound_inf\u001b[49m\u001b[43m)\u001b[49m\n\u001b[1;32m    254\u001b[0m \u001b[38;5;28;01mreturn\u001b[39;00m loss\n",
      "File \u001b[0;32m~/.cache/pypoetry/virtualenvs/picker-aqmUO_25-py3.10/lib/python3.10/site-packages/torch/optim/adam.py:300\u001b[0m, in \u001b[0;36madam\u001b[0;34m(params, grads, exp_avgs, exp_avg_sqs, max_exp_avg_sqs, state_steps, foreach, capturable, differentiable, fused, grad_scale, found_inf, amsgrad, beta1, beta2, lr, weight_decay, eps, maximize)\u001b[0m\n\u001b[1;32m    297\u001b[0m \u001b[38;5;28;01melse\u001b[39;00m:\n\u001b[1;32m    298\u001b[0m     func \u001b[38;5;241m=\u001b[39m _single_tensor_adam\n\u001b[0;32m--> 300\u001b[0m \u001b[43mfunc\u001b[49m\u001b[43m(\u001b[49m\u001b[43mparams\u001b[49m\u001b[43m,\u001b[49m\n\u001b[1;32m    301\u001b[0m \u001b[43m     \u001b[49m\u001b[43mgrads\u001b[49m\u001b[43m,\u001b[49m\n\u001b[1;32m    302\u001b[0m \u001b[43m     \u001b[49m\u001b[43mexp_avgs\u001b[49m\u001b[43m,\u001b[49m\n\u001b[1;32m    303\u001b[0m \u001b[43m     \u001b[49m\u001b[43mexp_avg_sqs\u001b[49m\u001b[43m,\u001b[49m\n\u001b[1;32m    304\u001b[0m \u001b[43m     \u001b[49m\u001b[43mmax_exp_avg_sqs\u001b[49m\u001b[43m,\u001b[49m\n\u001b[1;32m    305\u001b[0m \u001b[43m     \u001b[49m\u001b[43mstate_steps\u001b[49m\u001b[43m,\u001b[49m\n\u001b[1;32m    306\u001b[0m \u001b[43m     \u001b[49m\u001b[43mamsgrad\u001b[49m\u001b[38;5;241;43m=\u001b[39;49m\u001b[43mamsgrad\u001b[49m\u001b[43m,\u001b[49m\n\u001b[1;32m    307\u001b[0m \u001b[43m     \u001b[49m\u001b[43mbeta1\u001b[49m\u001b[38;5;241;43m=\u001b[39;49m\u001b[43mbeta1\u001b[49m\u001b[43m,\u001b[49m\n\u001b[1;32m    308\u001b[0m \u001b[43m     \u001b[49m\u001b[43mbeta2\u001b[49m\u001b[38;5;241;43m=\u001b[39;49m\u001b[43mbeta2\u001b[49m\u001b[43m,\u001b[49m\n\u001b[1;32m    309\u001b[0m \u001b[43m     \u001b[49m\u001b[43mlr\u001b[49m\u001b[38;5;241;43m=\u001b[39;49m\u001b[43mlr\u001b[49m\u001b[43m,\u001b[49m\n\u001b[1;32m    310\u001b[0m \u001b[43m     \u001b[49m\u001b[43mweight_decay\u001b[49m\u001b[38;5;241;43m=\u001b[39;49m\u001b[43mweight_decay\u001b[49m\u001b[43m,\u001b[49m\n\u001b[1;32m    311\u001b[0m \u001b[43m     \u001b[49m\u001b[43meps\u001b[49m\u001b[38;5;241;43m=\u001b[39;49m\u001b[43meps\u001b[49m\u001b[43m,\u001b[49m\n\u001b[1;32m    312\u001b[0m \u001b[43m     \u001b[49m\u001b[43mmaximize\u001b[49m\u001b[38;5;241;43m=\u001b[39;49m\u001b[43mmaximize\u001b[49m\u001b[43m,\u001b[49m\n\u001b[1;32m    313\u001b[0m \u001b[43m     \u001b[49m\u001b[43mcapturable\u001b[49m\u001b[38;5;241;43m=\u001b[39;49m\u001b[43mcapturable\u001b[49m\u001b[43m,\u001b[49m\n\u001b[1;32m    314\u001b[0m \u001b[43m     \u001b[49m\u001b[43mdifferentiable\u001b[49m\u001b[38;5;241;43m=\u001b[39;49m\u001b[43mdifferentiable\u001b[49m\u001b[43m,\u001b[49m\n\u001b[1;32m    315\u001b[0m \u001b[43m     \u001b[49m\u001b[43mgrad_scale\u001b[49m\u001b[38;5;241;43m=\u001b[39;49m\u001b[43mgrad_scale\u001b[49m\u001b[43m,\u001b[49m\n\u001b[1;32m    316\u001b[0m \u001b[43m     \u001b[49m\u001b[43mfound_inf\u001b[49m\u001b[38;5;241;43m=\u001b[39;49m\u001b[43mfound_inf\u001b[49m\u001b[43m)\u001b[49m\n",
      "File \u001b[0;32m~/.cache/pypoetry/virtualenvs/picker-aqmUO_25-py3.10/lib/python3.10/site-packages/torch/optim/adam.py:353\u001b[0m, in \u001b[0;36m_single_tensor_adam\u001b[0;34m(params, grads, exp_avgs, exp_avg_sqs, max_exp_avg_sqs, state_steps, grad_scale, found_inf, amsgrad, beta1, beta2, lr, weight_decay, eps, maximize, capturable, differentiable)\u001b[0m\n\u001b[1;32m    350\u001b[0m \u001b[38;5;66;03m# update step\u001b[39;00m\n\u001b[1;32m    351\u001b[0m step_t \u001b[38;5;241m+\u001b[39m\u001b[38;5;241m=\u001b[39m \u001b[38;5;241m1\u001b[39m\n\u001b[0;32m--> 353\u001b[0m \u001b[38;5;28;01mif\u001b[39;00m weight_decay \u001b[38;5;241m!=\u001b[39m \u001b[38;5;241m0\u001b[39m:\n\u001b[1;32m    354\u001b[0m     grad \u001b[38;5;241m=\u001b[39m grad\u001b[38;5;241m.\u001b[39madd(param, alpha\u001b[38;5;241m=\u001b[39mweight_decay)\n\u001b[1;32m    356\u001b[0m \u001b[38;5;28;01mif\u001b[39;00m torch\u001b[38;5;241m.\u001b[39mis_complex(param):\n",
      "\u001b[0;31mKeyboardInterrupt\u001b[0m: "
     ]
    }
   ],
   "source": [
    "from torch.nn import BCELoss, CrossEntropyLoss\n",
    "import torch\n",
    "\n",
    "run_training(model=model, name='trans-32-0.2-v2', train_data=train_data, test_datas=[test_data1, test_data2],\n",
    "             optimizer=torch.optim.Adam(model.parameters(), lr=3e-4),\n",
    "             criterion=CrossEntropyLoss(),\n",
    "             epochs=100, batch_size=1024 * 8, device='cuda')"
   ]
  },
  {
   "cell_type": "code",
   "execution_count": 31,
   "id": "591e8775-86d6-4b1e-a767-89e635c64118",
   "metadata": {},
   "outputs": [],
   "source": [
    "torch.save(model.state_dict(), f\"zhopa.pth\")"
   ]
  },
  {
   "cell_type": "code",
   "execution_count": 15,
   "id": "e3e001ef",
   "metadata": {
    "pycharm": {
     "name": "#%%\n"
    }
   },
   "outputs": [
    {
     "name": "stdout",
     "output_type": "stream",
     "text": [
      "> \u001b[0;32m/home/qc7/.cache/pypoetry/virtualenvs/picker-aqmUO_25-py3.10/lib/python3.10/site-packages/torch/_utils.py\u001b[0m(543)\u001b[0;36mreraise\u001b[0;34m()\u001b[0m\n",
      "\u001b[0;32m    541 \u001b[0;31m            \u001b[0;31m# instantiate since we don't know how to\u001b[0m\u001b[0;34m\u001b[0m\u001b[0;34m\u001b[0m\u001b[0m\n",
      "\u001b[0m\u001b[0;32m    542 \u001b[0;31m            \u001b[0;32mraise\u001b[0m \u001b[0mRuntimeError\u001b[0m\u001b[0;34m(\u001b[0m\u001b[0mmsg\u001b[0m\u001b[0;34m)\u001b[0m \u001b[0;32mfrom\u001b[0m \u001b[0;32mNone\u001b[0m\u001b[0;34m\u001b[0m\u001b[0;34m\u001b[0m\u001b[0m\n",
      "\u001b[0m\u001b[0;32m--> 543 \u001b[0;31m        \u001b[0;32mraise\u001b[0m \u001b[0mexception\u001b[0m\u001b[0;34m\u001b[0m\u001b[0;34m\u001b[0m\u001b[0m\n",
      "\u001b[0m\u001b[0;32m    544 \u001b[0;31m\u001b[0;34m\u001b[0m\u001b[0m\n",
      "\u001b[0m\u001b[0;32m    545 \u001b[0;31m\u001b[0;34m\u001b[0m\u001b[0m\n",
      "\u001b[0m\n"
     ]
    },
    {
     "name": "stdin",
     "output_type": "stream",
     "text": [
      "ipdb>  u\n"
     ]
    },
    {
     "name": "stdout",
     "output_type": "stream",
     "text": [
      "> \u001b[0;32m/home/qc7/.cache/pypoetry/virtualenvs/picker-aqmUO_25-py3.10/lib/python3.10/site-packages/torch/utils/data/dataloader.py\u001b[0m(1359)\u001b[0;36m_process_data\u001b[0;34m()\u001b[0m\n",
      "\u001b[0;32m   1357 \u001b[0;31m        \u001b[0mself\u001b[0m\u001b[0;34m.\u001b[0m\u001b[0m_try_put_index\u001b[0m\u001b[0;34m(\u001b[0m\u001b[0;34m)\u001b[0m\u001b[0;34m\u001b[0m\u001b[0;34m\u001b[0m\u001b[0m\n",
      "\u001b[0m\u001b[0;32m   1358 \u001b[0;31m        \u001b[0;32mif\u001b[0m \u001b[0misinstance\u001b[0m\u001b[0;34m(\u001b[0m\u001b[0mdata\u001b[0m\u001b[0;34m,\u001b[0m \u001b[0mExceptionWrapper\u001b[0m\u001b[0;34m)\u001b[0m\u001b[0;34m:\u001b[0m\u001b[0;34m\u001b[0m\u001b[0;34m\u001b[0m\u001b[0m\n",
      "\u001b[0m\u001b[0;32m-> 1359 \u001b[0;31m            \u001b[0mdata\u001b[0m\u001b[0;34m.\u001b[0m\u001b[0mreraise\u001b[0m\u001b[0;34m(\u001b[0m\u001b[0;34m)\u001b[0m\u001b[0;34m\u001b[0m\u001b[0;34m\u001b[0m\u001b[0m\n",
      "\u001b[0m\u001b[0;32m   1360 \u001b[0;31m        \u001b[0;32mreturn\u001b[0m \u001b[0mdata\u001b[0m\u001b[0;34m\u001b[0m\u001b[0;34m\u001b[0m\u001b[0m\n",
      "\u001b[0m\u001b[0;32m   1361 \u001b[0;31m\u001b[0;34m\u001b[0m\u001b[0m\n",
      "\u001b[0m\n"
     ]
    },
    {
     "name": "stdin",
     "output_type": "stream",
     "text": [
      "ipdb>  u\n"
     ]
    },
    {
     "name": "stdout",
     "output_type": "stream",
     "text": [
      "> \u001b[0;32m/home/qc7/.cache/pypoetry/virtualenvs/picker-aqmUO_25-py3.10/lib/python3.10/site-packages/torch/utils/data/dataloader.py\u001b[0m(1333)\u001b[0;36m_next_data\u001b[0;34m()\u001b[0m\n",
      "\u001b[0;32m   1331 \u001b[0;31m            \u001b[0;32melse\u001b[0m\u001b[0;34m:\u001b[0m\u001b[0;34m\u001b[0m\u001b[0;34m\u001b[0m\u001b[0m\n",
      "\u001b[0m\u001b[0;32m   1332 \u001b[0;31m                \u001b[0;32mdel\u001b[0m \u001b[0mself\u001b[0m\u001b[0;34m.\u001b[0m\u001b[0m_task_info\u001b[0m\u001b[0;34m[\u001b[0m\u001b[0midx\u001b[0m\u001b[0;34m]\u001b[0m\u001b[0;34m\u001b[0m\u001b[0;34m\u001b[0m\u001b[0m\n",
      "\u001b[0m\u001b[0;32m-> 1333 \u001b[0;31m                \u001b[0;32mreturn\u001b[0m \u001b[0mself\u001b[0m\u001b[0;34m.\u001b[0m\u001b[0m_process_data\u001b[0m\u001b[0;34m(\u001b[0m\u001b[0mdata\u001b[0m\u001b[0;34m)\u001b[0m\u001b[0;34m\u001b[0m\u001b[0;34m\u001b[0m\u001b[0m\n",
      "\u001b[0m\u001b[0;32m   1334 \u001b[0;31m\u001b[0;34m\u001b[0m\u001b[0m\n",
      "\u001b[0m\u001b[0;32m   1335 \u001b[0;31m    \u001b[0;32mdef\u001b[0m \u001b[0m_try_put_index\u001b[0m\u001b[0;34m(\u001b[0m\u001b[0mself\u001b[0m\u001b[0;34m)\u001b[0m\u001b[0;34m:\u001b[0m\u001b[0;34m\u001b[0m\u001b[0;34m\u001b[0m\u001b[0m\n",
      "\u001b[0m\n"
     ]
    },
    {
     "name": "stdin",
     "output_type": "stream",
     "text": [
      "ipdb>  u\n"
     ]
    },
    {
     "name": "stdout",
     "output_type": "stream",
     "text": [
      "> \u001b[0;32m/home/qc7/.cache/pypoetry/virtualenvs/picker-aqmUO_25-py3.10/lib/python3.10/site-packages/torch/utils/data/dataloader.py\u001b[0m(628)\u001b[0;36m__next__\u001b[0;34m()\u001b[0m\n",
      "\u001b[0;32m    626 \u001b[0;31m                \u001b[0;31m# TODO(https://github.com/pytorch/pytorch/issues/76750)\u001b[0m\u001b[0;34m\u001b[0m\u001b[0;34m\u001b[0m\u001b[0m\n",
      "\u001b[0m\u001b[0;32m    627 \u001b[0;31m                \u001b[0mself\u001b[0m\u001b[0;34m.\u001b[0m\u001b[0m_reset\u001b[0m\u001b[0;34m(\u001b[0m\u001b[0;34m)\u001b[0m  \u001b[0;31m# type: ignore[call-arg]\u001b[0m\u001b[0;34m\u001b[0m\u001b[0;34m\u001b[0m\u001b[0m\n",
      "\u001b[0m\u001b[0;32m--> 628 \u001b[0;31m            \u001b[0mdata\u001b[0m \u001b[0;34m=\u001b[0m \u001b[0mself\u001b[0m\u001b[0;34m.\u001b[0m\u001b[0m_next_data\u001b[0m\u001b[0;34m(\u001b[0m\u001b[0;34m)\u001b[0m\u001b[0;34m\u001b[0m\u001b[0;34m\u001b[0m\u001b[0m\n",
      "\u001b[0m\u001b[0;32m    629 \u001b[0;31m            \u001b[0mself\u001b[0m\u001b[0;34m.\u001b[0m\u001b[0m_num_yielded\u001b[0m \u001b[0;34m+=\u001b[0m \u001b[0;36m1\u001b[0m\u001b[0;34m\u001b[0m\u001b[0;34m\u001b[0m\u001b[0m\n",
      "\u001b[0m\u001b[0;32m    630 \u001b[0;31m            \u001b[0;32mif\u001b[0m \u001b[0mself\u001b[0m\u001b[0;34m.\u001b[0m\u001b[0m_dataset_kind\u001b[0m \u001b[0;34m==\u001b[0m \u001b[0m_DatasetKind\u001b[0m\u001b[0;34m.\u001b[0m\u001b[0mIterable\u001b[0m \u001b[0;32mand\u001b[0m\u001b[0;31m \u001b[0m\u001b[0;31m\\\u001b[0m\u001b[0;34m\u001b[0m\u001b[0;34m\u001b[0m\u001b[0m\n",
      "\u001b[0m\n"
     ]
    },
    {
     "name": "stdin",
     "output_type": "stream",
     "text": [
      "ipdb>  u\n"
     ]
    },
    {
     "name": "stdout",
     "output_type": "stream",
     "text": [
      "> \u001b[0;32m/home/qc7/.cache/pypoetry/virtualenvs/picker-aqmUO_25-py3.10/lib/python3.10/site-packages/tqdm/std.py\u001b[0m(1195)\u001b[0;36m__iter__\u001b[0;34m()\u001b[0m\n",
      "\u001b[0;32m   1193 \u001b[0;31m\u001b[0;34m\u001b[0m\u001b[0m\n",
      "\u001b[0m\u001b[0;32m   1194 \u001b[0;31m        \u001b[0;32mtry\u001b[0m\u001b[0;34m:\u001b[0m\u001b[0;34m\u001b[0m\u001b[0;34m\u001b[0m\u001b[0m\n",
      "\u001b[0m\u001b[0;32m-> 1195 \u001b[0;31m            \u001b[0;32mfor\u001b[0m \u001b[0mobj\u001b[0m \u001b[0;32min\u001b[0m \u001b[0miterable\u001b[0m\u001b[0;34m:\u001b[0m\u001b[0;34m\u001b[0m\u001b[0;34m\u001b[0m\u001b[0m\n",
      "\u001b[0m\u001b[0;32m   1196 \u001b[0;31m                \u001b[0;32myield\u001b[0m \u001b[0mobj\u001b[0m\u001b[0;34m\u001b[0m\u001b[0;34m\u001b[0m\u001b[0m\n",
      "\u001b[0m\u001b[0;32m   1197 \u001b[0;31m                \u001b[0;31m# Update and possibly print the progressbar.\u001b[0m\u001b[0;34m\u001b[0m\u001b[0;34m\u001b[0m\u001b[0m\n",
      "\u001b[0m\n"
     ]
    },
    {
     "name": "stdin",
     "output_type": "stream",
     "text": [
      "ipdb>  u\n"
     ]
    },
    {
     "name": "stdout",
     "output_type": "stream",
     "text": [
      "> \u001b[0;32m/mnt/d/Git_shit_2/shad_courses/picker/picker/model/training_model.py\u001b[0m(14)\u001b[0;36mtrain\u001b[0;34m()\u001b[0m\n",
      "\u001b[0;32m     12 \u001b[0;31m    \u001b[0moptimizer\u001b[0m\u001b[0;34m.\u001b[0m\u001b[0mzero_grad\u001b[0m\u001b[0;34m(\u001b[0m\u001b[0;34m)\u001b[0m\u001b[0;34m\u001b[0m\u001b[0;34m\u001b[0m\u001b[0m\n",
      "\u001b[0m\u001b[0;32m     13 \u001b[0;31m\u001b[0;34m\u001b[0m\u001b[0m\n",
      "\u001b[0m\u001b[0;32m---> 14 \u001b[0;31m    \u001b[0;32mfor\u001b[0m \u001b[0midx\u001b[0m\u001b[0;34m,\u001b[0m \u001b[0;34m(\u001b[0m\u001b[0mX\u001b[0m\u001b[0;34m,\u001b[0m \u001b[0my\u001b[0m\u001b[0;34m)\u001b[0m \u001b[0;32min\u001b[0m \u001b[0menumerate\u001b[0m\u001b[0;34m(\u001b[0m\u001b[0mtqdm\u001b[0m\u001b[0;34m(\u001b[0m\u001b[0mtrain_dl\u001b[0m\u001b[0;34m,\u001b[0m \u001b[0mtotal\u001b[0m\u001b[0;34m=\u001b[0m\u001b[0mlen\u001b[0m\u001b[0;34m(\u001b[0m\u001b[0mtrain_dl\u001b[0m\u001b[0;34m)\u001b[0m\u001b[0;34m,\u001b[0m \u001b[0mdesc\u001b[0m\u001b[0;34m=\u001b[0m\u001b[0;34m\"Train...\"\u001b[0m\u001b[0;34m)\u001b[0m\u001b[0;34m)\u001b[0m\u001b[0;34m:\u001b[0m\u001b[0;34m\u001b[0m\u001b[0;34m\u001b[0m\u001b[0m\n",
      "\u001b[0m\u001b[0;32m     15 \u001b[0;31m        \u001b[0;32mif\u001b[0m \u001b[0misinstance\u001b[0m\u001b[0;34m(\u001b[0m\u001b[0mX\u001b[0m\u001b[0;34m,\u001b[0m \u001b[0mtorch\u001b[0m\u001b[0;34m.\u001b[0m\u001b[0mTensor\u001b[0m\u001b[0;34m)\u001b[0m\u001b[0;34m:\u001b[0m\u001b[0;34m\u001b[0m\u001b[0;34m\u001b[0m\u001b[0m\n",
      "\u001b[0m\u001b[0;32m     16 \u001b[0;31m            \u001b[0mX\u001b[0m \u001b[0;34m=\u001b[0m \u001b[0mX\u001b[0m\u001b[0;34m.\u001b[0m\u001b[0mto\u001b[0m\u001b[0;34m(\u001b[0m\u001b[0mdevice\u001b[0m\u001b[0;34m)\u001b[0m\u001b[0;34m\u001b[0m\u001b[0;34m\u001b[0m\u001b[0m\n",
      "\u001b[0m\n"
     ]
    },
    {
     "name": "stdin",
     "output_type": "stream",
     "text": [
      "ipdb>  u\n"
     ]
    },
    {
     "name": "stdout",
     "output_type": "stream",
     "text": [
      "> \u001b[0;32m/mnt/d/Git_shit_2/shad_courses/picker/picker/model/training_model.py\u001b[0m(100)\u001b[0;36mrun_training\u001b[0;34m()\u001b[0m\n",
      "\u001b[0;32m     98 \u001b[0;31m\u001b[0;34m\u001b[0m\u001b[0m\n",
      "\u001b[0m\u001b[0;32m     99 \u001b[0;31m    \u001b[0;32mfor\u001b[0m \u001b[0mepoch\u001b[0m \u001b[0;32min\u001b[0m \u001b[0mrange\u001b[0m\u001b[0;34m(\u001b[0m\u001b[0mepochs\u001b[0m\u001b[0;34m)\u001b[0m\u001b[0;34m:\u001b[0m\u001b[0;34m\u001b[0m\u001b[0;34m\u001b[0m\u001b[0m\n",
      "\u001b[0m\u001b[0;32m--> 100 \u001b[0;31m        loss_log = train(\n",
      "\u001b[0m\u001b[0;32m    101 \u001b[0;31m            \u001b[0mmodel\u001b[0m\u001b[0;34m=\u001b[0m\u001b[0mmodel\u001b[0m\u001b[0;34m,\u001b[0m\u001b[0;34m\u001b[0m\u001b[0;34m\u001b[0m\u001b[0m\n",
      "\u001b[0m\u001b[0;32m    102 \u001b[0;31m            \u001b[0mtrain_dl\u001b[0m\u001b[0;34m=\u001b[0m\u001b[0mtrain_dl\u001b[0m\u001b[0;34m,\u001b[0m\u001b[0;34m\u001b[0m\u001b[0;34m\u001b[0m\u001b[0m\n",
      "\u001b[0m\n"
     ]
    },
    {
     "name": "stdin",
     "output_type": "stream",
     "text": [
      "ipdb>  u\n"
     ]
    },
    {
     "name": "stdout",
     "output_type": "stream",
     "text": [
      "> \u001b[0;32m/tmp/ipykernel_56155/687358011.py\u001b[0m(4)\u001b[0;36m<module>\u001b[0;34m()\u001b[0m\n",
      "\u001b[0;32m      2 \u001b[0;31m\u001b[0;32mimport\u001b[0m \u001b[0mtorch\u001b[0m\u001b[0;34m\u001b[0m\u001b[0;34m\u001b[0m\u001b[0m\n",
      "\u001b[0m\u001b[0;32m      3 \u001b[0;31m\u001b[0;34m\u001b[0m\u001b[0m\n",
      "\u001b[0m\u001b[0;32m----> 4 \u001b[0;31mrun_training(model=model, name='trans-32-0.2-v2', train_data=train_data, test_datas=[test_data1, test_data2],\n",
      "\u001b[0m\u001b[0;32m      5 \u001b[0;31m             \u001b[0moptimizer\u001b[0m\u001b[0;34m=\u001b[0m\u001b[0mtorch\u001b[0m\u001b[0;34m.\u001b[0m\u001b[0moptim\u001b[0m\u001b[0;34m.\u001b[0m\u001b[0mAdam\u001b[0m\u001b[0;34m(\u001b[0m\u001b[0mmodel\u001b[0m\u001b[0;34m.\u001b[0m\u001b[0mparameters\u001b[0m\u001b[0;34m(\u001b[0m\u001b[0;34m)\u001b[0m\u001b[0;34m,\u001b[0m \u001b[0mlr\u001b[0m\u001b[0;34m=\u001b[0m\u001b[0;36m3e-4\u001b[0m\u001b[0;34m)\u001b[0m\u001b[0;34m,\u001b[0m\u001b[0;34m\u001b[0m\u001b[0;34m\u001b[0m\u001b[0m\n",
      "\u001b[0m\u001b[0;32m      6 \u001b[0;31m             \u001b[0mcriterion\u001b[0m\u001b[0;34m=\u001b[0m\u001b[0mCrossEntropyLoss\u001b[0m\u001b[0;34m(\u001b[0m\u001b[0;34m)\u001b[0m\u001b[0;34m,\u001b[0m\u001b[0;34m\u001b[0m\u001b[0;34m\u001b[0m\u001b[0m\n",
      "\u001b[0m\n"
     ]
    },
    {
     "name": "stdin",
     "output_type": "stream",
     "text": [
      "ipdb>  d\n"
     ]
    },
    {
     "name": "stdout",
     "output_type": "stream",
     "text": [
      "> \u001b[0;32m/mnt/d/Git_shit_2/shad_courses/picker/picker/model/training_model.py\u001b[0m(100)\u001b[0;36mrun_training\u001b[0;34m()\u001b[0m\n",
      "\u001b[0;32m     98 \u001b[0;31m\u001b[0;34m\u001b[0m\u001b[0m\n",
      "\u001b[0m\u001b[0;32m     99 \u001b[0;31m    \u001b[0;32mfor\u001b[0m \u001b[0mepoch\u001b[0m \u001b[0;32min\u001b[0m \u001b[0mrange\u001b[0m\u001b[0;34m(\u001b[0m\u001b[0mepochs\u001b[0m\u001b[0;34m)\u001b[0m\u001b[0;34m:\u001b[0m\u001b[0;34m\u001b[0m\u001b[0;34m\u001b[0m\u001b[0m\n",
      "\u001b[0m\u001b[0;32m--> 100 \u001b[0;31m        loss_log = train(\n",
      "\u001b[0m\u001b[0;32m    101 \u001b[0;31m            \u001b[0mmodel\u001b[0m\u001b[0;34m=\u001b[0m\u001b[0mmodel\u001b[0m\u001b[0;34m,\u001b[0m\u001b[0;34m\u001b[0m\u001b[0;34m\u001b[0m\u001b[0m\n",
      "\u001b[0m\u001b[0;32m    102 \u001b[0;31m            \u001b[0mtrain_dl\u001b[0m\u001b[0;34m=\u001b[0m\u001b[0mtrain_dl\u001b[0m\u001b[0;34m,\u001b[0m\u001b[0;34m\u001b[0m\u001b[0;34m\u001b[0m\u001b[0m\n",
      "\u001b[0m\n"
     ]
    },
    {
     "name": "stdin",
     "output_type": "stream",
     "text": [
      "ipdb>  d\n"
     ]
    },
    {
     "name": "stdout",
     "output_type": "stream",
     "text": [
      "> \u001b[0;32m/mnt/d/Git_shit_2/shad_courses/picker/picker/model/training_model.py\u001b[0m(14)\u001b[0;36mtrain\u001b[0;34m()\u001b[0m\n",
      "\u001b[0;32m     12 \u001b[0;31m    \u001b[0moptimizer\u001b[0m\u001b[0;34m.\u001b[0m\u001b[0mzero_grad\u001b[0m\u001b[0;34m(\u001b[0m\u001b[0;34m)\u001b[0m\u001b[0;34m\u001b[0m\u001b[0;34m\u001b[0m\u001b[0m\n",
      "\u001b[0m\u001b[0;32m     13 \u001b[0;31m\u001b[0;34m\u001b[0m\u001b[0m\n",
      "\u001b[0m\u001b[0;32m---> 14 \u001b[0;31m    \u001b[0;32mfor\u001b[0m \u001b[0midx\u001b[0m\u001b[0;34m,\u001b[0m \u001b[0;34m(\u001b[0m\u001b[0mX\u001b[0m\u001b[0;34m,\u001b[0m \u001b[0my\u001b[0m\u001b[0;34m)\u001b[0m \u001b[0;32min\u001b[0m \u001b[0menumerate\u001b[0m\u001b[0;34m(\u001b[0m\u001b[0mtqdm\u001b[0m\u001b[0;34m(\u001b[0m\u001b[0mtrain_dl\u001b[0m\u001b[0;34m,\u001b[0m \u001b[0mtotal\u001b[0m\u001b[0;34m=\u001b[0m\u001b[0mlen\u001b[0m\u001b[0;34m(\u001b[0m\u001b[0mtrain_dl\u001b[0m\u001b[0;34m)\u001b[0m\u001b[0;34m,\u001b[0m \u001b[0mdesc\u001b[0m\u001b[0;34m=\u001b[0m\u001b[0;34m\"Train...\"\u001b[0m\u001b[0;34m)\u001b[0m\u001b[0;34m)\u001b[0m\u001b[0;34m:\u001b[0m\u001b[0;34m\u001b[0m\u001b[0;34m\u001b[0m\u001b[0m\n",
      "\u001b[0m\u001b[0;32m     15 \u001b[0;31m        \u001b[0;32mif\u001b[0m \u001b[0misinstance\u001b[0m\u001b[0;34m(\u001b[0m\u001b[0mX\u001b[0m\u001b[0;34m,\u001b[0m \u001b[0mtorch\u001b[0m\u001b[0;34m.\u001b[0m\u001b[0mTensor\u001b[0m\u001b[0;34m)\u001b[0m\u001b[0;34m:\u001b[0m\u001b[0;34m\u001b[0m\u001b[0;34m\u001b[0m\u001b[0m\n",
      "\u001b[0m\u001b[0;32m     16 \u001b[0;31m            \u001b[0mX\u001b[0m \u001b[0;34m=\u001b[0m \u001b[0mX\u001b[0m\u001b[0;34m.\u001b[0m\u001b[0mto\u001b[0m\u001b[0;34m(\u001b[0m\u001b[0mdevice\u001b[0m\u001b[0;34m)\u001b[0m\u001b[0;34m\u001b[0m\u001b[0;34m\u001b[0m\u001b[0m\n",
      "\u001b[0m\n"
     ]
    },
    {
     "name": "stdin",
     "output_type": "stream",
     "text": [
      "ipdb>  d\n"
     ]
    },
    {
     "name": "stdout",
     "output_type": "stream",
     "text": [
      "> \u001b[0;32m/home/qc7/.cache/pypoetry/virtualenvs/picker-aqmUO_25-py3.10/lib/python3.10/site-packages/tqdm/std.py\u001b[0m(1195)\u001b[0;36m__iter__\u001b[0;34m()\u001b[0m\n",
      "\u001b[0;32m   1193 \u001b[0;31m\u001b[0;34m\u001b[0m\u001b[0m\n",
      "\u001b[0m\u001b[0;32m   1194 \u001b[0;31m        \u001b[0;32mtry\u001b[0m\u001b[0;34m:\u001b[0m\u001b[0;34m\u001b[0m\u001b[0;34m\u001b[0m\u001b[0m\n",
      "\u001b[0m\u001b[0;32m-> 1195 \u001b[0;31m            \u001b[0;32mfor\u001b[0m \u001b[0mobj\u001b[0m \u001b[0;32min\u001b[0m \u001b[0miterable\u001b[0m\u001b[0;34m:\u001b[0m\u001b[0;34m\u001b[0m\u001b[0;34m\u001b[0m\u001b[0m\n",
      "\u001b[0m\u001b[0;32m   1196 \u001b[0;31m                \u001b[0;32myield\u001b[0m \u001b[0mobj\u001b[0m\u001b[0;34m\u001b[0m\u001b[0;34m\u001b[0m\u001b[0m\n",
      "\u001b[0m\u001b[0;32m   1197 \u001b[0;31m                \u001b[0;31m# Update and possibly print the progressbar.\u001b[0m\u001b[0;34m\u001b[0m\u001b[0;34m\u001b[0m\u001b[0m\n",
      "\u001b[0m\n"
     ]
    },
    {
     "name": "stdin",
     "output_type": "stream",
     "text": [
      "ipdb>  d\n"
     ]
    },
    {
     "name": "stdout",
     "output_type": "stream",
     "text": [
      "> \u001b[0;32m/home/qc7/.cache/pypoetry/virtualenvs/picker-aqmUO_25-py3.10/lib/python3.10/site-packages/torch/utils/data/dataloader.py\u001b[0m(628)\u001b[0;36m__next__\u001b[0;34m()\u001b[0m\n",
      "\u001b[0;32m    626 \u001b[0;31m                \u001b[0;31m# TODO(https://github.com/pytorch/pytorch/issues/76750)\u001b[0m\u001b[0;34m\u001b[0m\u001b[0;34m\u001b[0m\u001b[0m\n",
      "\u001b[0m\u001b[0;32m    627 \u001b[0;31m                \u001b[0mself\u001b[0m\u001b[0;34m.\u001b[0m\u001b[0m_reset\u001b[0m\u001b[0;34m(\u001b[0m\u001b[0;34m)\u001b[0m  \u001b[0;31m# type: ignore[call-arg]\u001b[0m\u001b[0;34m\u001b[0m\u001b[0;34m\u001b[0m\u001b[0m\n",
      "\u001b[0m\u001b[0;32m--> 628 \u001b[0;31m            \u001b[0mdata\u001b[0m \u001b[0;34m=\u001b[0m \u001b[0mself\u001b[0m\u001b[0;34m.\u001b[0m\u001b[0m_next_data\u001b[0m\u001b[0;34m(\u001b[0m\u001b[0;34m)\u001b[0m\u001b[0;34m\u001b[0m\u001b[0;34m\u001b[0m\u001b[0m\n",
      "\u001b[0m\u001b[0;32m    629 \u001b[0;31m            \u001b[0mself\u001b[0m\u001b[0;34m.\u001b[0m\u001b[0m_num_yielded\u001b[0m \u001b[0;34m+=\u001b[0m \u001b[0;36m1\u001b[0m\u001b[0;34m\u001b[0m\u001b[0;34m\u001b[0m\u001b[0m\n",
      "\u001b[0m\u001b[0;32m    630 \u001b[0;31m            \u001b[0;32mif\u001b[0m \u001b[0mself\u001b[0m\u001b[0;34m.\u001b[0m\u001b[0m_dataset_kind\u001b[0m \u001b[0;34m==\u001b[0m \u001b[0m_DatasetKind\u001b[0m\u001b[0;34m.\u001b[0m\u001b[0mIterable\u001b[0m \u001b[0;32mand\u001b[0m\u001b[0;31m \u001b[0m\u001b[0;31m\\\u001b[0m\u001b[0;34m\u001b[0m\u001b[0;34m\u001b[0m\u001b[0m\n",
      "\u001b[0m\n"
     ]
    },
    {
     "name": "stdin",
     "output_type": "stream",
     "text": [
      "ipdb>  d\n"
     ]
    },
    {
     "name": "stdout",
     "output_type": "stream",
     "text": [
      "> \u001b[0;32m/home/qc7/.cache/pypoetry/virtualenvs/picker-aqmUO_25-py3.10/lib/python3.10/site-packages/torch/utils/data/dataloader.py\u001b[0m(1333)\u001b[0;36m_next_data\u001b[0;34m()\u001b[0m\n",
      "\u001b[0;32m   1331 \u001b[0;31m            \u001b[0;32melse\u001b[0m\u001b[0;34m:\u001b[0m\u001b[0;34m\u001b[0m\u001b[0;34m\u001b[0m\u001b[0m\n",
      "\u001b[0m\u001b[0;32m   1332 \u001b[0;31m                \u001b[0;32mdel\u001b[0m \u001b[0mself\u001b[0m\u001b[0;34m.\u001b[0m\u001b[0m_task_info\u001b[0m\u001b[0;34m[\u001b[0m\u001b[0midx\u001b[0m\u001b[0;34m]\u001b[0m\u001b[0;34m\u001b[0m\u001b[0;34m\u001b[0m\u001b[0m\n",
      "\u001b[0m\u001b[0;32m-> 1333 \u001b[0;31m                \u001b[0;32mreturn\u001b[0m \u001b[0mself\u001b[0m\u001b[0;34m.\u001b[0m\u001b[0m_process_data\u001b[0m\u001b[0;34m(\u001b[0m\u001b[0mdata\u001b[0m\u001b[0;34m)\u001b[0m\u001b[0;34m\u001b[0m\u001b[0;34m\u001b[0m\u001b[0m\n",
      "\u001b[0m\u001b[0;32m   1334 \u001b[0;31m\u001b[0;34m\u001b[0m\u001b[0m\n",
      "\u001b[0m\u001b[0;32m   1335 \u001b[0;31m    \u001b[0;32mdef\u001b[0m \u001b[0m_try_put_index\u001b[0m\u001b[0;34m(\u001b[0m\u001b[0mself\u001b[0m\u001b[0;34m)\u001b[0m\u001b[0;34m:\u001b[0m\u001b[0;34m\u001b[0m\u001b[0;34m\u001b[0m\u001b[0m\n",
      "\u001b[0m\n"
     ]
    },
    {
     "name": "stdin",
     "output_type": "stream",
     "text": [
      "ipdb>  d\n"
     ]
    },
    {
     "name": "stdout",
     "output_type": "stream",
     "text": [
      "> \u001b[0;32m/home/qc7/.cache/pypoetry/virtualenvs/picker-aqmUO_25-py3.10/lib/python3.10/site-packages/torch/utils/data/dataloader.py\u001b[0m(1359)\u001b[0;36m_process_data\u001b[0;34m()\u001b[0m\n",
      "\u001b[0;32m   1357 \u001b[0;31m        \u001b[0mself\u001b[0m\u001b[0;34m.\u001b[0m\u001b[0m_try_put_index\u001b[0m\u001b[0;34m(\u001b[0m\u001b[0;34m)\u001b[0m\u001b[0;34m\u001b[0m\u001b[0;34m\u001b[0m\u001b[0m\n",
      "\u001b[0m\u001b[0;32m   1358 \u001b[0;31m        \u001b[0;32mif\u001b[0m \u001b[0misinstance\u001b[0m\u001b[0;34m(\u001b[0m\u001b[0mdata\u001b[0m\u001b[0;34m,\u001b[0m \u001b[0mExceptionWrapper\u001b[0m\u001b[0;34m)\u001b[0m\u001b[0;34m:\u001b[0m\u001b[0;34m\u001b[0m\u001b[0;34m\u001b[0m\u001b[0m\n",
      "\u001b[0m\u001b[0;32m-> 1359 \u001b[0;31m            \u001b[0mdata\u001b[0m\u001b[0;34m.\u001b[0m\u001b[0mreraise\u001b[0m\u001b[0;34m(\u001b[0m\u001b[0;34m)\u001b[0m\u001b[0;34m\u001b[0m\u001b[0;34m\u001b[0m\u001b[0m\n",
      "\u001b[0m\u001b[0;32m   1360 \u001b[0;31m        \u001b[0;32mreturn\u001b[0m \u001b[0mdata\u001b[0m\u001b[0;34m\u001b[0m\u001b[0;34m\u001b[0m\u001b[0m\n",
      "\u001b[0m\u001b[0;32m   1361 \u001b[0;31m\u001b[0;34m\u001b[0m\u001b[0m\n",
      "\u001b[0m\n"
     ]
    },
    {
     "name": "stdin",
     "output_type": "stream",
     "text": [
      "ipdb>  exit\n"
     ]
    }
   ],
   "source": [
    "%debug"
   ]
  },
  {
   "cell_type": "code",
   "execution_count": null,
   "id": "0278f35c",
   "metadata": {
    "pycharm": {
     "name": "#%%\n"
    }
   },
   "outputs": [],
   "source": []
  },
  {
   "cell_type": "code",
   "execution_count": 32,
   "id": "aa9e64eb",
   "metadata": {
    "pycharm": {
     "name": "#%%\n"
    }
   },
   "outputs": [],
   "source": [
    "import torch \n",
    "from picker.model.transformer import TransformerModel\n",
    "from picker.model.constants import HERO_TRANSFORM\n",
    "\n",
    "embedding_dict = {'team': [len(HERO_TRANSFORM) + 1, 32 - 3 - 1], 'rank': [6, 3]} \n",
    "model = TransformerModel(embedding_dict=embedding_dict, num_heads=8, num_layers=6,)\n",
    "model.load_state_dict(torch.load('zhopa.pth'))\n",
    "\n",
    "model.to('cpu')\n",
    "model.eval()\n",
    "pass"
   ]
  },
  {
   "cell_type": "code",
   "execution_count": 33,
   "id": "7e5d2188",
   "metadata": {
    "pycharm": {
     "name": "#%%\n"
    }
   },
   "outputs": [],
   "source": [
    "# script = torch.jit.script(model)\n",
    "torch.save(model, 'zhopa.raw_model') "
   ]
  },
  {
   "cell_type": "code",
   "execution_count": 34,
   "id": "b5a7f672",
   "metadata": {
    "pycharm": {
     "name": "#%%\n"
    }
   },
   "outputs": [
    {
     "name": "stdout",
     "output_type": "stream",
     "text": [
      "tensor([[0.5012, 0.4988]], grad_fn=<SoftmaxBackward0>) \n",
      " tensor([[0.5012, 0.4988]], grad_fn=<SoftmaxBackward0>) \n",
      " tensor([[0.5012, 0.4988]], grad_fn=<SoftmaxBackward0>)\n",
      "------------------------------------------------------------\n",
      "tensor([[0.5294, 0.4706]], grad_fn=<SoftmaxBackward0>) \n",
      " tensor([[0.5294, 0.4706]], grad_fn=<SoftmaxBackward0>) \n",
      " tensor([[0.4673, 0.5327]], grad_fn=<SoftmaxBackward0>)\n",
      "------------------------------------------------------------\n",
      "tensor([[0.5072, 0.4928]], grad_fn=<SoftmaxBackward0>) \n",
      " tensor([[0.5072, 0.4928]], grad_fn=<SoftmaxBackward0>) \n",
      " tensor([[0.4926, 0.5074]], grad_fn=<SoftmaxBackward0>)\n",
      "------------------------------------------------------------\n",
      "tensor([[0.4799, 0.5201]], grad_fn=<SoftmaxBackward0>) \n",
      " tensor([[0.4799, 0.5201]], grad_fn=<SoftmaxBackward0>) \n",
      " tensor([[0.5170, 0.4830]], grad_fn=<SoftmaxBackward0>)\n",
      "------------------------------------------------------------\n",
      "tensor([[0.4476, 0.5524]], grad_fn=<SoftmaxBackward0>) \n",
      " tensor([[0.4476, 0.5524]], grad_fn=<SoftmaxBackward0>) \n",
      " tensor([[0.5609, 0.4391]], grad_fn=<SoftmaxBackward0>)\n",
      "------------------------------------------------------------\n",
      "tensor([[0.5182, 0.4818]], grad_fn=<SoftmaxBackward0>) \n",
      " tensor([[0.5182, 0.4818]], grad_fn=<SoftmaxBackward0>) \n",
      " tensor([[0.4797, 0.5203]], grad_fn=<SoftmaxBackward0>)\n",
      "------------------------------------------------------------\n",
      "tensor([[0.4948, 0.5052]], grad_fn=<SoftmaxBackward0>) \n",
      " tensor([[0.4948, 0.5052]], grad_fn=<SoftmaxBackward0>) \n",
      " tensor([[0.5039, 0.4961]], grad_fn=<SoftmaxBackward0>)\n",
      "------------------------------------------------------------\n",
      "tensor([[0.5100, 0.4900]], grad_fn=<SoftmaxBackward0>) \n",
      " tensor([[0.5100, 0.4900]], grad_fn=<SoftmaxBackward0>) \n",
      " tensor([[0.4978, 0.5022]], grad_fn=<SoftmaxBackward0>)\n",
      "------------------------------------------------------------\n",
      "tensor([[0.4946, 0.5054]], grad_fn=<SoftmaxBackward0>) \n",
      " tensor([[0.4946, 0.5054]], grad_fn=<SoftmaxBackward0>) \n",
      " tensor([[0.5017, 0.4983]], grad_fn=<SoftmaxBackward0>)\n",
      "------------------------------------------------------------\n",
      "tensor([[0.5649, 0.4351]], grad_fn=<SoftmaxBackward0>) \n",
      " tensor([[0.5649, 0.4351]], grad_fn=<SoftmaxBackward0>) \n",
      " tensor([[0.4387, 0.5613]], grad_fn=<SoftmaxBackward0>)\n",
      "------------------------------------------------------------\n",
      "tensor([[0.5126, 0.4874]], grad_fn=<SoftmaxBackward0>) \n",
      " tensor([[0.5126, 0.4874]], grad_fn=<SoftmaxBackward0>) \n",
      " tensor([[0.4826, 0.5174]], grad_fn=<SoftmaxBackward0>)\n",
      "------------------------------------------------------------\n",
      "tensor([[0.5551, 0.4449]], grad_fn=<SoftmaxBackward0>) \n",
      " tensor([[0.5551, 0.4449]], grad_fn=<SoftmaxBackward0>) \n",
      " tensor([[0.4422, 0.5578]], grad_fn=<SoftmaxBackward0>)\n",
      "------------------------------------------------------------\n",
      "tensor([[0.5458, 0.4542]], grad_fn=<SoftmaxBackward0>) \n",
      " tensor([[0.5458, 0.4542]], grad_fn=<SoftmaxBackward0>) \n",
      " tensor([[0.4511, 0.5489]], grad_fn=<SoftmaxBackward0>)\n",
      "------------------------------------------------------------\n",
      "tensor([[0.5053, 0.4947]], grad_fn=<SoftmaxBackward0>) \n",
      " tensor([[0.5053, 0.4947]], grad_fn=<SoftmaxBackward0>) \n",
      " tensor([[0.4950, 0.5050]], grad_fn=<SoftmaxBackward0>)\n",
      "------------------------------------------------------------\n",
      "tensor([[0.5130, 0.4870]], grad_fn=<SoftmaxBackward0>) \n",
      " tensor([[0.5130, 0.4870]], grad_fn=<SoftmaxBackward0>) \n",
      " tensor([[0.4948, 0.5052]], grad_fn=<SoftmaxBackward0>)\n",
      "------------------------------------------------------------\n",
      "tensor([[0.4937, 0.5063]], grad_fn=<SoftmaxBackward0>) \n",
      " tensor([[0.4937, 0.5063]], grad_fn=<SoftmaxBackward0>) \n",
      " tensor([[0.5144, 0.4856]], grad_fn=<SoftmaxBackward0>)\n",
      "------------------------------------------------------------\n",
      "tensor([[0.5193, 0.4807]], grad_fn=<SoftmaxBackward0>) \n",
      " tensor([[0.5193, 0.4807]], grad_fn=<SoftmaxBackward0>) \n",
      " tensor([[0.4883, 0.5117]], grad_fn=<SoftmaxBackward0>)\n",
      "------------------------------------------------------------\n",
      "tensor([[0.4913, 0.5087]], grad_fn=<SoftmaxBackward0>) \n",
      " tensor([[0.4913, 0.5087]], grad_fn=<SoftmaxBackward0>) \n",
      " tensor([[0.5048, 0.4952]], grad_fn=<SoftmaxBackward0>)\n",
      "------------------------------------------------------------\n",
      "tensor([[0.5612, 0.4388]], grad_fn=<SoftmaxBackward0>) \n",
      " tensor([[0.5612, 0.4388]], grad_fn=<SoftmaxBackward0>) \n",
      " tensor([[0.4486, 0.5514]], grad_fn=<SoftmaxBackward0>)\n",
      "------------------------------------------------------------\n",
      "tensor([[0.5220, 0.4780]], grad_fn=<SoftmaxBackward0>) \n",
      " tensor([[0.5220, 0.4780]], grad_fn=<SoftmaxBackward0>) \n",
      " tensor([[0.4771, 0.5229]], grad_fn=<SoftmaxBackward0>)\n",
      "------------------------------------------------------------\n",
      "tensor([[0.4843, 0.5157]], grad_fn=<SoftmaxBackward0>) \n",
      " tensor([[0.4843, 0.5157]], grad_fn=<SoftmaxBackward0>) \n",
      " tensor([[0.5187, 0.4813]], grad_fn=<SoftmaxBackward0>)\n",
      "------------------------------------------------------------\n",
      "tensor([[0.5902, 0.4098]], grad_fn=<SoftmaxBackward0>) \n",
      " tensor([[0.5902, 0.4098]], grad_fn=<SoftmaxBackward0>) \n",
      " tensor([[0.4209, 0.5791]], grad_fn=<SoftmaxBackward0>)\n",
      "------------------------------------------------------------\n",
      "tensor([[0.4836, 0.5164]], grad_fn=<SoftmaxBackward0>) \n",
      " tensor([[0.4836, 0.5164]], grad_fn=<SoftmaxBackward0>) \n",
      " tensor([[0.5193, 0.4807]], grad_fn=<SoftmaxBackward0>)\n",
      "------------------------------------------------------------\n",
      "tensor([[0.5089, 0.4911]], grad_fn=<SoftmaxBackward0>) \n",
      " tensor([[0.5089, 0.4911]], grad_fn=<SoftmaxBackward0>) \n",
      " tensor([[0.4858, 0.5142]], grad_fn=<SoftmaxBackward0>)\n",
      "------------------------------------------------------------\n",
      "tensor([[0.4897, 0.5103]], grad_fn=<SoftmaxBackward0>) \n",
      " tensor([[0.4897, 0.5103]], grad_fn=<SoftmaxBackward0>) \n",
      " tensor([[0.5134, 0.4866]], grad_fn=<SoftmaxBackward0>)\n",
      "------------------------------------------------------------\n",
      "tensor([[0.5086, 0.4914]], grad_fn=<SoftmaxBackward0>) \n",
      " tensor([[0.5086, 0.4914]], grad_fn=<SoftmaxBackward0>) \n",
      " tensor([[0.4932, 0.5068]], grad_fn=<SoftmaxBackward0>)\n",
      "------------------------------------------------------------\n",
      "tensor([[0.4708, 0.5292]], grad_fn=<SoftmaxBackward0>) \n",
      " tensor([[0.4708, 0.5292]], grad_fn=<SoftmaxBackward0>) \n",
      " tensor([[0.5293, 0.4707]], grad_fn=<SoftmaxBackward0>)\n",
      "------------------------------------------------------------\n",
      "tensor([[0.5121, 0.4879]], grad_fn=<SoftmaxBackward0>) \n",
      " tensor([[0.5121, 0.4879]], grad_fn=<SoftmaxBackward0>) \n",
      " tensor([[0.4945, 0.5055]], grad_fn=<SoftmaxBackward0>)\n",
      "------------------------------------------------------------\n",
      "tensor([[0.4707, 0.5293]], grad_fn=<SoftmaxBackward0>) \n",
      " tensor([[0.4707, 0.5293]], grad_fn=<SoftmaxBackward0>) \n",
      " tensor([[0.5204, 0.4796]], grad_fn=<SoftmaxBackward0>)\n",
      "------------------------------------------------------------\n",
      "tensor([[0.5081, 0.4919]], grad_fn=<SoftmaxBackward0>) \n",
      " tensor([[0.5081, 0.4919]], grad_fn=<SoftmaxBackward0>) \n",
      " tensor([[0.4921, 0.5079]], grad_fn=<SoftmaxBackward0>)\n",
      "------------------------------------------------------------\n",
      "tensor([[0.4581, 0.5419]], grad_fn=<SoftmaxBackward0>) \n",
      " tensor([[0.4581, 0.5419]], grad_fn=<SoftmaxBackward0>) \n",
      " tensor([[0.5452, 0.4548]], grad_fn=<SoftmaxBackward0>)\n",
      "------------------------------------------------------------\n",
      "tensor([[0.4999, 0.5001]], grad_fn=<SoftmaxBackward0>) \n",
      " tensor([[0.4999, 0.5001]], grad_fn=<SoftmaxBackward0>) \n",
      " tensor([[0.5093, 0.4907]], grad_fn=<SoftmaxBackward0>)\n",
      "------------------------------------------------------------\n",
      "tensor([[0.4791, 0.5209]], grad_fn=<SoftmaxBackward0>) \n",
      " tensor([[0.4791, 0.5209]], grad_fn=<SoftmaxBackward0>) \n",
      " tensor([[0.5241, 0.4759]], grad_fn=<SoftmaxBackward0>)\n",
      "------------------------------------------------------------\n",
      "tensor([[0.4977, 0.5023]], grad_fn=<SoftmaxBackward0>) \n",
      " tensor([[0.4977, 0.5023]], grad_fn=<SoftmaxBackward0>) \n",
      " tensor([[0.5067, 0.4933]], grad_fn=<SoftmaxBackward0>)\n",
      "------------------------------------------------------------\n",
      "tensor([[0.5250, 0.4750]], grad_fn=<SoftmaxBackward0>) \n",
      " tensor([[0.5250, 0.4750]], grad_fn=<SoftmaxBackward0>) \n",
      " tensor([[0.4752, 0.5248]], grad_fn=<SoftmaxBackward0>)\n",
      "------------------------------------------------------------\n",
      "tensor([[0.5217, 0.4783]], grad_fn=<SoftmaxBackward0>) \n",
      " tensor([[0.5217, 0.4783]], grad_fn=<SoftmaxBackward0>) \n",
      " tensor([[0.4867, 0.5133]], grad_fn=<SoftmaxBackward0>)\n",
      "------------------------------------------------------------\n",
      "tensor([[0.5024, 0.4976]], grad_fn=<SoftmaxBackward0>) \n",
      " tensor([[0.5024, 0.4976]], grad_fn=<SoftmaxBackward0>) \n",
      " tensor([[0.5032, 0.4968]], grad_fn=<SoftmaxBackward0>)\n",
      "------------------------------------------------------------\n",
      "tensor([[0.5270, 0.4730]], grad_fn=<SoftmaxBackward0>) \n",
      " tensor([[0.5270, 0.4730]], grad_fn=<SoftmaxBackward0>) \n",
      " tensor([[0.4855, 0.5145]], grad_fn=<SoftmaxBackward0>)\n",
      "------------------------------------------------------------\n",
      "tensor([[0.5159, 0.4841]], grad_fn=<SoftmaxBackward0>) \n",
      " tensor([[0.5159, 0.4841]], grad_fn=<SoftmaxBackward0>) \n",
      " tensor([[0.4940, 0.5060]], grad_fn=<SoftmaxBackward0>)\n",
      "------------------------------------------------------------\n",
      "tensor([[0.5161, 0.4839]], grad_fn=<SoftmaxBackward0>) \n",
      " tensor([[0.5161, 0.4839]], grad_fn=<SoftmaxBackward0>) \n",
      " tensor([[0.4875, 0.5125]], grad_fn=<SoftmaxBackward0>)\n",
      "------------------------------------------------------------\n",
      "tensor([[0.5462, 0.4538]], grad_fn=<SoftmaxBackward0>) \n",
      " tensor([[0.5462, 0.4538]], grad_fn=<SoftmaxBackward0>) \n",
      " tensor([[0.4561, 0.5439]], grad_fn=<SoftmaxBackward0>)\n",
      "------------------------------------------------------------\n",
      "tensor([[0.4812, 0.5188]], grad_fn=<SoftmaxBackward0>) \n",
      " tensor([[0.4812, 0.5188]], grad_fn=<SoftmaxBackward0>) \n",
      " tensor([[0.5200, 0.4800]], grad_fn=<SoftmaxBackward0>)\n",
      "------------------------------------------------------------\n",
      "tensor([[0.5024, 0.4976]], grad_fn=<SoftmaxBackward0>) \n",
      " tensor([[0.5024, 0.4976]], grad_fn=<SoftmaxBackward0>) \n",
      " tensor([[0.4951, 0.5049]], grad_fn=<SoftmaxBackward0>)\n",
      "------------------------------------------------------------\n",
      "tensor([[0.5219, 0.4781]], grad_fn=<SoftmaxBackward0>) \n",
      " tensor([[0.5219, 0.4781]], grad_fn=<SoftmaxBackward0>) \n",
      " tensor([[0.4880, 0.5120]], grad_fn=<SoftmaxBackward0>)\n",
      "------------------------------------------------------------\n",
      "tensor([[0.5093, 0.4907]], grad_fn=<SoftmaxBackward0>) \n",
      " tensor([[0.5093, 0.4907]], grad_fn=<SoftmaxBackward0>) \n",
      " tensor([[0.4942, 0.5058]], grad_fn=<SoftmaxBackward0>)\n",
      "------------------------------------------------------------\n",
      "tensor([[0.5478, 0.4522]], grad_fn=<SoftmaxBackward0>) \n",
      " tensor([[0.5478, 0.4522]], grad_fn=<SoftmaxBackward0>) \n",
      " tensor([[0.4464, 0.5536]], grad_fn=<SoftmaxBackward0>)\n",
      "------------------------------------------------------------\n",
      "tensor([[0.5180, 0.4820]], grad_fn=<SoftmaxBackward0>) \n",
      " tensor([[0.5180, 0.4820]], grad_fn=<SoftmaxBackward0>) \n",
      " tensor([[0.4711, 0.5289]], grad_fn=<SoftmaxBackward0>)\n",
      "------------------------------------------------------------\n",
      "tensor([[0.5841, 0.4159]], grad_fn=<SoftmaxBackward0>) \n",
      " tensor([[0.5841, 0.4159]], grad_fn=<SoftmaxBackward0>) \n",
      " tensor([[0.4168, 0.5832]], grad_fn=<SoftmaxBackward0>)\n",
      "------------------------------------------------------------\n",
      "tensor([[0.5363, 0.4637]], grad_fn=<SoftmaxBackward0>) \n",
      " tensor([[0.5363, 0.4637]], grad_fn=<SoftmaxBackward0>) \n",
      " tensor([[0.4663, 0.5337]], grad_fn=<SoftmaxBackward0>)\n",
      "------------------------------------------------------------\n",
      "tensor([[0.5211, 0.4789]], grad_fn=<SoftmaxBackward0>) \n",
      " tensor([[0.5211, 0.4789]], grad_fn=<SoftmaxBackward0>) \n",
      " tensor([[0.4781, 0.5219]], grad_fn=<SoftmaxBackward0>)\n",
      "------------------------------------------------------------\n",
      "tensor([[0.4737, 0.5263]], grad_fn=<SoftmaxBackward0>) \n",
      " tensor([[0.4737, 0.5263]], grad_fn=<SoftmaxBackward0>) \n",
      " tensor([[0.5303, 0.4697]], grad_fn=<SoftmaxBackward0>)\n",
      "------------------------------------------------------------\n",
      "tensor([[0.5015, 0.4985]], grad_fn=<SoftmaxBackward0>) \n",
      " tensor([[0.5015, 0.4985]], grad_fn=<SoftmaxBackward0>) \n",
      " tensor([[0.5040, 0.4960]], grad_fn=<SoftmaxBackward0>)\n",
      "------------------------------------------------------------\n",
      "tensor([[0.5475, 0.4525]], grad_fn=<SoftmaxBackward0>) \n",
      " tensor([[0.5475, 0.4525]], grad_fn=<SoftmaxBackward0>) \n",
      " tensor([[0.4518, 0.5482]], grad_fn=<SoftmaxBackward0>)\n",
      "------------------------------------------------------------\n",
      "tensor([[0.4762, 0.5238]], grad_fn=<SoftmaxBackward0>) \n",
      " tensor([[0.4762, 0.5238]], grad_fn=<SoftmaxBackward0>) \n",
      " tensor([[0.5235, 0.4765]], grad_fn=<SoftmaxBackward0>)\n",
      "------------------------------------------------------------\n",
      "tensor([[0.5074, 0.4926]], grad_fn=<SoftmaxBackward0>) \n",
      " tensor([[0.5074, 0.4926]], grad_fn=<SoftmaxBackward0>) \n",
      " tensor([[0.4965, 0.5035]], grad_fn=<SoftmaxBackward0>)\n",
      "------------------------------------------------------------\n",
      "tensor([[0.4962, 0.5038]], grad_fn=<SoftmaxBackward0>) \n",
      " tensor([[0.4962, 0.5038]], grad_fn=<SoftmaxBackward0>) \n",
      " tensor([[0.4965, 0.5035]], grad_fn=<SoftmaxBackward0>)\n",
      "------------------------------------------------------------\n",
      "tensor([[0.4992, 0.5008]], grad_fn=<SoftmaxBackward0>) \n",
      " tensor([[0.4992, 0.5008]], grad_fn=<SoftmaxBackward0>) \n",
      " tensor([[0.5006, 0.4994]], grad_fn=<SoftmaxBackward0>)\n",
      "------------------------------------------------------------\n",
      "tensor([[0.5531, 0.4469]], grad_fn=<SoftmaxBackward0>) \n",
      " tensor([[0.5531, 0.4469]], grad_fn=<SoftmaxBackward0>) \n",
      " tensor([[0.4663, 0.5337]], grad_fn=<SoftmaxBackward0>)\n",
      "------------------------------------------------------------\n",
      "tensor([[0.5161, 0.4839]], grad_fn=<SoftmaxBackward0>) \n",
      " tensor([[0.5161, 0.4839]], grad_fn=<SoftmaxBackward0>) \n",
      " tensor([[0.4852, 0.5148]], grad_fn=<SoftmaxBackward0>)\n",
      "------------------------------------------------------------\n",
      "tensor([[0.4456, 0.5544]], grad_fn=<SoftmaxBackward0>) \n",
      " tensor([[0.4456, 0.5544]], grad_fn=<SoftmaxBackward0>) \n",
      " tensor([[0.5516, 0.4484]], grad_fn=<SoftmaxBackward0>)\n",
      "------------------------------------------------------------\n",
      "tensor([[0.4746, 0.5254]], grad_fn=<SoftmaxBackward0>) \n",
      " tensor([[0.4746, 0.5254]], grad_fn=<SoftmaxBackward0>) \n",
      " tensor([[0.5313, 0.4687]], grad_fn=<SoftmaxBackward0>)\n",
      "------------------------------------------------------------\n",
      "tensor([[0.4667, 0.5333]], grad_fn=<SoftmaxBackward0>) \n",
      " tensor([[0.4667, 0.5333]], grad_fn=<SoftmaxBackward0>) \n",
      " tensor([[0.5322, 0.4678]], grad_fn=<SoftmaxBackward0>)\n",
      "------------------------------------------------------------\n",
      "tensor([[0.5099, 0.4901]], grad_fn=<SoftmaxBackward0>) \n",
      " tensor([[0.5099, 0.4901]], grad_fn=<SoftmaxBackward0>) \n",
      " tensor([[0.4905, 0.5095]], grad_fn=<SoftmaxBackward0>)\n",
      "------------------------------------------------------------\n",
      "tensor([[0.5246, 0.4754]], grad_fn=<SoftmaxBackward0>) \n",
      " tensor([[0.5246, 0.4754]], grad_fn=<SoftmaxBackward0>) \n",
      " tensor([[0.4767, 0.5233]], grad_fn=<SoftmaxBackward0>)\n",
      "------------------------------------------------------------\n",
      "tensor([[0.5660, 0.4340]], grad_fn=<SoftmaxBackward0>) \n",
      " tensor([[0.5660, 0.4340]], grad_fn=<SoftmaxBackward0>) \n",
      " tensor([[0.4327, 0.5673]], grad_fn=<SoftmaxBackward0>)\n",
      "------------------------------------------------------------\n",
      "tensor([[0.5365, 0.4635]], grad_fn=<SoftmaxBackward0>) \n",
      " tensor([[0.5365, 0.4635]], grad_fn=<SoftmaxBackward0>) \n",
      " tensor([[0.4592, 0.5408]], grad_fn=<SoftmaxBackward0>)\n",
      "------------------------------------------------------------\n",
      "tensor([[0.4854, 0.5146]], grad_fn=<SoftmaxBackward0>) \n",
      " tensor([[0.4854, 0.5146]], grad_fn=<SoftmaxBackward0>) \n",
      " tensor([[0.5134, 0.4866]], grad_fn=<SoftmaxBackward0>)\n",
      "------------------------------------------------------------\n",
      "tensor([[0.4970, 0.5030]], grad_fn=<SoftmaxBackward0>) \n",
      " tensor([[0.4970, 0.5030]], grad_fn=<SoftmaxBackward0>) \n",
      " tensor([[0.5149, 0.4851]], grad_fn=<SoftmaxBackward0>)\n",
      "------------------------------------------------------------\n",
      "tensor([[0.5282, 0.4718]], grad_fn=<SoftmaxBackward0>) \n",
      " tensor([[0.5282, 0.4718]], grad_fn=<SoftmaxBackward0>) \n",
      " tensor([[0.4836, 0.5164]], grad_fn=<SoftmaxBackward0>)\n",
      "------------------------------------------------------------\n",
      "tensor([[0.4859, 0.5141]], grad_fn=<SoftmaxBackward0>) \n",
      " tensor([[0.4859, 0.5141]], grad_fn=<SoftmaxBackward0>) \n",
      " tensor([[0.5121, 0.4879]], grad_fn=<SoftmaxBackward0>)\n",
      "------------------------------------------------------------\n",
      "tensor([[0.4991, 0.5009]], grad_fn=<SoftmaxBackward0>) \n",
      " tensor([[0.4991, 0.5009]], grad_fn=<SoftmaxBackward0>) \n",
      " tensor([[0.5032, 0.4968]], grad_fn=<SoftmaxBackward0>)\n",
      "------------------------------------------------------------\n",
      "tensor([[0.5189, 0.4811]], grad_fn=<SoftmaxBackward0>) \n",
      " tensor([[0.5189, 0.4811]], grad_fn=<SoftmaxBackward0>) \n",
      " tensor([[0.4841, 0.5159]], grad_fn=<SoftmaxBackward0>)\n",
      "------------------------------------------------------------\n",
      "tensor([[0.4995, 0.5005]], grad_fn=<SoftmaxBackward0>) \n",
      " tensor([[0.4995, 0.5005]], grad_fn=<SoftmaxBackward0>) \n",
      " tensor([[0.5063, 0.4937]], grad_fn=<SoftmaxBackward0>)\n",
      "------------------------------------------------------------\n",
      "tensor([[0.5091, 0.4909]], grad_fn=<SoftmaxBackward0>) \n",
      " tensor([[0.5091, 0.4909]], grad_fn=<SoftmaxBackward0>) \n",
      " tensor([[0.4965, 0.5035]], grad_fn=<SoftmaxBackward0>)\n",
      "------------------------------------------------------------\n",
      "tensor([[0.4797, 0.5203]], grad_fn=<SoftmaxBackward0>) \n",
      " tensor([[0.4797, 0.5203]], grad_fn=<SoftmaxBackward0>) \n",
      " tensor([[0.5263, 0.4737]], grad_fn=<SoftmaxBackward0>)\n",
      "------------------------------------------------------------\n",
      "tensor([[0.4820, 0.5180]], grad_fn=<SoftmaxBackward0>) \n",
      " tensor([[0.4820, 0.5180]], grad_fn=<SoftmaxBackward0>) \n",
      " tensor([[0.5197, 0.4803]], grad_fn=<SoftmaxBackward0>)\n",
      "------------------------------------------------------------\n",
      "tensor([[0.5024, 0.4976]], grad_fn=<SoftmaxBackward0>) \n",
      " tensor([[0.5024, 0.4976]], grad_fn=<SoftmaxBackward0>) \n",
      " tensor([[0.5019, 0.4981]], grad_fn=<SoftmaxBackward0>)\n",
      "------------------------------------------------------------\n",
      "tensor([[0.5018, 0.4982]], grad_fn=<SoftmaxBackward0>) \n",
      " tensor([[0.5018, 0.4982]], grad_fn=<SoftmaxBackward0>) \n",
      " tensor([[0.5020, 0.4980]], grad_fn=<SoftmaxBackward0>)\n",
      "------------------------------------------------------------\n",
      "tensor([[0.4981, 0.5019]], grad_fn=<SoftmaxBackward0>) \n",
      " tensor([[0.4981, 0.5019]], grad_fn=<SoftmaxBackward0>) \n",
      " tensor([[0.5043, 0.4957]], grad_fn=<SoftmaxBackward0>)\n",
      "------------------------------------------------------------\n",
      "tensor([[0.4687, 0.5313]], grad_fn=<SoftmaxBackward0>) \n",
      " tensor([[0.4687, 0.5313]], grad_fn=<SoftmaxBackward0>) \n",
      " tensor([[0.5212, 0.4788]], grad_fn=<SoftmaxBackward0>)\n",
      "------------------------------------------------------------\n",
      "tensor([[0.5176, 0.4824]], grad_fn=<SoftmaxBackward0>) \n",
      " tensor([[0.5176, 0.4824]], grad_fn=<SoftmaxBackward0>) \n",
      " tensor([[0.4853, 0.5147]], grad_fn=<SoftmaxBackward0>)\n",
      "------------------------------------------------------------\n",
      "tensor([[0.5220, 0.4780]], grad_fn=<SoftmaxBackward0>) \n",
      " tensor([[0.5220, 0.4780]], grad_fn=<SoftmaxBackward0>) \n",
      " tensor([[0.4910, 0.5090]], grad_fn=<SoftmaxBackward0>)\n",
      "------------------------------------------------------------\n",
      "tensor([[0.5211, 0.4789]], grad_fn=<SoftmaxBackward0>) \n",
      " tensor([[0.5211, 0.4789]], grad_fn=<SoftmaxBackward0>) \n",
      " tensor([[0.4853, 0.5147]], grad_fn=<SoftmaxBackward0>)\n",
      "------------------------------------------------------------\n",
      "tensor([[0.4914, 0.5086]], grad_fn=<SoftmaxBackward0>) \n",
      " tensor([[0.4914, 0.5086]], grad_fn=<SoftmaxBackward0>) \n",
      " tensor([[0.5161, 0.4839]], grad_fn=<SoftmaxBackward0>)\n",
      "------------------------------------------------------------\n",
      "tensor([[0.4988, 0.5012]], grad_fn=<SoftmaxBackward0>) \n",
      " tensor([[0.4988, 0.5012]], grad_fn=<SoftmaxBackward0>) \n",
      " tensor([[0.5132, 0.4868]], grad_fn=<SoftmaxBackward0>)\n",
      "------------------------------------------------------------\n",
      "tensor([[0.5357, 0.4643]], grad_fn=<SoftmaxBackward0>) \n",
      " tensor([[0.5357, 0.4643]], grad_fn=<SoftmaxBackward0>) \n",
      " tensor([[0.4705, 0.5295]], grad_fn=<SoftmaxBackward0>)\n",
      "------------------------------------------------------------\n",
      "tensor([[0.4940, 0.5060]], grad_fn=<SoftmaxBackward0>) \n",
      " tensor([[0.4940, 0.5060]], grad_fn=<SoftmaxBackward0>) \n",
      " tensor([[0.5051, 0.4949]], grad_fn=<SoftmaxBackward0>)\n",
      "------------------------------------------------------------\n",
      "tensor([[0.4995, 0.5005]], grad_fn=<SoftmaxBackward0>) \n",
      " tensor([[0.4995, 0.5005]], grad_fn=<SoftmaxBackward0>) \n",
      " tensor([[0.5006, 0.4994]], grad_fn=<SoftmaxBackward0>)\n",
      "------------------------------------------------------------\n",
      "tensor([[0.5620, 0.4380]], grad_fn=<SoftmaxBackward0>) \n",
      " tensor([[0.5620, 0.4380]], grad_fn=<SoftmaxBackward0>) \n",
      " tensor([[0.4319, 0.5681]], grad_fn=<SoftmaxBackward0>)\n",
      "------------------------------------------------------------\n",
      "tensor([[0.5116, 0.4884]], grad_fn=<SoftmaxBackward0>) \n",
      " tensor([[0.5116, 0.4884]], grad_fn=<SoftmaxBackward0>) \n",
      " tensor([[0.4912, 0.5088]], grad_fn=<SoftmaxBackward0>)\n",
      "------------------------------------------------------------\n",
      "tensor([[0.5113, 0.4887]], grad_fn=<SoftmaxBackward0>) \n",
      " tensor([[0.5113, 0.4887]], grad_fn=<SoftmaxBackward0>) \n",
      " tensor([[0.5019, 0.4981]], grad_fn=<SoftmaxBackward0>)\n",
      "------------------------------------------------------------\n",
      "tensor([[0.4731, 0.5269]], grad_fn=<SoftmaxBackward0>) \n",
      " tensor([[0.4731, 0.5269]], grad_fn=<SoftmaxBackward0>) \n",
      " tensor([[0.5360, 0.4640]], grad_fn=<SoftmaxBackward0>)\n",
      "------------------------------------------------------------\n",
      "tensor([[0.5255, 0.4745]], grad_fn=<SoftmaxBackward0>) \n",
      " tensor([[0.5255, 0.4745]], grad_fn=<SoftmaxBackward0>) \n",
      " tensor([[0.4771, 0.5229]], grad_fn=<SoftmaxBackward0>)\n",
      "------------------------------------------------------------\n",
      "tensor([[0.4945, 0.5055]], grad_fn=<SoftmaxBackward0>) \n",
      " tensor([[0.4945, 0.5055]], grad_fn=<SoftmaxBackward0>) \n",
      " tensor([[0.5225, 0.4775]], grad_fn=<SoftmaxBackward0>)\n",
      "------------------------------------------------------------\n",
      "tensor([[0.5308, 0.4692]], grad_fn=<SoftmaxBackward0>) \n",
      " tensor([[0.5308, 0.4692]], grad_fn=<SoftmaxBackward0>) \n",
      " tensor([[0.4797, 0.5203]], grad_fn=<SoftmaxBackward0>)\n",
      "------------------------------------------------------------\n",
      "tensor([[0.5014, 0.4986]], grad_fn=<SoftmaxBackward0>) \n",
      " tensor([[0.5014, 0.4986]], grad_fn=<SoftmaxBackward0>) \n",
      " tensor([[0.5046, 0.4954]], grad_fn=<SoftmaxBackward0>)\n",
      "------------------------------------------------------------\n",
      "tensor([[0.5038, 0.4962]], grad_fn=<SoftmaxBackward0>) \n",
      " tensor([[0.5038, 0.4962]], grad_fn=<SoftmaxBackward0>) \n",
      " tensor([[0.4994, 0.5006]], grad_fn=<SoftmaxBackward0>)\n",
      "------------------------------------------------------------\n",
      "tensor([[0.5332, 0.4668]], grad_fn=<SoftmaxBackward0>) \n",
      " tensor([[0.5332, 0.4668]], grad_fn=<SoftmaxBackward0>) \n",
      " tensor([[0.4722, 0.5278]], grad_fn=<SoftmaxBackward0>)\n",
      "------------------------------------------------------------\n",
      "tensor([[0.5105, 0.4895]], grad_fn=<SoftmaxBackward0>) \n",
      " tensor([[0.5105, 0.4895]], grad_fn=<SoftmaxBackward0>) \n",
      " tensor([[0.4907, 0.5093]], grad_fn=<SoftmaxBackward0>)\n",
      "------------------------------------------------------------\n",
      "tensor([[0.5310, 0.4690]], grad_fn=<SoftmaxBackward0>) \n",
      " tensor([[0.5310, 0.4690]], grad_fn=<SoftmaxBackward0>) \n",
      " tensor([[0.4760, 0.5240]], grad_fn=<SoftmaxBackward0>)\n",
      "------------------------------------------------------------\n",
      "tensor([[0.5052, 0.4948]], grad_fn=<SoftmaxBackward0>) \n",
      " tensor([[0.5052, 0.4948]], grad_fn=<SoftmaxBackward0>) \n",
      " tensor([[0.4918, 0.5082]], grad_fn=<SoftmaxBackward0>)\n",
      "------------------------------------------------------------\n",
      "tensor([[0.4496, 0.5504]], grad_fn=<SoftmaxBackward0>) \n",
      " tensor([[0.4496, 0.5504]], grad_fn=<SoftmaxBackward0>) \n",
      " tensor([[0.5624, 0.4376]], grad_fn=<SoftmaxBackward0>)\n",
      "------------------------------------------------------------\n",
      "tensor([[0.4726, 0.5274]], grad_fn=<SoftmaxBackward0>) \n",
      " tensor([[0.4726, 0.5274]], grad_fn=<SoftmaxBackward0>) \n",
      " tensor([[0.5375, 0.4625]], grad_fn=<SoftmaxBackward0>)\n",
      "------------------------------------------------------------\n",
      "tensor([[0.4822, 0.5178]], grad_fn=<SoftmaxBackward0>) \n",
      " tensor([[0.4822, 0.5178]], grad_fn=<SoftmaxBackward0>) \n",
      " tensor([[0.5226, 0.4774]], grad_fn=<SoftmaxBackward0>)\n",
      "------------------------------------------------------------\n",
      "tensor([[0.5639, 0.4361]], grad_fn=<SoftmaxBackward0>) \n",
      " tensor([[0.5639, 0.4361]], grad_fn=<SoftmaxBackward0>) \n",
      " tensor([[0.4339, 0.5661]], grad_fn=<SoftmaxBackward0>)\n",
      "------------------------------------------------------------\n",
      "tensor([[0.5069, 0.4931]], grad_fn=<SoftmaxBackward0>) \n",
      " tensor([[0.5069, 0.4931]], grad_fn=<SoftmaxBackward0>) \n",
      " tensor([[0.4996, 0.5004]], grad_fn=<SoftmaxBackward0>)\n",
      "------------------------------------------------------------\n",
      "tensor([[0.4996, 0.5004]], grad_fn=<SoftmaxBackward0>) \n",
      " tensor([[0.4996, 0.5004]], grad_fn=<SoftmaxBackward0>) \n",
      " tensor([[0.5062, 0.4938]], grad_fn=<SoftmaxBackward0>)\n",
      "------------------------------------------------------------\n",
      "tensor([[0.4989, 0.5011]], grad_fn=<SoftmaxBackward0>) \n",
      " tensor([[0.4989, 0.5011]], grad_fn=<SoftmaxBackward0>) \n",
      " tensor([[0.5093, 0.4907]], grad_fn=<SoftmaxBackward0>)\n",
      "------------------------------------------------------------\n",
      "tensor([[0.5272, 0.4728]], grad_fn=<SoftmaxBackward0>) \n",
      " tensor([[0.5272, 0.4728]], grad_fn=<SoftmaxBackward0>) \n",
      " tensor([[0.4763, 0.5237]], grad_fn=<SoftmaxBackward0>)\n",
      "------------------------------------------------------------\n",
      "tensor([[0.5024, 0.4976]], grad_fn=<SoftmaxBackward0>) \n",
      " tensor([[0.5024, 0.4976]], grad_fn=<SoftmaxBackward0>) \n",
      " tensor([[0.5044, 0.4956]], grad_fn=<SoftmaxBackward0>)\n",
      "------------------------------------------------------------\n",
      "tensor([[0.4576, 0.5424]], grad_fn=<SoftmaxBackward0>) \n",
      " tensor([[0.4576, 0.5424]], grad_fn=<SoftmaxBackward0>) \n",
      " tensor([[0.5473, 0.4527]], grad_fn=<SoftmaxBackward0>)\n",
      "------------------------------------------------------------\n",
      "tensor([[0.4833, 0.5167]], grad_fn=<SoftmaxBackward0>) \n",
      " tensor([[0.4833, 0.5167]], grad_fn=<SoftmaxBackward0>) \n",
      " tensor([[0.5142, 0.4858]], grad_fn=<SoftmaxBackward0>)\n",
      "------------------------------------------------------------\n",
      "tensor([[0.4877, 0.5123]], grad_fn=<SoftmaxBackward0>) \n",
      " tensor([[0.4877, 0.5123]], grad_fn=<SoftmaxBackward0>) \n",
      " tensor([[0.5157, 0.4843]], grad_fn=<SoftmaxBackward0>)\n",
      "------------------------------------------------------------\n",
      "tensor([[0.5476, 0.4524]], grad_fn=<SoftmaxBackward0>) \n",
      " tensor([[0.5476, 0.4524]], grad_fn=<SoftmaxBackward0>) \n",
      " tensor([[0.4627, 0.5373]], grad_fn=<SoftmaxBackward0>)\n",
      "------------------------------------------------------------\n",
      "tensor([[0.5091, 0.4909]], grad_fn=<SoftmaxBackward0>) \n",
      " tensor([[0.5091, 0.4909]], grad_fn=<SoftmaxBackward0>) \n",
      " tensor([[0.4927, 0.5073]], grad_fn=<SoftmaxBackward0>)\n",
      "------------------------------------------------------------\n",
      "tensor([[0.5290, 0.4710]], grad_fn=<SoftmaxBackward0>) \n",
      " tensor([[0.5290, 0.4710]], grad_fn=<SoftmaxBackward0>) \n",
      " tensor([[0.4732, 0.5268]], grad_fn=<SoftmaxBackward0>)\n",
      "------------------------------------------------------------\n",
      "tensor([[0.5224, 0.4776]], grad_fn=<SoftmaxBackward0>) \n",
      " tensor([[0.5224, 0.4776]], grad_fn=<SoftmaxBackward0>) \n",
      " tensor([[0.4735, 0.5265]], grad_fn=<SoftmaxBackward0>)\n",
      "------------------------------------------------------------\n",
      "tensor([[0.5542, 0.4458]], grad_fn=<SoftmaxBackward0>) \n",
      " tensor([[0.5542, 0.4458]], grad_fn=<SoftmaxBackward0>) \n",
      " tensor([[0.4546, 0.5454]], grad_fn=<SoftmaxBackward0>)\n",
      "------------------------------------------------------------\n",
      "tensor([[0.4828, 0.5172]], grad_fn=<SoftmaxBackward0>) \n",
      " tensor([[0.4828, 0.5172]], grad_fn=<SoftmaxBackward0>) \n",
      " tensor([[0.5179, 0.4821]], grad_fn=<SoftmaxBackward0>)\n",
      "------------------------------------------------------------\n",
      "tensor([[0.5510, 0.4490]], grad_fn=<SoftmaxBackward0>) \n",
      " tensor([[0.5510, 0.4490]], grad_fn=<SoftmaxBackward0>) \n",
      " tensor([[0.4547, 0.5453]], grad_fn=<SoftmaxBackward0>)\n",
      "------------------------------------------------------------\n",
      "tensor([[0.5342, 0.4658]], grad_fn=<SoftmaxBackward0>) \n",
      " tensor([[0.5342, 0.4658]], grad_fn=<SoftmaxBackward0>) \n",
      " tensor([[0.4677, 0.5323]], grad_fn=<SoftmaxBackward0>)\n",
      "------------------------------------------------------------\n",
      "tensor([[0.4793, 0.5207]], grad_fn=<SoftmaxBackward0>) \n",
      " tensor([[0.4793, 0.5207]], grad_fn=<SoftmaxBackward0>) \n",
      " tensor([[0.5223, 0.4777]], grad_fn=<SoftmaxBackward0>)\n",
      "------------------------------------------------------------\n",
      "tensor([[0.4940, 0.5060]], grad_fn=<SoftmaxBackward0>) \n",
      " tensor([[0.4940, 0.5060]], grad_fn=<SoftmaxBackward0>) \n",
      " tensor([[0.4968, 0.5032]], grad_fn=<SoftmaxBackward0>)\n",
      "------------------------------------------------------------\n",
      "tensor([[0.5317, 0.4683]], grad_fn=<SoftmaxBackward0>) \n",
      " tensor([[0.5317, 0.4683]], grad_fn=<SoftmaxBackward0>) \n",
      " tensor([[0.4601, 0.5399]], grad_fn=<SoftmaxBackward0>)\n",
      "------------------------------------------------------------\n",
      "tensor([[0.5337, 0.4663]], grad_fn=<SoftmaxBackward0>) \n",
      " tensor([[0.5337, 0.4663]], grad_fn=<SoftmaxBackward0>) \n",
      " tensor([[0.4641, 0.5359]], grad_fn=<SoftmaxBackward0>)\n",
      "------------------------------------------------------------\n",
      "tensor([[0.5181, 0.4819]], grad_fn=<SoftmaxBackward0>) \n",
      " tensor([[0.5181, 0.4819]], grad_fn=<SoftmaxBackward0>) \n",
      " tensor([[0.4839, 0.5161]], grad_fn=<SoftmaxBackward0>)\n",
      "------------------------------------------------------------\n",
      "tensor([[0.4840, 0.5160]], grad_fn=<SoftmaxBackward0>) \n",
      " tensor([[0.4840, 0.5160]], grad_fn=<SoftmaxBackward0>) \n",
      " tensor([[0.5187, 0.4813]], grad_fn=<SoftmaxBackward0>)\n",
      "------------------------------------------------------------\n",
      "CPU times: user 11.9 s, sys: 3.92 ms, total: 11.9 s\n",
      "Wall time: 1.04 s\n"
     ]
    },
    {
     "name": "stdout",
     "output_type": "stream",
     "text": [
      "tensor([[0.5011, 0.4989]], grad_fn=<SoftmaxBackward0>) \n",
      " tensor([[0.5011, 0.4989]], grad_fn=<SoftmaxBackward0>) \n",
      " tensor([[0.5015, 0.4985]], grad_fn=<SoftmaxBackward0>)\n",
      "------------------------------------------------------------\n",
      "tensor([[0.5148, 0.4852]], grad_fn=<SoftmaxBackward0>) \n",
      " tensor([[0.5148, 0.4852]], grad_fn=<SoftmaxBackward0>) \n",
      " tensor([[0.4902, 0.5098]], grad_fn=<SoftmaxBackward0>)\n",
      "------------------------------------------------------------\n",
      "tensor([[0.4968, 0.5032]], grad_fn=<SoftmaxBackward0>) \n",
      " tensor([[0.4968, 0.5032]], grad_fn=<SoftmaxBackward0>) \n",
      " tensor([[0.5176, 0.4824]], grad_fn=<SoftmaxBackward0>)\n",
      "------------------------------------------------------------\n",
      "tensor([[0.5412, 0.4588]], grad_fn=<SoftmaxBackward0>) \n",
      " tensor([[0.5412, 0.4588]], grad_fn=<SoftmaxBackward0>) \n",
      " tensor([[0.4636, 0.5364]], grad_fn=<SoftmaxBackward0>)\n",
      "------------------------------------------------------------\n",
      "tensor([[0.5042, 0.4958]], grad_fn=<SoftmaxBackward0>) \n",
      " tensor([[0.5042, 0.4958]], grad_fn=<SoftmaxBackward0>) \n",
      " tensor([[0.5033, 0.4967]], grad_fn=<SoftmaxBackward0>)\n",
      "------------------------------------------------------------\n",
      "tensor([[0.4812, 0.5188]], grad_fn=<SoftmaxBackward0>) \n",
      " tensor([[0.4812, 0.5188]], grad_fn=<SoftmaxBackward0>) \n",
      " tensor([[0.5208, 0.4792]], grad_fn=<SoftmaxBackward0>)\n",
      "------------------------------------------------------------\n",
      "tensor([[0.5203, 0.4797]], grad_fn=<SoftmaxBackward0>) \n",
      " tensor([[0.5203, 0.4797]], grad_fn=<SoftmaxBackward0>) \n",
      " tensor([[0.4777, 0.5223]], grad_fn=<SoftmaxBackward0>)\n",
      "------------------------------------------------------------\n",
      "tensor([[0.5244, 0.4756]], grad_fn=<SoftmaxBackward0>) \n",
      " tensor([[0.5244, 0.4756]], grad_fn=<SoftmaxBackward0>) \n",
      " tensor([[0.4821, 0.5179]], grad_fn=<SoftmaxBackward0>)\n",
      "------------------------------------------------------------\n",
      "tensor([[0.4892, 0.5108]], grad_fn=<SoftmaxBackward0>) \n",
      " tensor([[0.4892, 0.5108]], grad_fn=<SoftmaxBackward0>) \n",
      " tensor([[0.5066, 0.4934]], grad_fn=<SoftmaxBackward0>)\n",
      "------------------------------------------------------------\n",
      "tensor([[0.5182, 0.4818]], grad_fn=<SoftmaxBackward0>) \n",
      " tensor([[0.5182, 0.4818]], grad_fn=<SoftmaxBackward0>) \n",
      " tensor([[0.4925, 0.5075]], grad_fn=<SoftmaxBackward0>)\n",
      "------------------------------------------------------------\n",
      "tensor([[0.4994, 0.5006]], grad_fn=<SoftmaxBackward0>) \n",
      " tensor([[0.4994, 0.5006]], grad_fn=<SoftmaxBackward0>) \n",
      " tensor([[0.5039, 0.4961]], grad_fn=<SoftmaxBackward0>)\n",
      "------------------------------------------------------------\n",
      "tensor([[0.5468, 0.4532]], grad_fn=<SoftmaxBackward0>) \n",
      " tensor([[0.5468, 0.4532]], grad_fn=<SoftmaxBackward0>) \n",
      " tensor([[0.4546, 0.5454]], grad_fn=<SoftmaxBackward0>)\n",
      "------------------------------------------------------------\n",
      "tensor([[0.4755, 0.5245]], grad_fn=<SoftmaxBackward0>) \n",
      " tensor([[0.4755, 0.5245]], grad_fn=<SoftmaxBackward0>) \n",
      " tensor([[0.5316, 0.4684]], grad_fn=<SoftmaxBackward0>)\n",
      "------------------------------------------------------------\n",
      "tensor([[0.5076, 0.4924]], grad_fn=<SoftmaxBackward0>) \n",
      " tensor([[0.5076, 0.4924]], grad_fn=<SoftmaxBackward0>) \n",
      " tensor([[0.4985, 0.5015]], grad_fn=<SoftmaxBackward0>)\n",
      "------------------------------------------------------------\n",
      "tensor([[0.5225, 0.4775]], grad_fn=<SoftmaxBackward0>) \n",
      " tensor([[0.5225, 0.4775]], grad_fn=<SoftmaxBackward0>) \n",
      " tensor([[0.4840, 0.5160]], grad_fn=<SoftmaxBackward0>)\n",
      "------------------------------------------------------------\n",
      "tensor([[0.5585, 0.4415]], grad_fn=<SoftmaxBackward0>) \n",
      " tensor([[0.5585, 0.4415]], grad_fn=<SoftmaxBackward0>) \n",
      " tensor([[0.4517, 0.5483]], grad_fn=<SoftmaxBackward0>)\n",
      "------------------------------------------------------------\n",
      "tensor([[0.5123, 0.4877]], grad_fn=<SoftmaxBackward0>) \n",
      " tensor([[0.5123, 0.4877]], grad_fn=<SoftmaxBackward0>) \n",
      " tensor([[0.4909, 0.5091]], grad_fn=<SoftmaxBackward0>)\n",
      "------------------------------------------------------------\n",
      "tensor([[0.4900, 0.5100]], grad_fn=<SoftmaxBackward0>) \n",
      " tensor([[0.4900, 0.5100]], grad_fn=<SoftmaxBackward0>) \n",
      " tensor([[0.5205, 0.4795]], grad_fn=<SoftmaxBackward0>)\n",
      "------------------------------------------------------------\n",
      "tensor([[0.4557, 0.5443]], grad_fn=<SoftmaxBackward0>) \n",
      " tensor([[0.4557, 0.5443]], grad_fn=<SoftmaxBackward0>) \n",
      " tensor([[0.5472, 0.4528]], grad_fn=<SoftmaxBackward0>)\n",
      "------------------------------------------------------------\n",
      "tensor([[0.4403, 0.5597]], grad_fn=<SoftmaxBackward0>) \n",
      " tensor([[0.4403, 0.5597]], grad_fn=<SoftmaxBackward0>) \n",
      " tensor([[0.5636, 0.4364]], grad_fn=<SoftmaxBackward0>)\n",
      "------------------------------------------------------------\n",
      "tensor([[0.5467, 0.4533]], grad_fn=<SoftmaxBackward0>) \n",
      " tensor([[0.5467, 0.4533]], grad_fn=<SoftmaxBackward0>) \n",
      " tensor([[0.4604, 0.5396]], grad_fn=<SoftmaxBackward0>)\n",
      "------------------------------------------------------------\n",
      "tensor([[0.4775, 0.5225]], grad_fn=<SoftmaxBackward0>) \n",
      " tensor([[0.4775, 0.5225]], grad_fn=<SoftmaxBackward0>) \n",
      " tensor([[0.5352, 0.4648]], grad_fn=<SoftmaxBackward0>)\n",
      "------------------------------------------------------------\n",
      "tensor([[0.4907, 0.5093]], grad_fn=<SoftmaxBackward0>) \n",
      " tensor([[0.4907, 0.5093]], grad_fn=<SoftmaxBackward0>) \n",
      " tensor([[0.5111, 0.4889]], grad_fn=<SoftmaxBackward0>)\n",
      "------------------------------------------------------------\n",
      "tensor([[0.4752, 0.5248]], grad_fn=<SoftmaxBackward0>) \n",
      " tensor([[0.4752, 0.5248]], grad_fn=<SoftmaxBackward0>) \n",
      " tensor([[0.5246, 0.4754]], grad_fn=<SoftmaxBackward0>)\n",
      "------------------------------------------------------------\n",
      "tensor([[0.4673, 0.5327]], grad_fn=<SoftmaxBackward0>) \n",
      " tensor([[0.4673, 0.5327]], grad_fn=<SoftmaxBackward0>) \n",
      " tensor([[0.5306, 0.4694]], grad_fn=<SoftmaxBackward0>)\n",
      "------------------------------------------------------------\n",
      "tensor([[0.4991, 0.5009]], grad_fn=<SoftmaxBackward0>) \n",
      " tensor([[0.4991, 0.5009]], grad_fn=<SoftmaxBackward0>) \n",
      " tensor([[0.5042, 0.4958]], grad_fn=<SoftmaxBackward0>)\n",
      "------------------------------------------------------------\n",
      "tensor([[0.4836, 0.5164]], grad_fn=<SoftmaxBackward0>) \n",
      " tensor([[0.4836, 0.5164]], grad_fn=<SoftmaxBackward0>) \n",
      " tensor([[0.5257, 0.4743]], grad_fn=<SoftmaxBackward0>)\n",
      "------------------------------------------------------------\n",
      "tensor([[0.5252, 0.4748]], grad_fn=<SoftmaxBackward0>) \n",
      " tensor([[0.5252, 0.4748]], grad_fn=<SoftmaxBackward0>) \n",
      " tensor([[0.4835, 0.5165]], grad_fn=<SoftmaxBackward0>)\n",
      "------------------------------------------------------------\n",
      "tensor([[0.4834, 0.5166]], grad_fn=<SoftmaxBackward0>) \n",
      " tensor([[0.4834, 0.5166]], grad_fn=<SoftmaxBackward0>) \n",
      " tensor([[0.5238, 0.4762]], grad_fn=<SoftmaxBackward0>)\n",
      "------------------------------------------------------------\n",
      "tensor([[0.4851, 0.5149]], grad_fn=<SoftmaxBackward0>) \n",
      " tensor([[0.4851, 0.5149]], grad_fn=<SoftmaxBackward0>) \n",
      " tensor([[0.5156, 0.4844]], grad_fn=<SoftmaxBackward0>)\n",
      "------------------------------------------------------------\n",
      "tensor([[0.4949, 0.5051]], grad_fn=<SoftmaxBackward0>) \n",
      " tensor([[0.4949, 0.5051]], grad_fn=<SoftmaxBackward0>) \n",
      " tensor([[0.4954, 0.5046]], grad_fn=<SoftmaxBackward0>)\n",
      "------------------------------------------------------------\n",
      "tensor([[0.5009, 0.4991]], grad_fn=<SoftmaxBackward0>) \n",
      " tensor([[0.5009, 0.4991]], grad_fn=<SoftmaxBackward0>) \n",
      " tensor([[0.5011, 0.4989]], grad_fn=<SoftmaxBackward0>)\n",
      "------------------------------------------------------------\n",
      "tensor([[0.4815, 0.5185]], grad_fn=<SoftmaxBackward0>) \n",
      " tensor([[0.4815, 0.5185]], grad_fn=<SoftmaxBackward0>) \n",
      " tensor([[0.5283, 0.4717]], grad_fn=<SoftmaxBackward0>)\n",
      "------------------------------------------------------------\n",
      "tensor([[0.5208, 0.4792]], grad_fn=<SoftmaxBackward0>) \n",
      " tensor([[0.5208, 0.4792]], grad_fn=<SoftmaxBackward0>) \n",
      " tensor([[0.4834, 0.5166]], grad_fn=<SoftmaxBackward0>)\n",
      "------------------------------------------------------------\n",
      "tensor([[0.4934, 0.5066]], grad_fn=<SoftmaxBackward0>) \n",
      " tensor([[0.4934, 0.5066]], grad_fn=<SoftmaxBackward0>) \n",
      " tensor([[0.5061, 0.4939]], grad_fn=<SoftmaxBackward0>)\n",
      "------------------------------------------------------------\n",
      "tensor([[0.5071, 0.4929]], grad_fn=<SoftmaxBackward0>) \n",
      " tensor([[0.5071, 0.4929]], grad_fn=<SoftmaxBackward0>) \n",
      " tensor([[0.5045, 0.4955]], grad_fn=<SoftmaxBackward0>)\n",
      "------------------------------------------------------------\n"
     ]
    },
    {
     "name": "stdout",
     "output_type": "stream",
     "text": [
      "tensor([[0.5261, 0.4739]], grad_fn=<SoftmaxBackward0>) \n",
      " tensor([[0.5261, 0.4739]], grad_fn=<SoftmaxBackward0>) \n",
      " tensor([[0.4767, 0.5233]], grad_fn=<SoftmaxBackward0>)\n",
      "------------------------------------------------------------\n",
      "tensor([[0.4673, 0.5327]], grad_fn=<SoftmaxBackward0>) \n",
      " tensor([[0.4673, 0.5327]], grad_fn=<SoftmaxBackward0>) \n",
      " tensor([[0.5338, 0.4662]], grad_fn=<SoftmaxBackward0>)\n",
      "------------------------------------------------------------\n",
      "tensor([[0.4906, 0.5094]], grad_fn=<SoftmaxBackward0>) \n",
      " tensor([[0.4906, 0.5094]], grad_fn=<SoftmaxBackward0>) \n",
      " tensor([[0.5153, 0.4847]], grad_fn=<SoftmaxBackward0>)\n",
      "------------------------------------------------------------\n",
      "tensor([[0.4326, 0.5674]], grad_fn=<SoftmaxBackward0>) \n",
      " tensor([[0.4326, 0.5674]], grad_fn=<SoftmaxBackward0>) \n",
      " tensor([[0.5734, 0.4266]], grad_fn=<SoftmaxBackward0>)\n",
      "------------------------------------------------------------\n",
      "tensor([[0.4774, 0.5226]], grad_fn=<SoftmaxBackward0>) \n",
      " tensor([[0.4774, 0.5226]], grad_fn=<SoftmaxBackward0>) \n",
      " tensor([[0.5258, 0.4742]], grad_fn=<SoftmaxBackward0>)\n",
      "------------------------------------------------------------\n",
      "tensor([[0.5230, 0.4770]], grad_fn=<SoftmaxBackward0>) \n",
      " tensor([[0.5230, 0.4770]], grad_fn=<SoftmaxBackward0>) \n",
      " tensor([[0.4765, 0.5235]], grad_fn=<SoftmaxBackward0>)\n",
      "------------------------------------------------------------\n",
      "tensor([[0.4455, 0.5545]], grad_fn=<SoftmaxBackward0>) \n",
      " tensor([[0.4455, 0.5545]], grad_fn=<SoftmaxBackward0>) \n",
      " tensor([[0.5640, 0.4360]], grad_fn=<SoftmaxBackward0>)\n",
      "------------------------------------------------------------\n",
      "tensor([[0.5064, 0.4936]], grad_fn=<SoftmaxBackward0>) \n",
      " tensor([[0.5064, 0.4936]], grad_fn=<SoftmaxBackward0>) \n",
      " tensor([[0.4899, 0.5101]], grad_fn=<SoftmaxBackward0>)\n",
      "------------------------------------------------------------\n",
      "tensor([[0.4445, 0.5555]], grad_fn=<SoftmaxBackward0>) \n",
      " tensor([[0.4445, 0.5555]], grad_fn=<SoftmaxBackward0>) \n",
      " tensor([[0.5659, 0.4341]], grad_fn=<SoftmaxBackward0>)\n",
      "------------------------------------------------------------\n",
      "tensor([[0.4925, 0.5075]], grad_fn=<SoftmaxBackward0>) \n",
      " tensor([[0.4925, 0.5075]], grad_fn=<SoftmaxBackward0>) \n",
      " tensor([[0.5183, 0.4817]], grad_fn=<SoftmaxBackward0>)\n",
      "------------------------------------------------------------\n",
      "tensor([[0.5112, 0.4888]], grad_fn=<SoftmaxBackward0>) \n",
      " tensor([[0.5112, 0.4888]], grad_fn=<SoftmaxBackward0>) \n",
      " tensor([[0.4905, 0.5095]], grad_fn=<SoftmaxBackward0>)\n",
      "------------------------------------------------------------\n",
      "tensor([[0.4813, 0.5187]], grad_fn=<SoftmaxBackward0>) \n",
      " tensor([[0.4813, 0.5187]], grad_fn=<SoftmaxBackward0>) \n",
      " tensor([[0.5255, 0.4745]], grad_fn=<SoftmaxBackward0>)\n",
      "------------------------------------------------------------\n",
      "tensor([[0.5253, 0.4747]], grad_fn=<SoftmaxBackward0>) \n",
      " tensor([[0.5253, 0.4747]], grad_fn=<SoftmaxBackward0>) \n",
      " tensor([[0.4772, 0.5228]], grad_fn=<SoftmaxBackward0>)\n",
      "------------------------------------------------------------\n",
      "tensor([[0.5046, 0.4954]], grad_fn=<SoftmaxBackward0>) \n",
      " tensor([[0.5046, 0.4954]], grad_fn=<SoftmaxBackward0>) \n",
      " tensor([[0.4973, 0.5027]], grad_fn=<SoftmaxBackward0>)\n",
      "------------------------------------------------------------\n",
      "tensor([[0.5050, 0.4950]], grad_fn=<SoftmaxBackward0>) \n",
      " tensor([[0.5050, 0.4950]], grad_fn=<SoftmaxBackward0>) \n",
      " tensor([[0.5042, 0.4958]], grad_fn=<SoftmaxBackward0>)\n",
      "------------------------------------------------------------\n",
      "tensor([[0.4844, 0.5156]], grad_fn=<SoftmaxBackward0>) \n",
      " tensor([[0.4844, 0.5156]], grad_fn=<SoftmaxBackward0>) \n",
      " tensor([[0.5212, 0.4788]], grad_fn=<SoftmaxBackward0>)\n",
      "------------------------------------------------------------\n",
      "tensor([[0.5188, 0.4812]], grad_fn=<SoftmaxBackward0>) \n",
      " tensor([[0.5188, 0.4812]], grad_fn=<SoftmaxBackward0>) \n",
      " tensor([[0.4871, 0.5129]], grad_fn=<SoftmaxBackward0>)\n",
      "------------------------------------------------------------\n",
      "tensor([[0.4845, 0.5155]], grad_fn=<SoftmaxBackward0>) \n",
      " tensor([[0.4845, 0.5155]], grad_fn=<SoftmaxBackward0>) \n",
      " tensor([[0.5268, 0.4732]], grad_fn=<SoftmaxBackward0>)\n",
      "------------------------------------------------------------\n",
      "tensor([[0.4283, 0.5717]], grad_fn=<SoftmaxBackward0>) \n",
      " tensor([[0.4283, 0.5717]], grad_fn=<SoftmaxBackward0>) \n",
      " tensor([[0.5747, 0.4253]], grad_fn=<SoftmaxBackward0>)\n",
      "------------------------------------------------------------\n",
      "tensor([[0.5008, 0.4992]], grad_fn=<SoftmaxBackward0>) \n",
      " tensor([[0.5008, 0.4992]], grad_fn=<SoftmaxBackward0>) \n",
      " tensor([[0.5024, 0.4976]], grad_fn=<SoftmaxBackward0>)\n",
      "------------------------------------------------------------\n",
      "tensor([[0.5251, 0.4749]], grad_fn=<SoftmaxBackward0>) \n",
      " tensor([[0.5251, 0.4749]], grad_fn=<SoftmaxBackward0>) \n",
      " tensor([[0.4800, 0.5200]], grad_fn=<SoftmaxBackward0>)\n",
      "------------------------------------------------------------\n",
      "tensor([[0.5232, 0.4768]], grad_fn=<SoftmaxBackward0>) \n",
      " tensor([[0.5232, 0.4768]], grad_fn=<SoftmaxBackward0>) \n",
      " tensor([[0.4925, 0.5075]], grad_fn=<SoftmaxBackward0>)\n",
      "------------------------------------------------------------\n",
      "tensor([[0.4900, 0.5100]], grad_fn=<SoftmaxBackward0>) \n",
      " tensor([[0.4900, 0.5100]], grad_fn=<SoftmaxBackward0>) \n",
      " tensor([[0.5187, 0.4813]], grad_fn=<SoftmaxBackward0>)\n",
      "------------------------------------------------------------\n",
      "tensor([[0.4962, 0.5038]], grad_fn=<SoftmaxBackward0>) \n",
      " tensor([[0.4962, 0.5038]], grad_fn=<SoftmaxBackward0>) \n",
      " tensor([[0.5090, 0.4910]], grad_fn=<SoftmaxBackward0>)\n",
      "------------------------------------------------------------\n",
      "tensor([[0.5431, 0.4569]], grad_fn=<SoftmaxBackward0>) \n",
      " tensor([[0.5431, 0.4569]], grad_fn=<SoftmaxBackward0>) \n",
      " tensor([[0.4626, 0.5374]], grad_fn=<SoftmaxBackward0>)\n",
      "------------------------------------------------------------\n",
      "tensor([[0.5528, 0.4472]], grad_fn=<SoftmaxBackward0>) \n",
      " tensor([[0.5528, 0.4472]], grad_fn=<SoftmaxBackward0>) \n",
      " tensor([[0.4534, 0.5466]], grad_fn=<SoftmaxBackward0>)\n",
      "------------------------------------------------------------\n",
      "tensor([[0.5171, 0.4829]], grad_fn=<SoftmaxBackward0>) \n",
      " tensor([[0.5171, 0.4829]], grad_fn=<SoftmaxBackward0>) \n",
      " tensor([[0.4877, 0.5123]], grad_fn=<SoftmaxBackward0>)\n",
      "------------------------------------------------------------\n",
      "tensor([[0.4966, 0.5034]], grad_fn=<SoftmaxBackward0>) \n",
      " tensor([[0.4966, 0.5034]], grad_fn=<SoftmaxBackward0>) \n",
      " tensor([[0.5013, 0.4987]], grad_fn=<SoftmaxBackward0>)\n",
      "------------------------------------------------------------\n",
      "tensor([[0.4964, 0.5036]], grad_fn=<SoftmaxBackward0>) \n",
      " tensor([[0.4964, 0.5036]], grad_fn=<SoftmaxBackward0>) \n",
      " tensor([[0.5103, 0.4897]], grad_fn=<SoftmaxBackward0>)\n",
      "------------------------------------------------------------\n",
      "tensor([[0.5006, 0.4994]], grad_fn=<SoftmaxBackward0>) \n",
      " tensor([[0.5006, 0.4994]], grad_fn=<SoftmaxBackward0>) \n",
      " tensor([[0.5008, 0.4992]], grad_fn=<SoftmaxBackward0>)\n",
      "------------------------------------------------------------\n",
      "tensor([[0.4713, 0.5287]], grad_fn=<SoftmaxBackward0>) \n",
      " tensor([[0.4713, 0.5287]], grad_fn=<SoftmaxBackward0>) \n",
      " tensor([[0.5272, 0.4728]], grad_fn=<SoftmaxBackward0>)\n",
      "------------------------------------------------------------\n",
      "tensor([[0.5052, 0.4948]], grad_fn=<SoftmaxBackward0>) \n",
      " tensor([[0.5052, 0.4948]], grad_fn=<SoftmaxBackward0>) \n",
      " tensor([[0.4970, 0.5030]], grad_fn=<SoftmaxBackward0>)\n",
      "------------------------------------------------------------\n",
      "tensor([[0.5106, 0.4894]], grad_fn=<SoftmaxBackward0>) \n",
      " tensor([[0.5106, 0.4894]], grad_fn=<SoftmaxBackward0>) \n",
      " tensor([[0.4958, 0.5042]], grad_fn=<SoftmaxBackward0>)\n",
      "------------------------------------------------------------\n",
      "tensor([[0.5104, 0.4896]], grad_fn=<SoftmaxBackward0>) \n",
      " tensor([[0.5104, 0.4896]], grad_fn=<SoftmaxBackward0>) \n",
      " tensor([[0.4913, 0.5087]], grad_fn=<SoftmaxBackward0>)\n",
      "------------------------------------------------------------\n",
      "tensor([[0.5053, 0.4947]], grad_fn=<SoftmaxBackward0>) \n",
      " tensor([[0.5053, 0.4947]], grad_fn=<SoftmaxBackward0>) \n",
      " tensor([[0.5101, 0.4899]], grad_fn=<SoftmaxBackward0>)\n",
      "------------------------------------------------------------\n",
      "tensor([[0.5151, 0.4849]], grad_fn=<SoftmaxBackward0>) \n",
      " tensor([[0.5151, 0.4849]], grad_fn=<SoftmaxBackward0>) \n",
      " tensor([[0.4881, 0.5119]], grad_fn=<SoftmaxBackward0>)\n",
      "------------------------------------------------------------\n"
     ]
    },
    {
     "name": "stdout",
     "output_type": "stream",
     "text": [
      "tensor([[0.5048, 0.4952]], grad_fn=<SoftmaxBackward0>) \n",
      " tensor([[0.5048, 0.4952]], grad_fn=<SoftmaxBackward0>) \n",
      " tensor([[0.5007, 0.4993]], grad_fn=<SoftmaxBackward0>)\n",
      "------------------------------------------------------------\n",
      "tensor([[0.4828, 0.5172]], grad_fn=<SoftmaxBackward0>) \n",
      " tensor([[0.4828, 0.5172]], grad_fn=<SoftmaxBackward0>) \n",
      " tensor([[0.5183, 0.4817]], grad_fn=<SoftmaxBackward0>)\n",
      "------------------------------------------------------------\n",
      "tensor([[0.5081, 0.4919]], grad_fn=<SoftmaxBackward0>) \n",
      " tensor([[0.5081, 0.4919]], grad_fn=<SoftmaxBackward0>) \n",
      " tensor([[0.4977, 0.5023]], grad_fn=<SoftmaxBackward0>)\n",
      "------------------------------------------------------------\n",
      "tensor([[0.4681, 0.5319]], grad_fn=<SoftmaxBackward0>) \n",
      " tensor([[0.4681, 0.5319]], grad_fn=<SoftmaxBackward0>) \n",
      " tensor([[0.5322, 0.4678]], grad_fn=<SoftmaxBackward0>)\n",
      "------------------------------------------------------------\n",
      "tensor([[0.5110, 0.4890]], grad_fn=<SoftmaxBackward0>) \n",
      " tensor([[0.5110, 0.4890]], grad_fn=<SoftmaxBackward0>) \n",
      " tensor([[0.4909, 0.5091]], grad_fn=<SoftmaxBackward0>)\n",
      "------------------------------------------------------------\n",
      "tensor([[0.4966, 0.5034]], grad_fn=<SoftmaxBackward0>) \n",
      " tensor([[0.4966, 0.5034]], grad_fn=<SoftmaxBackward0>) \n",
      " tensor([[0.5114, 0.4886]], grad_fn=<SoftmaxBackward0>)\n",
      "------------------------------------------------------------\n",
      "tensor([[0.5106, 0.4894]], grad_fn=<SoftmaxBackward0>) \n",
      " tensor([[0.5106, 0.4894]], grad_fn=<SoftmaxBackward0>) \n",
      " tensor([[0.4954, 0.5046]], grad_fn=<SoftmaxBackward0>)\n",
      "------------------------------------------------------------\n",
      "tensor([[0.5438, 0.4562]], grad_fn=<SoftmaxBackward0>) \n",
      " tensor([[0.5438, 0.4562]], grad_fn=<SoftmaxBackward0>) \n",
      " tensor([[0.4598, 0.5402]], grad_fn=<SoftmaxBackward0>)\n",
      "------------------------------------------------------------\n",
      "tensor([[0.5235, 0.4765]], grad_fn=<SoftmaxBackward0>) \n",
      " tensor([[0.5235, 0.4765]], grad_fn=<SoftmaxBackward0>) \n",
      " tensor([[0.4792, 0.5208]], grad_fn=<SoftmaxBackward0>)\n",
      "------------------------------------------------------------\n",
      "tensor([[0.4948, 0.5052]], grad_fn=<SoftmaxBackward0>) \n",
      " tensor([[0.4948, 0.5052]], grad_fn=<SoftmaxBackward0>) \n",
      " tensor([[0.5028, 0.4972]], grad_fn=<SoftmaxBackward0>)\n",
      "------------------------------------------------------------\n",
      "tensor([[0.5239, 0.4761]], grad_fn=<SoftmaxBackward0>) \n",
      " tensor([[0.5239, 0.4761]], grad_fn=<SoftmaxBackward0>) \n",
      " tensor([[0.4765, 0.5235]], grad_fn=<SoftmaxBackward0>)\n",
      "------------------------------------------------------------\n",
      "tensor([[0.5344, 0.4656]], grad_fn=<SoftmaxBackward0>) \n",
      " tensor([[0.5344, 0.4656]], grad_fn=<SoftmaxBackward0>) \n",
      " tensor([[0.4658, 0.5342]], grad_fn=<SoftmaxBackward0>)\n",
      "------------------------------------------------------------\n",
      "tensor([[0.4906, 0.5094]], grad_fn=<SoftmaxBackward0>) \n",
      " tensor([[0.4906, 0.5094]], grad_fn=<SoftmaxBackward0>) \n",
      " tensor([[0.5145, 0.4855]], grad_fn=<SoftmaxBackward0>)\n",
      "------------------------------------------------------------\n",
      "tensor([[0.5077, 0.4923]], grad_fn=<SoftmaxBackward0>) \n",
      " tensor([[0.5077, 0.4923]], grad_fn=<SoftmaxBackward0>) \n",
      " tensor([[0.4929, 0.5071]], grad_fn=<SoftmaxBackward0>)\n",
      "------------------------------------------------------------\n",
      "tensor([[0.4990, 0.5010]], grad_fn=<SoftmaxBackward0>) \n",
      " tensor([[0.4990, 0.5010]], grad_fn=<SoftmaxBackward0>) \n",
      " tensor([[0.5058, 0.4942]], grad_fn=<SoftmaxBackward0>)\n",
      "------------------------------------------------------------\n",
      "tensor([[0.5024, 0.4976]], grad_fn=<SoftmaxBackward0>) \n",
      " tensor([[0.5024, 0.4976]], grad_fn=<SoftmaxBackward0>) \n",
      " tensor([[0.5011, 0.4989]], grad_fn=<SoftmaxBackward0>)\n",
      "------------------------------------------------------------\n",
      "CPU times: user 1min 30s, sys: 1.97 ms, total: 1min 30s\n",
      "Wall time: 1.42 s\n"
     ]
    }
   ],
   "source": [
    "%%time\n",
    "\n",
    "for HERO in HERO_TRANSFORM.values():\n",
    "    print(\n",
    "        torch.softmax(model(\n",
    "        (torch.as_tensor([[0, 0, 0, 0, HERO] + [0, 0, 0, 0, 0]]),\n",
    "         torch.as_tensor(5))  # ancient + rapier + immortal rank\n",
    "    ), dim=-1), '\\n',\n",
    "        torch.softmax(model(\n",
    "        (torch.as_tensor([[HERO, 0, 0, 0, 0] + [0, 0, 0, 0, 0]]),\n",
    "         torch.as_tensor(5))  # ancient + rapier + immortal rank\n",
    "    ), dim=-1), '\\n',\n",
    "        torch.softmax(model(\n",
    "        (torch.as_tensor([[0, 0, 0, 0, 0] + [HERO, 0, 0, 0, 0]]),\n",
    "         torch.as_tensor(5))  # ancient + rapier + immortal rank\n",
    "    ), dim=-1),\n",
    "    )\n",
    "    print('-' * 60)"
   ]
  },
  {
   "cell_type": "code",
   "execution_count": 36,
   "id": "47ca415b",
   "metadata": {
    "pycharm": {
     "name": "#%%\n"
    }
   },
   "outputs": [
    {
     "data": {
      "text/plain": [
       "127"
      ]
     },
     "execution_count": 36,
     "metadata": {},
     "output_type": "execute_result"
    }
   ],
   "source": [
    "len(HERO_TRANSFORM)"
   ]
  },
  {
   "cell_type": "code",
   "execution_count": null,
   "id": "c86d67c6",
   "metadata": {
    "pycharm": {
     "name": "#%%\n"
    }
   },
   "outputs": [
    {
     "name": "stdout",
     "output_type": "stream",
     "text": [
      "> \u001b[0;32m/home/yarik/shad/picker/picker/model/training_model.py\u001b[0m(57)\u001b[0;36mplot_stuff\u001b[0;34m()\u001b[0m\n",
      "\u001b[0;32m     55 \u001b[0;31m    \u001b[0;32mif\u001b[0m \u001b[0mlen\u001b[0m\u001b[0;34m(\u001b[0m\u001b[0maccs\u001b[0m\u001b[0;34m)\u001b[0m\u001b[0;34m:\u001b[0m\u001b[0;34m\u001b[0m\u001b[0;34m\u001b[0m\u001b[0m\n",
      "\u001b[0m\u001b[0;32m     56 \u001b[0;31m        \u001b[0;32mfor\u001b[0m \u001b[0midx\u001b[0m \u001b[0;32min\u001b[0m \u001b[0mrange\u001b[0m\u001b[0;34m(\u001b[0m\u001b[0maccs_np\u001b[0m\u001b[0;34m.\u001b[0m\u001b[0mshape\u001b[0m\u001b[0;34m[\u001b[0m\u001b[0;36m1\u001b[0m\u001b[0;34m]\u001b[0m\u001b[0;34m)\u001b[0m\u001b[0;34m:\u001b[0m\u001b[0;34m\u001b[0m\u001b[0;34m\u001b[0m\u001b[0m\n",
      "\u001b[0m\u001b[0;32m---> 57 \u001b[0;31m            \u001b[0max2\u001b[0m\u001b[0;34m.\u001b[0m\u001b[0mplot\u001b[0m\u001b[0;34m(\u001b[0m\u001b[0maccs\u001b[0m\u001b[0;34m[\u001b[0m\u001b[0;34m:\u001b[0m\u001b[0;34m,\u001b[0m \u001b[0midx\u001b[0m\u001b[0;34m]\u001b[0m\u001b[0;34m,\u001b[0m \u001b[0mlabel\u001b[0m \u001b[0;34m=\u001b[0m \u001b[0;34mf'Test dataset number {idx}'\u001b[0m\u001b[0;34m)\u001b[0m\u001b[0;34m\u001b[0m\u001b[0;34m\u001b[0m\u001b[0m\n",
      "\u001b[0m\u001b[0;32m     58 \u001b[0;31m\u001b[0;34m\u001b[0m\u001b[0m\n",
      "\u001b[0m\u001b[0;32m     59 \u001b[0;31m    \u001b[0max2\u001b[0m\u001b[0;34m.\u001b[0m\u001b[0mset_title\u001b[0m\u001b[0;34m(\u001b[0m\u001b[0;34m\"Accs on test\"\u001b[0m\u001b[0;34m)\u001b[0m\u001b[0;34m\u001b[0m\u001b[0;34m\u001b[0m\u001b[0m\n",
      "\u001b[0m\n",
      "ipdb> idx\n",
      "0\n",
      "ipdb> accs[:, idx]\n",
      "*** TypeError: list indices must be integers or slices, not tuple\n"
     ]
    }
   ],
   "source": [
    "%debug"
   ]
  },
  {
   "cell_type": "code",
   "execution_count": 32,
   "id": "21382dc0",
   "metadata": {
    "pycharm": {
     "name": "#%%\n"
    }
   },
   "outputs": [],
   "source": [
    "import torch\n",
    "A = torch.cat((torch.ones(512, 5, 1), torch.zeros(512, 5, 1)), dim=-2)"
   ]
  },
  {
   "cell_type": "code",
   "execution_count": 35,
   "id": "e96b3a05",
   "metadata": {
    "pycharm": {
     "name": "#%%\n"
    }
   },
   "outputs": [
    {
     "data": {
      "text/plain": [
       "torch.Size([512, 10, 64])"
      ]
     },
     "execution_count": 35,
     "metadata": {},
     "output_type": "execute_result"
    }
   ],
   "source": [
    "torch.cat((torch.rand(512, 10, 63), A), dim=-1).shape"
   ]
  },
  {
   "cell_type": "code",
   "execution_count": 60,
   "id": "9e2ec1e8",
   "metadata": {
    "pycharm": {
     "name": "#%%\n"
    }
   },
   "outputs": [],
   "source": [
    "emb = torch.cat(embs).reshape(1, 10, -1)\n",
    "res = model(emb, None)"
   ]
  },
  {
   "cell_type": "code",
   "execution_count": 61,
   "id": "8f5db74b",
   "metadata": {
    "pycharm": {
     "name": "#%%\n"
    }
   },
   "outputs": [
    {
     "data": {
      "text/plain": [
       "tensor([[0.4648]], grad_fn=<AddmmBackward0>)"
      ]
     },
     "execution_count": 61,
     "metadata": {},
     "output_type": "execute_result"
    }
   ],
   "source": [
    "res"
   ]
  },
  {
   "cell_type": "code",
   "execution_count": 56,
   "id": "cc9862da",
   "metadata": {
    "pycharm": {
     "name": "#%%\n"
    }
   },
   "outputs": [],
   "source": [
    "a = torch.rand(1, 10, 64)\n",
    "b = torch.rand(1, 1, 64)"
   ]
  },
  {
   "cell_type": "code",
   "execution_count": 57,
   "id": "2ee0a0e9",
   "metadata": {
    "pycharm": {
     "name": "#%%\n"
    }
   },
   "outputs": [
    {
     "data": {
      "text/plain": [
       "tensor([[[0.0823, 0.2277, 0.4079, 0.9386, 0.0742, 0.7202, 0.3607, 0.9005,\n",
       "          0.1608, 0.2063, 0.7980, 0.9442, 0.0333, 0.5649, 0.2936, 0.4545,\n",
       "          0.4625, 0.3905, 0.5795, 0.6908, 0.0839, 0.7522, 0.9392, 0.1067,\n",
       "          0.3177, 0.5344, 0.1385, 0.7366, 0.2210, 0.7947, 0.2109, 0.0716,\n",
       "          0.8087, 0.5818, 0.2675, 0.9628, 0.7965, 0.6796, 0.1220, 0.6453,\n",
       "          0.2468, 0.2309, 0.3061, 0.2880, 0.1987, 0.7911, 0.5555, 0.4565,\n",
       "          0.8999, 0.4815, 0.6246, 0.6285, 0.7902, 0.0816, 0.5806, 0.1977,\n",
       "          0.6592, 0.5274, 0.3737, 0.8188, 0.5043, 0.8749, 0.7966, 0.2408],\n",
       "         [0.9915, 0.3214, 0.3582, 0.4512, 0.1294, 0.6715, 0.8483, 0.3055,\n",
       "          0.6333, 0.0336, 0.1905, 0.7927, 0.0481, 0.4222, 0.6530, 0.4618,\n",
       "          0.4607, 0.9218, 0.1592, 0.9127, 0.1080, 0.6349, 0.9745, 0.8846,\n",
       "          0.1505, 0.5538, 0.9617, 0.9514, 0.5724, 0.8122, 0.7971, 0.8665,\n",
       "          0.4984, 0.1422, 0.6348, 0.0502, 0.9907, 0.4200, 0.7669, 0.3436,\n",
       "          0.3604, 0.8022, 0.5990, 0.7234, 0.7494, 0.0636, 0.9351, 0.0980,\n",
       "          0.0789, 0.2025, 0.9868, 0.8937, 0.0378, 0.8142, 0.0284, 0.4992,\n",
       "          0.1438, 0.5016, 0.7600, 0.4765, 0.3734, 0.1405, 0.7795, 0.0251],\n",
       "         [0.5293, 0.2018, 0.0844, 0.1540, 0.4002, 0.0924, 0.3899, 0.0934,\n",
       "          0.9307, 0.3287, 0.7514, 0.4496, 0.7419, 0.9695, 0.0035, 0.2762,\n",
       "          0.4364, 0.1528, 0.5141, 0.1903, 0.7141, 0.2052, 0.9015, 0.6373,\n",
       "          0.7493, 0.2597, 0.1370, 0.8378, 0.6878, 0.5573, 0.7830, 0.4222,\n",
       "          0.5416, 0.4588, 0.3011, 0.6952, 0.1071, 0.0123, 0.3640, 0.8499,\n",
       "          0.2097, 0.8281, 0.0107, 0.8978, 0.5376, 0.9874, 0.0979, 0.5948,\n",
       "          0.2382, 0.4197, 0.8722, 0.6351, 0.3813, 0.6243, 0.4186, 0.9045,\n",
       "          0.9252, 0.7115, 0.0873, 0.0066, 0.2528, 0.5448, 0.1491, 0.0279],\n",
       "         [0.6541, 0.7755, 0.9124, 0.2386, 0.9303, 0.6394, 0.6280, 0.2859,\n",
       "          0.3803, 0.4762, 0.2397, 0.4504, 0.5789, 0.6026, 0.5671, 0.6471,\n",
       "          0.6757, 0.9011, 0.4261, 0.6587, 0.5551, 0.4626, 0.3373, 0.5324,\n",
       "          0.4290, 0.6122, 0.8378, 0.4355, 0.3013, 0.8567, 0.5951, 0.6261,\n",
       "          0.3150, 0.6316, 0.7142, 0.6939, 0.1311, 0.6096, 0.4852, 0.6194,\n",
       "          0.3905, 0.9814, 0.8093, 0.0617, 0.5442, 0.3501, 0.7690, 0.0505,\n",
       "          0.7404, 0.6769, 0.5061, 0.9917, 0.2908, 0.6524, 0.3490, 0.6030,\n",
       "          0.0825, 0.6668, 0.6774, 0.7115, 0.0675, 0.0876, 0.2570, 0.6371],\n",
       "         [0.5840, 0.5832, 0.0052, 0.6166, 0.7060, 0.7878, 0.4759, 0.0299,\n",
       "          0.1702, 0.0015, 0.0524, 0.3143, 0.5947, 0.7588, 0.5520, 0.7063,\n",
       "          0.8212, 0.5072, 0.0109, 0.8222, 0.7773, 0.5531, 0.7468, 0.5336,\n",
       "          0.8232, 0.1228, 0.4631, 0.3645, 0.1787, 0.0723, 0.5087, 0.6076,\n",
       "          0.3451, 0.1867, 0.5293, 0.0898, 0.4184, 0.0594, 0.2631, 0.3308,\n",
       "          0.3140, 0.5641, 0.2176, 0.3231, 0.4512, 0.3237, 0.6240, 0.6286,\n",
       "          0.5233, 0.8640, 0.4884, 0.6676, 0.7101, 0.8141, 0.4087, 0.1198,\n",
       "          0.7689, 0.4025, 0.4457, 0.7073, 0.8809, 0.1204, 0.2977, 0.6291],\n",
       "         [0.7602, 0.1941, 0.1814, 0.8357, 0.2552, 0.1835, 0.1808, 0.7550,\n",
       "          0.8094, 0.4333, 0.2803, 0.9677, 0.8110, 0.2620, 0.1285, 0.8938,\n",
       "          0.0743, 0.1784, 0.2492, 0.6834, 0.4075, 0.4397, 0.4646, 0.8063,\n",
       "          0.2839, 0.3847, 0.2669, 0.3905, 0.5618, 0.5127, 0.4858, 0.3710,\n",
       "          0.7547, 0.1292, 0.6356, 0.9540, 0.7763, 0.6079, 0.0441, 0.5579,\n",
       "          0.8873, 0.4301, 0.5735, 0.3538, 0.4627, 0.7614, 0.0287, 0.9333,\n",
       "          0.9668, 0.2661, 0.9772, 0.7166, 0.2218, 0.8815, 0.9719, 0.4611,\n",
       "          0.4940, 0.3266, 0.7658, 0.0948, 0.3093, 0.3734, 0.6214, 0.0051],\n",
       "         [0.9832, 0.9382, 0.5820, 0.7930, 0.5799, 0.2555, 0.0709, 0.6375,\n",
       "          0.6401, 0.2857, 0.5358, 0.9106, 0.0392, 0.3800, 0.1549, 0.4879,\n",
       "          0.3350, 0.4970, 0.5349, 0.9027, 0.2923, 0.0475, 0.7000, 0.3203,\n",
       "          0.9962, 0.6034, 0.9463, 0.6152, 0.8277, 0.8009, 0.2342, 0.6138,\n",
       "          0.7191, 0.3468, 0.8755, 0.5255, 0.2566, 0.4009, 0.6918, 0.1554,\n",
       "          0.0107, 0.6356, 0.5246, 0.0458, 0.4779, 0.5567, 0.3952, 0.4024,\n",
       "          0.4245, 0.0828, 0.5241, 0.8014, 0.6057, 0.3194, 0.4891, 0.5413,\n",
       "          0.8584, 0.6335, 0.7113, 0.0176, 0.8114, 0.7749, 0.5689, 0.9057],\n",
       "         [0.7721, 0.7235, 0.2954, 0.0845, 0.5317, 0.1750, 0.1739, 0.9535,\n",
       "          0.6139, 0.5855, 0.7121, 0.7196, 0.8468, 0.1695, 0.2179, 0.2407,\n",
       "          0.4400, 0.9256, 0.3844, 0.5744, 0.3890, 0.6835, 0.6770, 0.3374,\n",
       "          0.4410, 0.3060, 0.3574, 0.7333, 0.4196, 0.4949, 0.5866, 0.4988,\n",
       "          0.1147, 0.1655, 0.0610, 0.0343, 0.0890, 0.3882, 0.0370, 0.2255,\n",
       "          0.9709, 0.2417, 0.9176, 0.1296, 0.1308, 0.5599, 0.8546, 0.0740,\n",
       "          0.3754, 0.1464, 0.4440, 0.5568, 0.1369, 0.2860, 0.0443, 0.6356,\n",
       "          0.9716, 0.3537, 0.3594, 0.1452, 0.3204, 0.0831, 0.4884, 0.9456],\n",
       "         [0.1998, 0.9068, 0.1662, 0.4164, 0.6412, 0.6337, 0.5139, 0.3187,\n",
       "          0.5103, 0.1513, 0.9069, 0.2180, 0.8722, 0.8175, 0.7816, 0.2586,\n",
       "          0.4479, 0.9598, 0.8401, 0.7611, 0.7954, 0.3649, 0.2509, 0.9704,\n",
       "          0.3266, 0.8086, 0.0696, 0.7843, 0.9367, 0.7041, 0.2391, 0.7051,\n",
       "          0.5108, 0.9436, 0.8010, 0.4399, 0.3961, 0.1482, 0.5670, 0.4278,\n",
       "          0.0119, 0.7118, 0.4939, 0.9925, 0.3332, 0.6947, 0.7053, 0.4467,\n",
       "          0.0016, 0.9353, 0.3694, 0.8494, 0.5796, 0.2367, 0.5490, 0.8449,\n",
       "          0.3541, 0.0894, 0.3926, 0.7148, 0.9888, 0.9692, 0.3940, 0.6058],\n",
       "         [0.9100, 0.2578, 0.5826, 0.3895, 0.4134, 0.4130, 0.7349, 0.0481,\n",
       "          0.7046, 0.7964, 0.4912, 0.0829, 0.5716, 0.5697, 0.8222, 0.8767,\n",
       "          0.7744, 0.0132, 0.2521, 0.6484, 0.3196, 0.9287, 0.9899, 0.6279,\n",
       "          0.3818, 0.0191, 0.4003, 0.6112, 0.9591, 0.9400, 0.3162, 0.9679,\n",
       "          0.0052, 0.6624, 0.1612, 0.8896, 0.4765, 0.5536, 0.7186, 0.6055,\n",
       "          0.9824, 0.3476, 0.1739, 0.3153, 0.2274, 0.1223, 0.0286, 0.9991,\n",
       "          0.3790, 0.5383, 0.3131, 0.9669, 0.7223, 0.2552, 0.2516, 0.8079,\n",
       "          0.9995, 0.2567, 0.2572, 0.3158, 0.2374, 0.9754, 0.5225, 0.9547],\n",
       "         [0.7513, 0.6373, 0.6079, 0.5457, 0.0253, 0.5822, 0.0145, 0.2817,\n",
       "          0.6781, 0.1516, 0.5298, 0.4035, 0.4687, 0.8971, 0.7024, 0.3031,\n",
       "          0.8951, 0.9295, 0.5192, 0.0371, 0.6743, 0.9490, 0.5785, 0.3177,\n",
       "          0.3501, 0.7659, 0.8354, 0.9838, 0.2668, 0.9544, 0.1281, 0.8120,\n",
       "          0.7903, 0.9839, 0.7097, 0.6038, 0.6920, 0.4135, 0.3742, 0.5870,\n",
       "          0.5387, 0.8026, 0.0936, 0.7274, 0.8193, 0.4428, 0.5523, 0.1838,\n",
       "          0.1538, 0.6625, 0.0537, 0.2950, 0.7551, 0.1240, 0.7675, 0.0023,\n",
       "          0.9708, 0.7863, 0.9456, 0.4821, 0.0328, 0.0438, 0.7103, 0.9658]]])"
      ]
     },
     "execution_count": 57,
     "metadata": {},
     "output_type": "execute_result"
    }
   ],
   "source": [
    "torch.cat((a, b), dim=1)"
   ]
  },
  {
   "cell_type": "code",
   "execution_count": null,
   "id": "04300dd2",
   "metadata": {
    "pycharm": {
     "name": "#%%\n"
    }
   },
   "outputs": [],
   "source": []
  },
  {
   "cell_type": "code",
   "execution_count": null,
   "id": "841cc37d",
   "metadata": {
    "pycharm": {
     "name": "#%%\n"
    }
   },
   "outputs": [],
   "source": []
  }
 ],
 "metadata": {
  "kernelspec": {
   "display_name": "Python 3 (ipykernel)",
   "language": "python",
   "name": "python3"
  },
  "language_info": {
   "codemirror_mode": {
    "name": "ipython",
    "version": 3
   },
   "file_extension": ".py",
   "mimetype": "text/x-python",
   "name": "python",
   "nbconvert_exporter": "python",
   "pygments_lexer": "ipython3",
   "version": "3.10.8"
  },
  "toc": {
   "base_numbering": 1,
   "nav_menu": {},
   "number_sections": true,
   "sideBar": true,
   "skip_h1_title": false,
   "title_cell": "Table of Contents",
   "title_sidebar": "Contents",
   "toc_cell": false,
   "toc_position": {},
   "toc_section_display": true,
   "toc_window_display": false
  },
  "varInspector": {
   "cols": {
    "lenName": 16,
    "lenType": 16,
    "lenVar": 40
   },
   "kernels_config": {
    "python": {
     "delete_cmd_postfix": "",
     "delete_cmd_prefix": "del ",
     "library": "var_list.py",
     "varRefreshCmd": "print(var_dic_list())"
    },
    "r": {
     "delete_cmd_postfix": ") ",
     "delete_cmd_prefix": "rm(",
     "library": "var_list.r",
     "varRefreshCmd": "cat(var_dic_list()) "
    }
   },
   "types_to_exclude": [
    "module",
    "function",
    "builtin_function_or_method",
    "instance",
    "_Feature"
   ],
   "window_display": false
  }
 },
 "nbformat": 4,
 "nbformat_minor": 5
}
